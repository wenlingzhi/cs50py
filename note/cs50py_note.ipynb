{
  "nbformat": 4,
  "nbformat_minor": 0,
  "metadata": {
    "colab": {
      "provenance": [],
      "collapsed_sections": [
        "3ug2DgTcv_1M",
        "7NufYw42OGhJ",
        "Is0BC2vtyoi3",
        "lO4LNR0_1uzq",
        "I518ARsu3T4p",
        "8KeV2emH84zG",
        "y4XnV0kp-NPE",
        "u_SJxEKiKCTF",
        "95Hpl3VAK1Xt",
        "zADzUSxWg2kz",
        "xWZgBc1ejSIv"
      ]
    },
    "kernelspec": {
      "name": "python3",
      "display_name": "Python 3"
    },
    "language_info": {
      "name": "python"
    }
  },
  "cells": [
    {
      "cell_type": "markdown",
      "source": [
        "# lecture 1"
      ],
      "metadata": {
        "id": "OCX_wcl6r_6G"
      }
    },
    {
      "cell_type": "markdown",
      "source": [
        "## print()"
      ],
      "metadata": {
        "id": "3ug2DgTcv_1M"
      }
    },
    {
      "cell_type": "code",
      "execution_count": null,
      "metadata": {
        "colab": {
          "base_uri": "https://localhost:8080/"
        },
        "id": "gM1P_pvajpC-",
        "outputId": "fb2aa261-f9db-4427-9e95-4793b6f26161"
      },
      "outputs": [
        {
          "name": "stdout",
          "output_type": "stream",
          "text": [
            "name: David\n"
          ]
        }
      ],
      "source": [
        "name = input(\"name: \")"
      ]
    },
    {
      "cell_type": "code",
      "source": [
        "print(\"hello \"+name)"
      ],
      "metadata": {
        "colab": {
          "base_uri": "https://localhost:8080/"
        },
        "id": "ccfJwnSzjyiy",
        "outputId": "d17dd682-5e94-4143-c76d-cf5471815261"
      },
      "execution_count": null,
      "outputs": [
        {
          "output_type": "stream",
          "name": "stdout",
          "text": [
            "hello David\n"
          ]
        }
      ]
    },
    {
      "cell_type": "code",
      "source": [
        "print(\"hello \",name)"
      ],
      "metadata": {
        "colab": {
          "base_uri": "https://localhost:8080/"
        },
        "id": "A9VxaCDjj7RE",
        "outputId": "14a0da94-75f4-4f19-beed-d20d68074802"
      },
      "execution_count": null,
      "outputs": [
        {
          "output_type": "stream",
          "name": "stdout",
          "text": [
            "hello  David\n"
          ]
        }
      ]
    },
    {
      "cell_type": "code",
      "source": [
        "print(f\"hello {name}\")"
      ],
      "metadata": {
        "colab": {
          "base_uri": "https://localhost:8080/"
        },
        "id": "e78-YFMPkAj6",
        "outputId": "e4ce8c6d-88b1-4de2-a9ff-06dfc97c1df7"
      },
      "execution_count": null,
      "outputs": [
        {
          "output_type": "stream",
          "name": "stdout",
          "text": [
            "hello David\n"
          ]
        }
      ]
    },
    {
      "cell_type": "code",
      "source": [
        "print(\"hello \",end = \"\")\n",
        "print(name)"
      ],
      "metadata": {
        "colab": {
          "base_uri": "https://localhost:8080/"
        },
        "id": "y2viDyk1kNIN",
        "outputId": "3905e46c-a465-44d7-9787-ba011a592acf"
      },
      "execution_count": null,
      "outputs": [
        {
          "output_type": "stream",
          "name": "stdout",
          "text": [
            "hello David\n"
          ]
        }
      ]
    },
    {
      "cell_type": "code",
      "source": [
        "print(\"hello\",name,sep = \"??\")"
      ],
      "metadata": {
        "colab": {
          "base_uri": "https://localhost:8080/"
        },
        "id": "s6jxGFBcnQhU",
        "outputId": "d574afdb-16c2-40a2-f32e-d92f05b61175"
      },
      "execution_count": null,
      "outputs": [
        {
          "output_type": "stream",
          "name": "stdout",
          "text": [
            "hello??David\n"
          ]
        }
      ]
    },
    {
      "cell_type": "code",
      "source": [
        "print(\"hello, my \\\"friend\\\"\")"
      ],
      "metadata": {
        "colab": {
          "base_uri": "https://localhost:8080/"
        },
        "id": "WKvvSFvvsYw0",
        "outputId": "9bf07e00-f26d-4e35-c7d2-d6496ae19900"
      },
      "execution_count": null,
      "outputs": [
        {
          "output_type": "stream",
          "name": "stdout",
          "text": [
            "hello, my \"friend\"\n"
          ]
        }
      ]
    },
    {
      "cell_type": "markdown",
      "source": [
        "## str常见方法"
      ],
      "metadata": {
        "id": "pGsaxAIlhAsn"
      }
    },
    {
      "cell_type": "markdown",
      "source": [
        "### 字母大小写转换"
      ],
      "metadata": {
        "id": "7NufYw42OGhJ"
      }
    },
    {
      "cell_type": "markdown",
      "source": [
        "1. **upper() 和 lower() 方法**：\n",
        "   - `upper()` 方法将字符串中的所有字母转换为大写。\n",
        "   - `lower()` 方法将字符串中的所有字母转换为小写。\n",
        "\n",
        "   ```python\n",
        "   s = \"Hello World\"\n",
        "   print(s.upper())  # 输出: HELLO WORLD\n",
        "   print(s.lower())  # 输出: hello world\n",
        "   ```\n",
        "\n",
        "2. **capitalize() 方法**：\n",
        "   - `capitalize()` 方法将字符串的第一个字符转换为大写，其余字符转换为小写。\n",
        "\n",
        "   ```python\n",
        "   s = \"hello world\"\n",
        "   print(s.capitalize())  # 输出: Hello world\n",
        "   ```\n",
        "\n",
        "3. **title() 方法**：\n",
        "   - `title()` 方法将字符串中每个单词的首字母大写，其余字母小写。\n",
        "\n",
        "   ```python\n",
        "   s = \"hello world\"\n",
        "   print(s.title())  # 输出: Hello World\n",
        "   ```\n",
        "\n",
        "4. **swapcase() 方法**：\n",
        "   - `swapcase()` 方法用于将字符串中大写转换为小写，小写转换为大写。\n",
        "\n",
        "   ```python\n",
        "   s = \"Hello World\"\n",
        "   print(s.swapcase())  # 输出: hELLO wORLD\n",
        "   ```"
      ],
      "metadata": {
        "id": "8agz2135N1Uc"
      }
    },
    {
      "cell_type": "markdown",
      "source": [
        "### strip() 消除字符串左右两边的空格"
      ],
      "metadata": {
        "id": "Is0BC2vtyoi3"
      }
    },
    {
      "cell_type": "code",
      "source": [
        "name = input(\"what's your name?\")\n",
        "name = name.strip().capitalize()\n",
        "# strip(): with no more space in name，\n",
        "# 只能消除字符串左右两边的空格，而不能消除中间的空格。\n",
        "print(f\"hello, {name}\")"
      ],
      "metadata": {
        "colab": {
          "base_uri": "https://localhost:8080/"
        },
        "id": "GYMxBdLlvzTS",
        "outputId": "15ad490c-faac-4e31-dd55-37fef838e0cf"
      },
      "execution_count": null,
      "outputs": [
        {
          "output_type": "stream",
          "name": "stdout",
          "text": [
            "what's your name?  david\n",
            "hello, David\n"
          ]
        }
      ]
    },
    {
      "cell_type": "code",
      "source": [
        "name = input(\"what's your name?\")\n",
        "name = name.strip().title()\n",
        "#title():Capitalizing all the first letters.\n",
        "\n",
        "print(f\"hello, {name}\")"
      ],
      "metadata": {
        "colab": {
          "base_uri": "https://localhost:8080/"
        },
        "id": "t6TWksBny5g9",
        "outputId": "2adcfca6-7dd6-4232-a21c-3fcf8495c905"
      },
      "execution_count": null,
      "outputs": [
        {
          "output_type": "stream",
          "name": "stdout",
          "text": [
            "what's your name?   david motta\n",
            "hello, David Motta\n"
          ]
        }
      ]
    },
    {
      "cell_type": "code",
      "source": [
        "# you can even put all of them together\n",
        "name = input(\"what's your name?\").strip().title()\n",
        "\n",
        "print(f\"hello, {name}\")"
      ],
      "metadata": {
        "colab": {
          "base_uri": "https://localhost:8080/"
        },
        "id": "fa6jeroBz3In",
        "outputId": "e6bd916e-29c7-4bda-aecf-ca49954fc398"
      },
      "execution_count": null,
      "outputs": [
        {
          "output_type": "stream",
          "name": "stdout",
          "text": [
            "what's your name?  py py  py\n",
            "hello, Py Py  Py\n"
          ]
        }
      ]
    },
    {
      "cell_type": "markdown",
      "source": [
        "### split（）<br>\n",
        "`split()` 方法是将字符串按照指定的分隔符拆分成一个数组。\n",
        "\n",
        "- 例如，如果有一个字符串 `'apple,banana,cherry'` ，使用 `split(',')` ，它会按照逗号 `,` 进行分割，得到一个包含 `['apple', 'banana', 'cherry']` 的数组。\n",
        "\n",
        "- 如果不指定分隔符，`split()` 方法默认按照空白字符（包括空格、制表符和换行符）进行分割。\n",
        "\n",
        "以下是示例代码："
      ],
      "metadata": {
        "id": "lO4LNR0_1uzq"
      }
    },
    {
      "cell_type": "code",
      "source": [
        "string = \"apple,banana,cherry\"\n",
        "split_result = string.split(',')\n",
        "print(split_result)  # 输出: ['apple', 'banana', 'cherry']"
      ],
      "metadata": {
        "colab": {
          "base_uri": "https://localhost:8080/"
        },
        "id": "KSGfL4-m2APw",
        "outputId": "b460e505-2a69-46c6-e995-17a041e778d3"
      },
      "execution_count": null,
      "outputs": [
        {
          "output_type": "stream",
          "name": "stdout",
          "text": [
            "['apple', 'banana', 'cherry']\n"
          ]
        }
      ]
    },
    {
      "cell_type": "code",
      "source": [
        "name = input(\"What's your name? \").strip().title()\n",
        "first, last = name.split(\" \")\n",
        "\n",
        "print(f\"hello, {first}\")"
      ],
      "metadata": {
        "colab": {
          "base_uri": "https://localhost:8080/"
        },
        "id": "7AvRXpYJ0RJ5",
        "outputId": "08c5b94c-61a5-44aa-a2eb-53ee016a76e6"
      },
      "execution_count": null,
      "outputs": [
        {
          "output_type": "stream",
          "name": "stdout",
          "text": [
            "What's your name? david bob\n",
            "hello, David\n"
          ]
        }
      ]
    },
    {
      "cell_type": "markdown",
      "source": [
        "### str.join（iterable） 将序列中的元素以指定的字符串连接成一个新的字符串"
      ],
      "metadata": {
        "id": "cm55frBPhdkV"
      }
    },
    {
      "cell_type": "markdown",
      "source": [
        "`join` 方法的 `iterable` 参数可以是任何可迭代对象，包括但不限于以下类型：\n",
        "\n",
        "1. **列表 (List)**：例如 `['apple', 'banana', 'cherry']`。\n",
        "2. **元组 (Tuple)**：例如 `('apple', 'banana', 'cherry')`。\n",
        "3. **集合 (Set)**：例如 `{'apple', 'banana', 'cherry'}`。注意，集合是无序的，所以结果字符串的顺序可能会不同。\n",
        "4. **生成器表达式 (Generator Expression)**：例如 `(char for char in 'hello')`。生成器表达式是一种轻量级的迭代器，它可以被 `join` 方法直接使用。\n",
        "5. **字符串 (String)**：虽然字符串本身也是一个序列，但是在使用 `join` 方法时，它会被视为一个字符序列，例如 `'hello'`。\n",
        "\n",
        "在实际应用中，`join` 方法最常用于将**字符串列表**或其他可迭代对象的元素连接成一个单独的字符串。"
      ],
      "metadata": {
        "id": "3uYmuOMwiCLV"
      }
    },
    {
      "cell_type": "code",
      "source": [
        "words = ['Hello', 'world', 'this', 'is', 'join', 'example']\n",
        "result = ', '.join(words)\n",
        "print(result)  # 输出为: Hello, world, this, is, join, example"
      ],
      "metadata": {
        "colab": {
          "base_uri": "https://localhost:8080/"
        },
        "id": "N0h2q44shXek",
        "outputId": "8651600c-37af-4323-c62f-32857f41fd5d"
      },
      "execution_count": null,
      "outputs": [
        {
          "output_type": "stream",
          "name": "stdout",
          "text": [
            "Hello, world, this, is, join, example\n"
          ]
        }
      ]
    },
    {
      "cell_type": "markdown",
      "source": [
        "在这个例子中，', ' 是分隔符，join 方法将列表 words 中的各个元素用 ', ' 连接起来形成一个新的字符串并赋给 result 变量。"
      ],
      "metadata": {
        "id": "_51Wfz3GhrOb"
      }
    },
    {
      "cell_type": "markdown",
      "source": [
        "## int"
      ],
      "metadata": {
        "id": "I518ARsu3T4p"
      }
    },
    {
      "cell_type": "markdown",
      "source": [
        "直接+会当成字符串黏在一起"
      ],
      "metadata": {
        "id": "Dr5MhFvL66fg"
      }
    },
    {
      "cell_type": "code",
      "source": [
        "x = input()\n",
        "y = input()\n",
        "z = x+y\n",
        "print(z)"
      ],
      "metadata": {
        "colab": {
          "base_uri": "https://localhost:8080/"
        },
        "id": "xM7ozkCg3CWv",
        "outputId": "3230c66c-ee34-4a78-fcf2-630cc9d3dbec"
      },
      "execution_count": null,
      "outputs": [
        {
          "output_type": "stream",
          "name": "stdout",
          "text": [
            "1\n",
            "2\n",
            "12\n"
          ]
        }
      ]
    },
    {
      "cell_type": "markdown",
      "source": [
        "str -> int; int（x）进行转换"
      ],
      "metadata": {
        "id": "mrsIgGtX69xK"
      }
    },
    {
      "cell_type": "code",
      "source": [
        "x = input()\n",
        "y = input()\n",
        "z = int(x) + int(y)\n",
        "print(z)"
      ],
      "metadata": {
        "colab": {
          "base_uri": "https://localhost:8080/"
        },
        "id": "ujkuCfM_3S4t",
        "outputId": "ac28a018-6e61-4bb5-aa3c-e5516ccfd700"
      },
      "execution_count": null,
      "outputs": [
        {
          "output_type": "stream",
          "name": "stdout",
          "text": [
            "1\n",
            "2\n",
            "3\n"
          ]
        }
      ]
    },
    {
      "cell_type": "code",
      "source": [
        "x = int(input())\n",
        "y = int(input())\n",
        "print(x + y)"
      ],
      "metadata": {
        "colab": {
          "base_uri": "https://localhost:8080/"
        },
        "id": "_J9yZ4R77Gzo",
        "outputId": "a0eb1c79-39d0-41d2-ab7a-2439a85f375f"
      },
      "execution_count": null,
      "outputs": [
        {
          "output_type": "stream",
          "name": "stdout",
          "text": [
            "1\n",
            "2\n",
            "3\n"
          ]
        }
      ]
    },
    {
      "cell_type": "code",
      "source": [
        "x = input()\n",
        "y = input()\n",
        "print(int(x) + int(y))"
      ],
      "metadata": {
        "colab": {
          "base_uri": "https://localhost:8080/"
        },
        "id": "X8iUXwC06qvt",
        "outputId": "bdf1afc9-d15c-4be1-e31f-b4ebf1a5e4c7"
      },
      "execution_count": null,
      "outputs": [
        {
          "output_type": "stream",
          "name": "stdout",
          "text": [
            "1\n",
            "2\n",
            "3\n"
          ]
        }
      ]
    },
    {
      "cell_type": "code",
      "source": [
        "n = 3\n",
        "print(f\"{n:02}\")"
      ],
      "metadata": {
        "colab": {
          "base_uri": "https://localhost:8080/"
        },
        "id": "_YPrk_WrQvLt",
        "outputId": "2d5ac940-13ea-4f14-f2f6-6fbbdd2be927"
      },
      "execution_count": null,
      "outputs": [
        {
          "output_type": "stream",
          "name": "stdout",
          "text": [
            "03\n"
          ]
        }
      ]
    },
    {
      "cell_type": "markdown",
      "source": [
        "## float"
      ],
      "metadata": {
        "id": "8KeV2emH84zG"
      }
    },
    {
      "cell_type": "code",
      "source": [
        "x = float(input())\n",
        "y = float(input())\n",
        "print(x + y)"
      ],
      "metadata": {
        "colab": {
          "base_uri": "https://localhost:8080/"
        },
        "id": "55FEOT0u86O-",
        "outputId": "691ca526-ee5c-4f11-ad37-1132a8447d0e"
      },
      "execution_count": null,
      "outputs": [
        {
          "output_type": "stream",
          "name": "stdout",
          "text": [
            "1.2\n",
            "3.4\n",
            "4.6\n"
          ]
        }
      ]
    },
    {
      "cell_type": "code",
      "source": [],
      "metadata": {
        "id": "EKWaL2_OJyyy"
      },
      "execution_count": null,
      "outputs": []
    },
    {
      "cell_type": "markdown",
      "source": [
        "## round（）"
      ],
      "metadata": {
        "id": "y4XnV0kp-NPE"
      }
    },
    {
      "cell_type": "markdown",
      "source": [
        "让结果四舍五入, round()\n",
        "- round(number[, ndigits])\n",
        "- `number` 是要进行四舍五入的数字。\n",
        "\n",
        "- `ndigits` 是可选参数，用于指定要保留的小数位数。如果不提供 `ndigits` 参数，`round()` 函数会将数字四舍五入到最接近的整数。\n",
        "- 括号和逗号的这种表示方式是 Python 文档中的一种约定，用来表示参数可选。"
      ],
      "metadata": {
        "id": "FQIe_4D59Trp"
      }
    },
    {
      "cell_type": "code",
      "source": [
        "print(round(3.14159,1))\n",
        "print(round(3.14159,3))\n",
        "print(round(3.14,3))"
      ],
      "metadata": {
        "colab": {
          "base_uri": "https://localhost:8080/"
        },
        "id": "EACQkYMNCNlo",
        "outputId": "197f5a7e-2349-482c-edd7-48ad27d0671d"
      },
      "execution_count": null,
      "outputs": [
        {
          "output_type": "stream",
          "name": "stdout",
          "text": [
            "3.1\n",
            "3.142\n",
            "3.14\n"
          ]
        }
      ]
    },
    {
      "cell_type": "code",
      "source": [
        "x = float(input())\n",
        "y = float(input())\n",
        "print(round(x + y))"
      ],
      "metadata": {
        "colab": {
          "base_uri": "https://localhost:8080/"
        },
        "id": "lUkYA5y39HEr",
        "outputId": "668615ca-12d2-4faa-8c3e-b243db1de620"
      },
      "execution_count": null,
      "outputs": [
        {
          "output_type": "stream",
          "name": "stdout",
          "text": [
            "1\n",
            "2.2\n",
            "3.2\n"
          ]
        }
      ]
    },
    {
      "cell_type": "code",
      "source": [
        "x = float(input())\n",
        "y = float(input())\n",
        "z = round(x + y)\n",
        "print(z)"
      ],
      "metadata": {
        "colab": {
          "base_uri": "https://localhost:8080/"
        },
        "id": "9Z5NG9Mx-VRS",
        "outputId": "7d75d32f-35c7-43ce-b4db-3c6216d5ac06"
      },
      "execution_count": null,
      "outputs": [
        {
          "output_type": "stream",
          "name": "stdout",
          "text": [
            "1.2\n",
            "3.4\n",
            "5\n"
          ]
        }
      ]
    },
    {
      "cell_type": "markdown",
      "source": [
        "如果想要得到这种格式：1,000  1,000,000"
      ],
      "metadata": {
        "id": "68Y_P9IkBghl"
      }
    },
    {
      "cell_type": "code",
      "source": [
        "x = float(input())\n",
        "y = float(input())\n",
        "z = round(x + y)\n",
        "print(f\"{z:,}\")"
      ],
      "metadata": {
        "colab": {
          "base_uri": "https://localhost:8080/"
        },
        "id": "5hMKRAKk-fkc",
        "outputId": "5d4da8b2-2aa0-439a-e70c-c27c4df38aab"
      },
      "execution_count": null,
      "outputs": [
        {
          "output_type": "stream",
          "name": "stdout",
          "text": [
            "999\n",
            "1\n",
            "1,000\n"
          ]
        }
      ]
    },
    {
      "cell_type": "markdown",
      "source": [
        "## 指定浮点数的小数点位数\n",
        "- .2f,etc"
      ],
      "metadata": {
        "id": "u_SJxEKiKCTF"
      }
    },
    {
      "cell_type": "code",
      "source": [
        "x = float(input())\n",
        "y = float(input())\n",
        "z = z / y\n",
        "print(f\"{z:.2f}\")"
      ],
      "metadata": {
        "colab": {
          "base_uri": "https://localhost:8080/"
        },
        "id": "-tf-aI30KD3B",
        "outputId": "1992c1db-2fe2-4909-cc32-c8f6ada37e53"
      },
      "execution_count": null,
      "outputs": [
        {
          "output_type": "stream",
          "name": "stdout",
          "text": [
            "5\n",
            "3\n",
            "333.33\n"
          ]
        }
      ]
    },
    {
      "cell_type": "markdown",
      "source": [
        "## def()\n",
        "- python是顺序执行，函数应该在使用之前定义"
      ],
      "metadata": {
        "id": "95Hpl3VAK1Xt"
      }
    },
    {
      "cell_type": "markdown",
      "source": [
        "参数后面加=表示用户可以不输入参数，会使用默认的参数"
      ],
      "metadata": {
        "id": "h_-HiO9wLqWE"
      }
    },
    {
      "cell_type": "code",
      "source": [
        "def sayHello(name=\"world\"):\n",
        "  print(\"Hello! \",name)\n",
        "sayHello()\n",
        "sayHello(\"David\")"
      ],
      "metadata": {
        "colab": {
          "base_uri": "https://localhost:8080/"
        },
        "id": "KJ4BKXeFK34S",
        "outputId": "1bd76893-f279-4b95-f562-52cf8e551aeb"
      },
      "execution_count": null,
      "outputs": [
        {
          "output_type": "stream",
          "name": "stdout",
          "text": [
            "Hello!  world\n",
            "Hello!  David\n"
          ]
        }
      ]
    },
    {
      "cell_type": "code",
      "source": [],
      "metadata": {
        "id": "l35HdrnwK4Nt"
      },
      "execution_count": null,
      "outputs": []
    },
    {
      "cell_type": "code",
      "source": [
        "def addComma(newstr):\n",
        "  newstr = str(newstr)\n",
        "  newstr = newstr[::-1]\n",
        "  newstr = newstr[:3]+','+newstr[3:]\n",
        "  newstr = newstr[::-1]\n",
        "  return newstr"
      ],
      "metadata": {
        "id": "qot_klATFRZa"
      },
      "execution_count": null,
      "outputs": []
    },
    {
      "cell_type": "code",
      "source": [
        "print(addComma(10000000))"
      ],
      "metadata": {
        "colab": {
          "base_uri": "https://localhost:8080/"
        },
        "id": "QTPzEHExEkjR",
        "outputId": "bed14501-7cde-4bf9-b764-771c500e3b41"
      },
      "execution_count": null,
      "outputs": [
        {
          "output_type": "stream",
          "name": "stdout",
          "text": [
            "10000,000\n"
          ]
        }
      ]
    },
    {
      "cell_type": "code",
      "source": [
        "def digit(num):\n",
        "  if (num//1000 == 0):\n",
        "    return num\n",
        "  else:\n",
        "    while True:\n",
        "      new_str = addComma(num)\n",
        "      new_str = new_str[:-3]\n",
        "      if(len(new_str)<=2):\n",
        "        return new_str"
      ],
      "metadata": {
        "id": "uR3yyFN6Bxnc"
      },
      "execution_count": null,
      "outputs": []
    },
    {
      "cell_type": "code",
      "source": [
        "print(digit(1000))"
      ],
      "metadata": {
        "colab": {
          "base_uri": "https://localhost:8080/"
        },
        "id": "KlDNsA-sHBvU",
        "outputId": "93640f2d-a005-468c-8508-722ee0d53432"
      },
      "execution_count": null,
      "outputs": [
        {
          "output_type": "stream",
          "name": "stdout",
          "text": [
            "1,\n"
          ]
        }
      ]
    },
    {
      "cell_type": "code",
      "source": [
        "string = \"15%\"\n",
        "num = float(string[:-1])\n",
        "print(num)"
      ],
      "metadata": {
        "colab": {
          "base_uri": "https://localhost:8080/"
        },
        "id": "pf-JtL1-Wesv",
        "outputId": "6417917a-10f7-4ebc-bac4-54ee7b54b9e7"
      },
      "execution_count": null,
      "outputs": [
        {
          "output_type": "stream",
          "name": "stdout",
          "text": [
            "15.0\n"
          ]
        }
      ]
    },
    {
      "cell_type": "markdown",
      "source": [
        "## return 简洁版"
      ],
      "metadata": {
        "id": "zADzUSxWg2kz"
      }
    },
    {
      "cell_type": "markdown",
      "source": [
        "原始"
      ],
      "metadata": {
        "id": "dATfN3GchRgp"
      }
    },
    {
      "cell_type": "code",
      "source": [
        "def is_even(num):\n",
        "  if(num % 2 == 0):\n",
        "    return True\n",
        "  else:\n",
        "    return False"
      ],
      "metadata": {
        "id": "-24Sx8Y5WmMl"
      },
      "execution_count": null,
      "outputs": []
    },
    {
      "cell_type": "markdown",
      "source": [
        "可以缩减一行"
      ],
      "metadata": {
        "id": "7VCxRYjBhTF4"
      }
    },
    {
      "cell_type": "code",
      "source": [
        "def is_even2(num):\n",
        "  return True if num % 2 == 0 else False"
      ],
      "metadata": {
        "id": "PRRiTUwygHNc"
      },
      "execution_count": null,
      "outputs": []
    },
    {
      "cell_type": "markdown",
      "source": [
        "如果表达式返回的值本身就是True 或 False，就不用自己写判断了"
      ],
      "metadata": {
        "id": "5sR4xTc-hM_m"
      }
    },
    {
      "cell_type": "code",
      "source": [
        "def is_even2(num):\n",
        "  return num % 2 == 0"
      ],
      "metadata": {
        "id": "L9H9dmbzgQh4"
      },
      "execution_count": null,
      "outputs": []
    },
    {
      "cell_type": "markdown",
      "source": [
        "## match"
      ],
      "metadata": {
        "id": "xWZgBc1ejSIv"
      }
    },
    {
      "cell_type": "code",
      "source": [
        "name = input()\n",
        "match name:\n",
        "  case \"a\":\n",
        "    print(\"A\")\n",
        "  case \"b\":\n",
        "    print(\"B\")\n",
        "  case \"c\":\n",
        "    print(\"C\")\n",
        "  case \"d\"|\"e\"|\"f\"|\"g\":\n",
        "    print(\"good!\")\n",
        "  case _:\n",
        "    print(\"who?\")"
      ],
      "metadata": {
        "colab": {
          "base_uri": "https://localhost:8080/"
        },
        "id": "eOUJWsV5jVjn",
        "outputId": "0a57b1c8-74f1-47e6-8ced-a7fbcd01570e"
      },
      "execution_count": null,
      "outputs": [
        {
          "output_type": "stream",
          "name": "stdout",
          "text": [
            "d\n",
            "good!\n"
          ]
        }
      ]
    },
    {
      "cell_type": "markdown",
      "source": [
        "# lecture2 - Loops"
      ],
      "metadata": {
        "id": "lyo4tJF9sEhJ"
      }
    },
    {
      "cell_type": "markdown",
      "source": [
        "## while()"
      ],
      "metadata": {
        "id": "T62ynhrxsvE1"
      }
    },
    {
      "cell_type": "code",
      "source": [
        "i = 0\n",
        "while i < 3:\n",
        "  print(\"meow\")\n",
        "  i += 1"
      ],
      "metadata": {
        "colab": {
          "base_uri": "https://localhost:8080/"
        },
        "id": "1IZmZL3RsJrS",
        "outputId": "197d94ca-900a-42b2-ffe6-121045b4f65b"
      },
      "execution_count": null,
      "outputs": [
        {
          "output_type": "stream",
          "name": "stdout",
          "text": [
            "meow\n",
            "meow\n",
            "meow\n"
          ]
        }
      ]
    },
    {
      "cell_type": "markdown",
      "source": [
        "## for()"
      ],
      "metadata": {
        "id": "BG-rwCdKvIK4"
      }
    },
    {
      "cell_type": "markdown",
      "source": [
        "在Python中，`for`循环通过遍历可迭代对象（iterable）中的每个元素来执行操作。`for`循环的基本语法如下：\n",
        "\n",
        "```python\n",
        "for element in iterable:\n",
        "    # 执行操作，可以使用变量 element 访问当前迭代的元素\n",
        "    # 操作体\n",
        "```\n",
        "\n",
        "在这里，关键点是：\n",
        "\n",
        "- **iterable（可迭代对象）：** 可以是列表（list）、元组（tuple）、字符串（string）、集合（set）、字典（dictionary）等对象，只要这些对象可以逐个访问其元素即可。Python中的大多数内置数据结构都是可迭代的。\n",
        "  \n",
        "- **element（元素）：** 在每次迭代中，`element` 变量都会依次表示 `iterable` 中的每个元素。您可以在循环体内使用 `element` 变量来操作当前迭代的元素。\n",
        "\n",
        "例如，遍历一个列表并打印每个元素的示例：\n",
        "\n",
        "```python\n",
        "my_list = [1, 2, 3, 4, 5]\n",
        "for num in my_list:\n",
        "    print(num)\n",
        "```\n",
        "\n",
        "输出：\n",
        "\n",
        "```\n",
        "1\n",
        "2\n",
        "3\n",
        "4\n",
        "5\n",
        "```\n",
        "\n",
        "在这个例子中，`my_list` 是一个列表，`num` 是循环的迭代变量，它在每次迭代中依次取列表中的每个元素。\n",
        "\n",
        "Python的 `for` 循环也可以与 `range()` 函数结合使用来生成一系列数字：\n",
        "\n",
        "```python\n",
        "for i in range(5):\n",
        "    print(i)\n",
        "```\n",
        "\n",
        "输出：\n",
        "\n",
        "```\n",
        "0\n",
        "1\n",
        "2\n",
        "3\n",
        "4\n",
        "```\n",
        "\n",
        "这里的 `range(5)` 生成了一个包含 0 到 4 的整数序列，`for i in range(5)` 则依次将这些整数赋值给 `i` 并执行循环体内的操作。\n"
      ],
      "metadata": {
        "id": "6KnVawtTwsDu"
      }
    },
    {
      "cell_type": "code",
      "source": [
        "for i in [0,1,2]:\n",
        "  print(f\"meow {i}\")"
      ],
      "metadata": {
        "colab": {
          "base_uri": "https://localhost:8080/"
        },
        "id": "VouyfvhJtZaF",
        "outputId": "28a756f1-e4a6-411d-e8c9-65c792635065"
      },
      "execution_count": null,
      "outputs": [
        {
          "output_type": "stream",
          "name": "stdout",
          "text": [
            "meow 0\n",
            "meow 1\n",
            "meow 2\n"
          ]
        }
      ]
    },
    {
      "cell_type": "code",
      "source": [
        "for i in range(3): # from 0 to 2, [0,1,2]\n",
        "  print(\"meow\")"
      ],
      "metadata": {
        "colab": {
          "base_uri": "https://localhost:8080/"
        },
        "id": "LVsuyI7yvHaV",
        "outputId": "531b00e6-f3a1-48e9-c9b2-aab889eff391"
      },
      "execution_count": null,
      "outputs": [
        {
          "output_type": "stream",
          "name": "stdout",
          "text": [
            "meow\n",
            "meow\n",
            "meow\n"
          ]
        }
      ]
    },
    {
      "cell_type": "markdown",
      "source": [
        "* 如果for后面的变量不会被使用，可以用_代替"
      ],
      "metadata": {
        "id": "_UK2FpUCxKj4"
      }
    },
    {
      "cell_type": "code",
      "source": [
        "for _ in range(3): # from 0 to 2, [0,1,2]\n",
        "  print(\"meow\")"
      ],
      "metadata": {
        "id": "dK4M3bHUweIj"
      },
      "execution_count": null,
      "outputs": []
    },
    {
      "cell_type": "code",
      "source": [
        "print(\"meow\\n\"*3)\n",
        "print(\"meow\\n\"*3,end=\"\") #不让最后一句之后换行"
      ],
      "metadata": {
        "colab": {
          "base_uri": "https://localhost:8080/"
        },
        "id": "HxjaeSs1xbnF",
        "outputId": "a89738bd-9afb-4982-98af-1700faa05932"
      },
      "execution_count": null,
      "outputs": [
        {
          "output_type": "stream",
          "name": "stdout",
          "text": [
            "meow\n",
            "meow\n",
            "meow\n",
            "\n",
            "meow\n",
            "meow\n",
            "meow\n"
          ]
        }
      ]
    },
    {
      "cell_type": "markdown",
      "source": [
        "## 当你想让获取期望的用户输入时\n",
        "你不必每次都检查输入的正确性，而是写一个循环"
      ],
      "metadata": {
        "id": "yyV6mYLe0ONw"
      }
    },
    {
      "cell_type": "code",
      "source": [
        "while True:\n",
        "  n = int(input(\"what's n?\"))\n",
        "  if n > 0:\n",
        "    break\n",
        "\n",
        "for _ in range(n):\n",
        "  print(\"meow\")"
      ],
      "metadata": {
        "colab": {
          "base_uri": "https://localhost:8080/"
        },
        "id": "dpmiUQ-dxen7",
        "outputId": "f0226b9f-6a72-4fd2-9a10-03af3fb9e44a"
      },
      "execution_count": null,
      "outputs": [
        {
          "output_type": "stream",
          "name": "stdout",
          "text": [
            "what's n?3\n",
            "meow\n",
            "meow\n",
            "meow\n"
          ]
        }
      ]
    },
    {
      "cell_type": "code",
      "source": [
        "def main():\n",
        "  number = get_number()\n",
        "  meow(number)\n",
        "\n",
        "def get_number():\n",
        "  while True:\n",
        "    n = int(input(\"what's n?\"))\n",
        "    if n > 0:\n",
        "      return n\n",
        "      break\n",
        "\n",
        "def meow(n):\n",
        "  for _ in range(n):\n",
        "    print(\"meow\")\n",
        "\n",
        "main()"
      ],
      "metadata": {
        "colab": {
          "base_uri": "https://localhost:8080/"
        },
        "id": "KvdII6-F03em",
        "outputId": "3d439a14-26b6-4f20-b616-ed97f774837f"
      },
      "execution_count": null,
      "outputs": [
        {
          "output_type": "stream",
          "name": "stdout",
          "text": [
            "what's n?3\n",
            "meow\n",
            "meow\n",
            "meow\n"
          ]
        }
      ]
    },
    {
      "cell_type": "markdown",
      "source": [
        "## list"
      ],
      "metadata": {
        "id": "MHuSI7s33YxO"
      }
    },
    {
      "cell_type": "markdown",
      "source": [
        "如何遍历/获取列表的信息？用for loop"
      ],
      "metadata": {
        "id": "slEjN2Ic30m_"
      }
    },
    {
      "cell_type": "code",
      "source": [
        "stu = [\"alice\",\"bob\",\"caven\"]\n",
        "print(stu[0])\n",
        "print(stu[1])\n",
        "print(stu[2])"
      ],
      "metadata": {
        "colab": {
          "base_uri": "https://localhost:8080/"
        },
        "id": "z_Xs9tvu14lJ",
        "outputId": "dd8295b1-df09-455a-ba1e-a0d28ff8f337"
      },
      "execution_count": null,
      "outputs": [
        {
          "output_type": "stream",
          "name": "stdout",
          "text": [
            "alice\n"
          ]
        }
      ]
    },
    {
      "cell_type": "code",
      "source": [
        "for i in stu:\n",
        "  i = i.capitalize()\n",
        "  print(i)"
      ],
      "metadata": {
        "colab": {
          "base_uri": "https://localhost:8080/"
        },
        "id": "9r9SrJOM3Uoo",
        "outputId": "8fbe61e1-162e-4585-d1a1-84ebdaf1df41"
      },
      "execution_count": null,
      "outputs": [
        {
          "output_type": "stream",
          "name": "stdout",
          "text": [
            "Alice\n",
            "Bob\n",
            "Caven\n"
          ]
        }
      ]
    },
    {
      "cell_type": "markdown",
      "source": [
        "''.join(list) 拼接字符列表里的字符成字符串"
      ],
      "metadata": {
        "id": "ikiGxuYYtkat"
      }
    },
    {
      "cell_type": "code",
      "source": [
        "my_list = ['a', 'b', 'c', 'd']\n",
        "result_string = ''.join(my_list)\n",
        "print(result_string)"
      ],
      "metadata": {
        "colab": {
          "base_uri": "https://localhost:8080/"
        },
        "id": "a1TsEITgtfEG",
        "outputId": "99a9d2c8-ab79-4060-c7c1-c9be22bb6903"
      },
      "execution_count": null,
      "outputs": [
        {
          "output_type": "stream",
          "name": "stdout",
          "text": [
            "abcd\n"
          ]
        }
      ]
    },
    {
      "cell_type": "markdown",
      "source": [
        "## len()"
      ],
      "metadata": {
        "id": "h5QsuNUs4c7Z"
      }
    },
    {
      "cell_type": "markdown",
      "source": [
        "`len()` 函数可以计算以下类型的长度（或者说元素个数）：\n",
        "\n",
        "1. **序列类型（Sequences）**：\n",
        "   - **列表（List）**：计算列表中元素的个数。\n",
        "   - **元组（Tuple）**：计算元组中元素的个数。\n",
        "   - **字符串（String）**：计算字符串中字符的个数。\n",
        "\n",
        "2. **集合类型（Sets）**：\n",
        "   - **集合（Set）**：计算集合中元素的个数。\n",
        "\n",
        "3. **映射类型（Mappings）**：\n",
        "   - **字典（Dictionary）**：计算字典中键值对的个数。\n",
        "\n",
        "4. **其他类型**：\n",
        "   - **字节数组（Bytearray）**：计算字节数组中元素的个数（Python 3.x）。"
      ],
      "metadata": {
        "id": "BMz3Fi485OYI"
      }
    },
    {
      "cell_type": "code",
      "source": [
        "stu = [\"alice\",\"bob\",\"caven\"]\n",
        "for i in range(len(stu)):\n",
        "#当你在遍历列表时，不想让i变成具体的字符串，而是数字时，请用len（）\n",
        "  print(i+1,stu[i])"
      ],
      "metadata": {
        "colab": {
          "base_uri": "https://localhost:8080/"
        },
        "id": "AS48dubi4bjB",
        "outputId": "c8a7414e-895f-4886-8950-5e4281761f9c"
      },
      "execution_count": null,
      "outputs": [
        {
          "output_type": "stream",
          "name": "stdout",
          "text": [
            "1 alice\n",
            "2 bob\n",
            "3 caven\n"
          ]
        }
      ]
    },
    {
      "cell_type": "markdown",
      "source": [
        "## dict"
      ],
      "metadata": {
        "id": "SsUFMsX65JgD"
      }
    },
    {
      "cell_type": "markdown",
      "source": [
        "在Python中，`dict`（字典）是一种无序、可变且可迭代的集合类型，用于存储键-值对（key-value pairs）。字典是Python中非常重要和常用的数据结构之一，它的特点包括：\n",
        "\n",
        "1. **键-值对存储：** 字典中的数据以键（key）和值（value）的形式存储。每个键值对都通过冒号分隔，键和值之间用逗号分隔，并且整体包裹在花括号 `{}` 中。\n",
        "\n",
        "   ```python\n",
        "   my_dict = {'name': 'Alice', 'age': 30, 'city': 'New York'}\n",
        "   ```\n",
        "\n",
        "2. **键的唯一性：** 字典中的键必须是唯一的，即同一个字典中不能有重复的键。如果插入具有相同键的多个键值对，则后面的键值对会覆盖前面的。\n",
        "\n",
        "3. **无序性：** 字典中的元素没有固定的顺序。这意味着你不能通过索引来访问字典中的元素，而是通过键来获取对应的值。\n",
        "\n",
        "4. **可变性：** 字典是可变的，即可以向字典中添加新的键值对，也可以删除已有的键值对，还可以修改已有键对应的值。\n",
        "\n",
        "5. **支持任意类型的键和值：** 字典中的键可以是不可变类型（例如整数、字符串、元组等），而值可以是任意类型的对象，包括基本类型（如整数、字符串、浮点数等）和复杂类型（如列表、字典、对象等）。\n",
        "\n",
        "### 常用操作：\n",
        "\n",
        "- **访问字典元素：** 使用键来访问对应的值。\n",
        "\n",
        "  ```python\n",
        "  print(my_dict['name'])  # 输出：Alice\n",
        "  ```\n",
        "  ```python\n",
        "  value = my_dict.get(\"name\",0)# 如果找不到返回0\n",
        "  print(value)\n",
        "  ```\n",
        "\n",
        "- **修改字典元素：** 直接通过键来修改对应的值。\n",
        "\n",
        "  ```python\n",
        "  my_dict['age'] = 31\n",
        "  ```\n",
        "\n",
        "- **添加新键值对：** 直接赋值新的键值对。\n",
        "\n",
        "  ```python\n",
        "  my_dict['gender'] = 'female'\n",
        "  ```\n",
        "\n",
        "- **删除键值对：** 使用 `del` 关键字或者 `pop()` 方法删除指定的键值对。\n",
        "\n",
        "  ```python\n",
        "  del my_dict['city']\n",
        "  ```\n",
        "\n",
        "  ```python\n",
        "  my_dict.pop('age')\n",
        "  ```\n",
        "\n",
        "- **遍历字典：** 可以使用 `for` 循环遍历字典的键、值或键值对。\n",
        "\n",
        "  ```python\n",
        "  # 遍历键\n",
        "  for key in my_dict:\n",
        "      print(key)\n",
        "\n",
        "  # 遍历值\n",
        "  for value in my_dict.values():\n",
        "      print(value)\n",
        "\n",
        "  # 遍历键值对\n",
        "  for key, value in my_dict.items():\n",
        "      print(key, value)\n",
        "  ```\n",
        "\n",
        "### 示例应用：\n",
        "\n",
        "```python\n",
        "# 创建一个字典\n",
        "student = {\n",
        "    'name': 'Alice',\n",
        "    'age': 20,\n",
        "    'grades': {'math': 90, 'science': 85},\n",
        "    'courses': ['Math', 'Science', 'English']\n",
        "}\n",
        "\n",
        "# 访问字典中的元素\n",
        "print(student['name'])  # 输出：Alice\n",
        "print(student['grades']['math'])  # 输出：90\n",
        "\n",
        "# 添加新的键值对\n",
        "student['gender'] = 'female'\n",
        "\n",
        "# 修改已有的值\n",
        "student['age'] = 21\n",
        "\n",
        "# 删除一个键值对\n",
        "del student['courses']\n",
        "\n",
        "# 遍历字典的键值对\n",
        "for key, value in student.items():\n",
        "    print(key, ':', value)\n",
        "```\n",
        "\n",
        "字典在Python中广泛用于存储和处理具有关联性的数据，是非常实用的数据结构之一。"
      ],
      "metadata": {
        "id": "pMFAQnZQ5jSZ"
      }
    },
    {
      "cell_type": "markdown",
      "source": [
        "### key的值数量为1"
      ],
      "metadata": {
        "id": "UO_Fzgem7ZfE"
      }
    },
    {
      "cell_type": "code",
      "source": [
        "# creat a dict\n",
        "stu = {\n",
        "    \"Alice\":\"block1\",\n",
        "    \"Bob\":\"block2\",\n",
        "    \"Caven\":\"block3\",\n",
        "    \"David\":\"block4\"\n",
        "    }\n",
        "\n",
        "# using for to get each key\n",
        "for s in stu:\n",
        "  print(s,stu[s],sep=\", \")\n",
        "  # stu[s],可以用key去匹配它的值"
      ],
      "metadata": {
        "colab": {
          "base_uri": "https://localhost:8080/"
        },
        "id": "U_VtzXDl4ne4",
        "outputId": "db1cacac-97b4-4369-e35d-22d3925ac66c"
      },
      "execution_count": null,
      "outputs": [
        {
          "output_type": "stream",
          "name": "stdout",
          "text": [
            "Alice, block1\n",
            "Bob, block2\n",
            "Caven, block3\n",
            "David, block4\n"
          ]
        }
      ]
    },
    {
      "cell_type": "markdown",
      "source": [
        "### key的值数量为多个"
      ],
      "metadata": {
        "id": "GZSzLG3-7dXw"
      }
    },
    {
      "cell_type": "code",
      "source": [
        "stu = [\n",
        "    {\"name\":\"Alice\",\"house\":\"block1\",\"age\":\"18\"},\n",
        "    {\"name\":\"Bob\",\"house\":\"block2\",\"age\":\"19\"},\n",
        "    {\"name\":\"Caven\",\"house\":\"block3\",\"age\":\"20\"},\n",
        "    {\"name\":\"David\",\"house\":\"block4\",\"age\":\"21\"}\n",
        "]"
      ],
      "metadata": {
        "id": "YuzXh_gc5wvL"
      },
      "execution_count": null,
      "outputs": []
    },
    {
      "cell_type": "code",
      "source": [
        "for s in stu:\n",
        "  print(s)"
      ],
      "metadata": {
        "colab": {
          "base_uri": "https://localhost:8080/"
        },
        "id": "SIvosw698a3H",
        "outputId": "e30a542f-5e80-42b4-c1dd-c0da4de0e416"
      },
      "execution_count": null,
      "outputs": [
        {
          "output_type": "stream",
          "name": "stdout",
          "text": [
            "{'name': 'Alice', 'house': 'block1', 'age': '18'}\n",
            "{'name': 'Bob', 'house': 'block2', 'age': '19'}\n",
            "{'name': 'Caven', 'house': 'block3', 'age': '20'}\n",
            "{'name': 'David', 'house': 'block4', 'age': '21'}\n"
          ]
        }
      ]
    },
    {
      "cell_type": "markdown",
      "source": [
        "遍历的方法"
      ],
      "metadata": {
        "id": "M6hpYCA18ySZ"
      }
    },
    {
      "cell_type": "code",
      "source": [
        "for s in stu:\n",
        "  print(s[\"name\"],s[\"house\"],s[\"age\"],sep = \", \")"
      ],
      "metadata": {
        "colab": {
          "base_uri": "https://localhost:8080/"
        },
        "id": "e_lFsd7t8WD-",
        "outputId": "69769d52-dcac-43c8-894e-93dbe2533df8"
      },
      "execution_count": null,
      "outputs": [
        {
          "output_type": "stream",
          "name": "stdout",
          "text": [
            "Alice, block1, 18\n",
            "Bob, block2, 19\n",
            "Caven, block3, 20\n",
            "David, block4, 21\n"
          ]
        }
      ]
    },
    {
      "cell_type": "markdown",
      "source": [
        "### 快捷的创建字典的方式"
      ],
      "metadata": {
        "id": "mn9niE17-yfm"
      }
    },
    {
      "cell_type": "code",
      "source": [
        "with open(\"students.csv\") as file:\n",
        "    for line in file:\n",
        "        name,house = line.rstrip().split(\",\")\n",
        "        student = {\"name\":name, \"house\":house}"
      ],
      "metadata": {
        "id": "z_YId2VN-2ia"
      },
      "execution_count": null,
      "outputs": []
    },
    {
      "cell_type": "markdown",
      "source": [
        "## game"
      ],
      "metadata": {
        "id": "M83W9GLb-Qqd"
      }
    },
    {
      "cell_type": "code",
      "source": [
        "def print_column(n):\n",
        "  print(\"#\\n\" * n,end=\"\")"
      ],
      "metadata": {
        "id": "mQsZvMch-3Wj"
      },
      "execution_count": null,
      "outputs": []
    },
    {
      "cell_type": "code",
      "source": [
        "def get_num():\n",
        "  while(True):\n",
        "    num = int(input(\"what's n: \"))\n",
        "    if n > 0:\n",
        "      return num\n",
        "      break"
      ],
      "metadata": {
        "id": "YCfNSlkg_qfO"
      },
      "execution_count": null,
      "outputs": []
    },
    {
      "cell_type": "code",
      "source": [
        "def main():\n",
        "  n = get_num()\n",
        "  print_column(n)"
      ],
      "metadata": {
        "id": "T_xOopF4-PlJ"
      },
      "execution_count": null,
      "outputs": []
    },
    {
      "cell_type": "code",
      "source": [
        "for _ in range(3):\n",
        "  for _ in range(4):\n",
        "    print(\"#\",end=\"\")\n",
        "  print()"
      ],
      "metadata": {
        "colab": {
          "base_uri": "https://localhost:8080/"
        },
        "id": "wVNVDrV9_2tA",
        "outputId": "b97d1c33-5d8d-425b-b6c1-4ea62196e70d"
      },
      "execution_count": null,
      "outputs": [
        {
          "output_type": "stream",
          "name": "stdout",
          "text": [
            "####\n",
            "####\n",
            "####\n"
          ]
        }
      ]
    },
    {
      "cell_type": "code",
      "source": [
        "for _ in range(3):\n",
        "  print(\"#\"*4)"
      ],
      "metadata": {
        "colab": {
          "base_uri": "https://localhost:8080/"
        },
        "id": "6Sy3NXuBCLEB",
        "outputId": "48d57691-995c-4a8a-a532-75c9e7b8e8a9"
      },
      "execution_count": null,
      "outputs": [
        {
          "output_type": "stream",
          "name": "stdout",
          "text": [
            "####\n",
            "####\n",
            "####\n"
          ]
        }
      ]
    },
    {
      "cell_type": "code",
      "source": [],
      "metadata": {
        "id": "RtqJaN9VDAPF"
      },
      "execution_count": null,
      "outputs": []
    },
    {
      "cell_type": "markdown",
      "source": [
        "# lecture 3 - Exception"
      ],
      "metadata": {
        "id": "DGYn0D4vuGKo"
      }
    },
    {
      "cell_type": "markdown",
      "source": [
        "在Python中，错误通常被分为两种类型：语法错误（Syntax Errors）和异常（Exceptions）。\n",
        "\n",
        "**1. 语法错误（Syntax Errors）**\n",
        "语法错误是指代码不符合Python语法规则，因此无法被解释器正确解析。这类错误通常发生在程序刚开始运行时，被称为“解析时错误”。\n",
        "\n",
        "**2. 异常（Exceptions）**\n",
        "异常是指在代码执行过程中遇到的错误，这些错误会导致程序中断执行并抛出异常信息。异常可以通过异常处理机制来捕获和处理，以防止程序意外终止。\n",
        "\n",
        "常见的Python异常包括：\n",
        "- `ZeroDivisionError`：除以零错误。\n",
        "- `TypeError`：数据类型错误。\n",
        "- `NameError`：尝试访问未声明的变量。\n",
        "- `IndexError`：索引超出序列范围。\n",
        "- `KeyError`：尝试访问字典中不存在的键。\n",
        "- `FileNotFoundError`：文件未找到。\n",
        "- `ValueError`：传递给函数的参数类型正确但值不合适。"
      ],
      "metadata": {
        "id": "vwYnx5a2goT3"
      }
    },
    {
      "cell_type": "markdown",
      "source": [
        "###ValueError 传递给函数的参数类型正确但值不合适"
      ],
      "metadata": {
        "id": "_g0fYzzxhEWP"
      }
    },
    {
      "cell_type": "code",
      "source": [
        "try:\n",
        "  x = int(input(\"what's x? \"))\n",
        "  print(f\"x is {x}\")\n",
        "except ValueError:\n",
        "  print(\"x is not an integer\")\n"
      ],
      "metadata": {
        "colab": {
          "base_uri": "https://localhost:8080/"
        },
        "id": "TZwnyBf0uIov",
        "outputId": "83edcff8-4c4a-40c3-edb5-4fde934b0e4b"
      },
      "execution_count": null,
      "outputs": [
        {
          "output_type": "stream",
          "name": "stdout",
          "text": [
            "what's x? cat\n",
            "x is not an integer\n"
          ]
        }
      ]
    },
    {
      "cell_type": "markdown",
      "source": [
        "### NameError尝 试访问未声明的变量"
      ],
      "metadata": {
        "id": "JhQAHFfMinb1"
      }
    },
    {
      "cell_type": "markdown",
      "source": [
        "以下例子中，如果用户输入的内容无法转换为整数，那么会触发ValueError异常。在这种情况下，程序会输出 \"x is not an integer\"，但是由于异常发生后，x 并没有被赋值，所以在最后一行 print(f\"x is {x}\") 中使用 x 变量会导致 NameError 异常。"
      ],
      "metadata": {
        "id": "BIaQaURQ2prE"
      }
    },
    {
      "cell_type": "code",
      "source": [
        "try:\n",
        "  n = int(input(\"what's x? \"))\n",
        "except ValueError:\n",
        "  print(\"x is not an integer\")\n",
        "\n",
        "print(f\"x is {n}\")\n"
      ],
      "metadata": {
        "colab": {
          "base_uri": "https://localhost:8080/",
          "height": 221
        },
        "id": "Wx0P7NyiWKQv",
        "outputId": "4789b96b-300f-4645-c239-fd64515ad734"
      },
      "execution_count": null,
      "outputs": [
        {
          "output_type": "stream",
          "name": "stdout",
          "text": [
            "what's x? cat\n",
            "x is not an integer\n"
          ]
        },
        {
          "output_type": "error",
          "ename": "NameError",
          "evalue": "name 'n' is not defined",
          "traceback": [
            "\u001b[0;31m---------------------------------------------------------------------------\u001b[0m",
            "\u001b[0;31mNameError\u001b[0m                                 Traceback (most recent call last)",
            "\u001b[0;32m<ipython-input-9-f74fff3a94f0>\u001b[0m in \u001b[0;36m<cell line: 6>\u001b[0;34m()\u001b[0m\n\u001b[1;32m      4\u001b[0m   \u001b[0mprint\u001b[0m\u001b[0;34m(\u001b[0m\u001b[0;34m\"x is not an integer\"\u001b[0m\u001b[0;34m)\u001b[0m\u001b[0;34m\u001b[0m\u001b[0;34m\u001b[0m\u001b[0m\n\u001b[1;32m      5\u001b[0m \u001b[0;34m\u001b[0m\u001b[0m\n\u001b[0;32m----> 6\u001b[0;31m \u001b[0mprint\u001b[0m\u001b[0;34m(\u001b[0m\u001b[0;34mf\"x is {n}\"\u001b[0m\u001b[0;34m)\u001b[0m\u001b[0;34m\u001b[0m\u001b[0;34m\u001b[0m\u001b[0m\n\u001b[0m",
            "\u001b[0;31mNameError\u001b[0m: name 'n' is not defined"
          ]
        }
      ]
    },
    {
      "cell_type": "markdown",
      "source": [
        "### try-except-else 结构"
      ],
      "metadata": {
        "id": "C8NTVk043BNs"
      }
    },
    {
      "cell_type": "markdown",
      "source": [
        "可以加else解决这个问题。else 块是可选的，在没有异常发生时执行。"
      ],
      "metadata": {
        "id": "3XOCtHPL4DrR"
      }
    },
    {
      "cell_type": "code",
      "source": [
        "try:\n",
        "  x = int(input(\"what's x? \"))\n",
        "except ValueError:\n",
        "  print(\"x is not an integer\")\n",
        "else:\n",
        "  print(f\"x is {x}\")"
      ],
      "metadata": {
        "colab": {
          "base_uri": "https://localhost:8080/"
        },
        "id": "syqNbmMpimXz",
        "outputId": "607ea91e-ea15-49fe-cc62-c264d022f857"
      },
      "execution_count": null,
      "outputs": [
        {
          "output_type": "stream",
          "name": "stdout",
          "text": [
            "what's x? cat\n",
            "x is not an integer\n"
          ]
        }
      ]
    },
    {
      "cell_type": "markdown",
      "source": [
        "用loop提示用户直到用户输入期望的格式"
      ],
      "metadata": {
        "id": "WZN8nN4z41bQ"
      }
    },
    {
      "cell_type": "code",
      "source": [
        " while True:\n",
        "  try:\n",
        "    x = int(input(\"what's x? \"))\n",
        "  except ValueError:\n",
        "    print(\"x is not an integer\")\n",
        "  else:\n",
        "    break\n",
        "\n",
        "print(f\"x is {x}\")"
      ],
      "metadata": {
        "colab": {
          "base_uri": "https://localhost:8080/"
        },
        "id": "HhS22e2q20RT",
        "outputId": "2f5edc99-94a1-4a90-f5be-ce8dbb6dbf52"
      },
      "execution_count": null,
      "outputs": [
        {
          "output_type": "stream",
          "name": "stdout",
          "text": [
            "what's x? mama\n",
            "x is not an integer\n",
            "what's x? papa\n",
            "x is not an integer\n",
            "what's x? 50\n",
            "x is 50\n"
          ]
        }
      ]
    },
    {
      "cell_type": "markdown",
      "source": [
        "搞成一个获取用户输入的函数吧！"
      ],
      "metadata": {
        "id": "R2I6ik_B634m"
      }
    },
    {
      "cell_type": "code",
      "source": [
        "def get_int():\n",
        "  while True:\n",
        "    try:\n",
        "      x = int(input(\"what's x? \"))\n",
        "    except ValueError:\n",
        "      print(\"x is not an integer\")\n",
        "    else:\n",
        "      return x"
      ],
      "metadata": {
        "id": "xSypxp5Q5PLn"
      },
      "execution_count": null,
      "outputs": []
    },
    {
      "cell_type": "code",
      "source": [
        "x = get_int()\n",
        "print(f\"x is {x}\")"
      ],
      "metadata": {
        "colab": {
          "base_uri": "https://localhost:8080/"
        },
        "id": "wovjtj7X7JXD",
        "outputId": "dda20d0b-fc3c-4ad1-eaa8-7959543a569d"
      },
      "execution_count": null,
      "outputs": [
        {
          "output_type": "stream",
          "name": "stdout",
          "text": [
            "what's x? cat\n",
            "x is not an integer\n",
            "what's x? aa\n",
            "x is not an integer\n",
            "what's x? 2\n",
            "x is 2\n"
          ]
        }
      ]
    },
    {
      "cell_type": "markdown",
      "source": [
        "更加简洁的写法。直接return 用户的输入"
      ],
      "metadata": {
        "id": "38UQsSZD8Cti"
      }
    },
    {
      "cell_type": "code",
      "source": [
        "def get_int():\n",
        "  while True:\n",
        "    try:\n",
        "      return int(input(\"what's x? \"))\n",
        "    except ValueError:\n",
        "      print(\"x is not an integer\")\n"
      ],
      "metadata": {
        "id": "Oj6IGNvq7Nvb"
      },
      "execution_count": null,
      "outputs": []
    },
    {
      "cell_type": "markdown",
      "source": [
        "### pass\n",
        "一直问用户”x is not an integer“有点烦人，如何在沉默中处理错误，让用户继续输入直到正确？"
      ],
      "metadata": {
        "id": "Z0bi9ir_8PwL"
      }
    },
    {
      "cell_type": "code",
      "source": [
        "def get_int():\n",
        "  while True:\n",
        "    try:\n",
        "      return int(input(\"what's x? \"))\n",
        "    except ValueError:\n",
        "      pass"
      ],
      "metadata": {
        "id": "a46Jfcpg8aNv"
      },
      "execution_count": null,
      "outputs": []
    },
    {
      "cell_type": "code",
      "source": [
        "x = get_int()\n",
        "print(f\"x is {x}\")"
      ],
      "metadata": {
        "colab": {
          "base_uri": "https://localhost:8080/"
        },
        "id": "xUSmiXM98dPi",
        "outputId": "1cead629-3f15-4603-e0ed-af52695e7361"
      },
      "execution_count": null,
      "outputs": [
        {
          "output_type": "stream",
          "name": "stdout",
          "text": [
            "what's x? cat\n",
            "what's x? aaaa\n",
            "what's x? asd\n",
            "what's x? bfd\n",
            "what's x? 50\n",
            "x is 50\n"
          ]
        }
      ]
    },
    {
      "cell_type": "markdown",
      "source": [
        "更加抽象"
      ],
      "metadata": {
        "id": "wNNpNeEp-7DE"
      }
    },
    {
      "cell_type": "code",
      "source": [
        "def get_int(prompt):\n",
        "  while True:\n",
        "    try:\n",
        "      return int(input(prompt))\n",
        "    except ValueError:\n",
        "      pass"
      ],
      "metadata": {
        "id": "en4flIkT8fkM"
      },
      "execution_count": null,
      "outputs": []
    },
    {
      "cell_type": "code",
      "source": [
        "x = get_int(\"What's x\")\n",
        "print(f\"x is {x}\")"
      ],
      "metadata": {
        "colab": {
          "base_uri": "https://localhost:8080/"
        },
        "id": "5Kk3uAtR-6Cs",
        "outputId": "91b3b921-493e-4a5a-8f70-c99680a3fe5f"
      },
      "execution_count": null,
      "outputs": [
        {
          "output_type": "stream",
          "name": "stdout",
          "text": [
            "What's xcat\n",
            "What's xcat\n",
            "What's x0\n",
            "x is 0\n"
          ]
        }
      ]
    },
    {
      "cell_type": "markdown",
      "source": [
        "# Lecture 4 -- Library"
      ],
      "metadata": {
        "id": "sLVEJ4qw3hPV"
      }
    },
    {
      "cell_type": "markdown",
      "source": [
        "### import 导入一个模块"
      ],
      "metadata": {
        "id": "_XcuQB3zCM4J"
      }
    },
    {
      "cell_type": "code",
      "source": [
        "import random #导入一个模块module"
      ],
      "metadata": {
        "id": "auT7b2MR3k0q"
      },
      "execution_count": null,
      "outputs": []
    },
    {
      "cell_type": "markdown",
      "source": [
        "### random.choice(seq)\n",
        "Return a random element from the non-empty sequence seq. If seq is empty, raises IndexError."
      ],
      "metadata": {
        "id": "hXxdyaCRBOhr"
      }
    },
    {
      "cell_type": "code",
      "source": [
        "coin = random.choice([\"heads\",\"tails\"])\n",
        "print(coin)"
      ],
      "metadata": {
        "colab": {
          "base_uri": "https://localhost:8080/"
        },
        "id": "e5WHGft1AdOB",
        "outputId": "02627271-19b9-44e2-b726-9de7998bd9a6"
      },
      "execution_count": null,
      "outputs": [
        {
          "output_type": "stream",
          "name": "stdout",
          "text": [
            "heads\n"
          ]
        }
      ]
    },
    {
      "cell_type": "markdown",
      "source": [
        "### from x import y 导入一个模块里特定的函数\n",
        "如果你导入了，就不用再用.指定这个函数来自于哪个模块"
      ],
      "metadata": {
        "id": "bBTlJNpmCI_E"
      }
    },
    {
      "cell_type": "code",
      "source": [
        "from random import choice"
      ],
      "metadata": {
        "id": "Dxq_sxOeAyZW"
      },
      "execution_count": null,
      "outputs": []
    },
    {
      "cell_type": "code",
      "source": [
        "coin = choice([\"heads\",\"tails\"])\n",
        "print(coin)"
      ],
      "metadata": {
        "colab": {
          "base_uri": "https://localhost:8080/"
        },
        "id": "T1VV1G4yCTWC",
        "outputId": "67ad70a1-04e1-4de0-9a6f-dc89e2c2f803"
      },
      "execution_count": null,
      "outputs": [
        {
          "output_type": "stream",
          "name": "stdout",
          "text": [
            "tails\n"
          ]
        }
      ]
    },
    {
      "cell_type": "markdown",
      "source": [
        "### Random\n",
        "\n",
        "下面是关于 `random` 模块的一些基本介绍和常用功能：\n",
        "\n",
        "### 1. 生成随机数\n",
        "\n",
        "- **整数随机数**：使用 `random.randint(a, b)` 生成指定范围 `[a, b]` 内的随机整数。\n",
        "  \n",
        "  ```python\n",
        "  import random\n",
        "  \n",
        "  # 生成 1 到 10 之间的随机整数\n",
        "  random_int = random.randint(1, 10)\n",
        "  print(random_int)\n",
        "  ```\n",
        "\n",
        "- **浮点数随机数**：使用 `random.random()` 生成 `[0.0, 1.0)` 范围内的随机浮点数。\n",
        "  \n",
        "  ```python\n",
        "  import random\n",
        "  \n",
        "  # 生成 0 到 1 之间的随机浮点数\n",
        "  random_float = random.random()\n",
        "  print(random_float)\n",
        "  ```\n",
        "\n",
        "### 2. 生成随机序列\n",
        "\n",
        "- **打乱序列**：使用 `random.shuffle(list)` 打乱列表中元素的顺序。\n",
        "  \n",
        "  ```python\n",
        "  import random\n",
        "  \n",
        "  my_list = [1, 2, 3, 4, 5]\n",
        "  random.shuffle(my_list)\n",
        "  print(my_list)\n",
        "  ```\n",
        "\n",
        "### 3. 随机选择\n",
        "\n",
        "- **随机选择元素**：使用 `random.choice(seq)` 随机选择序列 `seq` 中的一个元素。\n",
        "  \n",
        "  ```python\n",
        "  import random\n",
        "  \n",
        "  fruits = [\"apple\", \"banana\", \"cherry\"]\n",
        "  random_fruit = random.choice(fruits)\n",
        "  print(random_fruit)\n",
        "  ```\n",
        "\n",
        "- **多项随机选择**：使用 `random.choices(seq, weights=None, k=1)` 在序列 `seq` 中根据权重 `weights` 随机选择 `k` 个元素。\n",
        "  \n",
        "  ```python\n",
        "  import random\n",
        "  \n",
        "  colors = [\"red\", \"green\", \"blue\"]\n",
        "  weights = [1, 2, 3]  # 对应颜色的权重\n",
        "  random_colors = random.choices(colors, weights=weights, k=2)\n",
        "  print(random_colors)\n",
        "  ```\n",
        "\n",
        "### 4. 其他功能\n",
        "\n",
        "- **种子控制**：使用 `random.seed(seed)` 设置随机数生成器的种子，以便产生可预测的随机数序列。\n",
        "  \n",
        "  ```python\n",
        "  import random\n",
        "  \n",
        "  random.seed(42)\n",
        "  print(random.random())  # 输出: 0.6394267984578837\n",
        "  random.seed(42)\n",
        "  print(random.random())  # 输出: 0.6394267984578837\n",
        "  ```\n",
        "\n",
        "- **随机整数范围**：使用 `random.randrange(start, stop[, step])` 生成 `[start, stop)` 范围内指定步长的随机整数。\n",
        "\n",
        "### 注意事项\n",
        "\n",
        "- 在使用随机数时，特别是在需要高质量随机数的场景（如密码学应用），建议使用 `secrets` 模块，它提供了更安全的随机数生成功能。\n",
        "\n",
        "Python 的 `random` 模块提供了丰富的随机数生成和选择功能，可以满足大部分随机性需求。"
      ],
      "metadata": {
        "id": "AAx8xgzAZrJ3"
      }
    },
    {
      "cell_type": "markdown",
      "source": [
        "### random.randint(a, b)\n",
        "Return a random integer N such that a <= N <= b."
      ],
      "metadata": {
        "id": "OGcZ6MzMDlmq"
      }
    },
    {
      "cell_type": "code",
      "source": [
        "import random\n",
        "number = random.randint(1,10)\n",
        "print(number)"
      ],
      "metadata": {
        "colab": {
          "base_uri": "https://localhost:8080/"
        },
        "id": "f8KjROzPCYaF",
        "outputId": "0e51612d-1d9b-4518-fca8-af71bc214ae8"
      },
      "execution_count": null,
      "outputs": [
        {
          "output_type": "stream",
          "name": "stdout",
          "text": [
            "7\n"
          ]
        }
      ]
    },
    {
      "cell_type": "markdown",
      "source": [
        "### random.shuffle(x)\n",
        "Shuffle the sequence x **in place.**\n",
        "不会返回一个值，而是直接在原变量的基础上打乱"
      ],
      "metadata": {
        "id": "vS8bsL7UELdr"
      }
    },
    {
      "cell_type": "code",
      "source": [
        "import random\n",
        "cards = [\"jack\",\"queen\",\"king\"]\n",
        "random.shuffle(cards)\n",
        "for card in cards:\n",
        "  print(card)"
      ],
      "metadata": {
        "colab": {
          "base_uri": "https://localhost:8080/"
        },
        "id": "9jpkPKvED-7v",
        "outputId": "cb7794eb-8bc6-4d3e-d6d3-af350bcb3bd8"
      },
      "execution_count": null,
      "outputs": [
        {
          "output_type": "stream",
          "name": "stdout",
          "text": [
            "king\n",
            "jack\n",
            "queen\n"
          ]
        }
      ]
    },
    {
      "cell_type": "markdown",
      "source": [
        "### statistic library"
      ],
      "metadata": {
        "id": "a2vGrUkzVyjC"
      }
    },
    {
      "cell_type": "markdown",
      "source": [
        "以下是 Python `statistics` 库中几个最常用的函数：\n",
        "\n",
        "1. **`mean(data)`**: 计算数据的平均值（均值）。\n",
        "   ```python\n",
        "   import statistics\n",
        "   data = [1, 2, 3, 4, 5]\n",
        "   mean_value = statistics.mean(data)\n",
        "   ```\n",
        "\n",
        "2. **`median(data)`**: 计算数据的中位数。\n",
        "   ```python\n",
        "   import statistics\n",
        "   data = [1, 2, 3, 4, 5]\n",
        "   median_value = statistics.median(data)\n",
        "   ```\n",
        "\n",
        "3. **`mode(data)`**: 计算数据的众数（出现次数最多的值）。\n",
        "   ```python\n",
        "   import statistics\n",
        "   data = [1, 1, 2, 3]\n",
        "   mode_value = statistics.mode(data)\n",
        "   ```\n",
        "\n",
        "4. **`stdev(data)`**: 计算数据的样本标准差。\n",
        "   ```python\n",
        "   import statistics\n",
        "   data = [1, 2, 3, 4, 5]\n",
        "   stdev_value = statistics.stdev(data)\n",
        "   ```\n",
        "\n",
        "5. **`variance(data)`**: 计算数据的样本方差。\n",
        "   ```python\n",
        "   import statistics\n",
        "   data = [1, 2, 3, 4, 5]\n",
        "   variance_value = statistics.variance(data)\n",
        "   ```\n",
        "\n",
        "这些函数可以帮助你计算数据的基本统计特征，如均值、中位数、众数、标准差和方差。"
      ],
      "metadata": {
        "id": "3fYN9gEyWf6n"
      }
    },
    {
      "cell_type": "code",
      "source": [
        "import statistics"
      ],
      "metadata": {
        "id": "xtU7JfekV0OR"
      },
      "execution_count": null,
      "outputs": []
    },
    {
      "cell_type": "code",
      "source": [
        "statistics.mean([100,90,85])"
      ],
      "metadata": {
        "colab": {
          "base_uri": "https://localhost:8080/"
        },
        "id": "TluuyHt8EnPJ",
        "outputId": "9486d76e-ecd9-49f7-eb22-53165af4a2e4"
      },
      "execution_count": null,
      "outputs": [
        {
          "output_type": "execute_result",
          "data": {
            "text/plain": [
              "91.66666666666667"
            ]
          },
          "metadata": {},
          "execution_count": 21
        }
      ]
    },
    {
      "cell_type": "markdown",
      "source": [
        "### command line\n",
        "sys.argv 是 Python 标准库 sys 中的一个列表，它用于从命令行获取传递给 Python 程序的参数。\n",
        "\n",
        "**sys.argv 列表**：sys.argv 是一个列表，其中包含了从命令行传递给 Python 脚本的所有参数。列表的第一个元素 sys.argv[0] 是脚本的名称，后续的元素 sys.argv[1] 到 sys.argv[n] 是命令行参数。"
      ],
      "metadata": {
        "id": "3Fm4tdkSWzIN"
      }
    },
    {
      "cell_type": "code",
      "source": [
        "import sys\n",
        "print(\"hello, my name is\",sys.argv[1])"
      ],
      "metadata": {
        "id": "ASQDxvvUVx8X"
      },
      "execution_count": null,
      "outputs": []
    },
    {
      "cell_type": "markdown",
      "source": [
        "如果user忘记输入命令行参数，如何处理这种错误？一种方法是try"
      ],
      "metadata": {
        "id": "pDPK7YoOYvQb"
      }
    },
    {
      "cell_type": "code",
      "source": [
        "try:\n",
        "  print(\"hello, my name is\",sys.argv[1])\n",
        "except IndexError:\n",
        "  print(\"Too few argument\")"
      ],
      "metadata": {
        "id": "QslYHihtWyQk"
      },
      "execution_count": null,
      "outputs": []
    },
    {
      "cell_type": "markdown",
      "source": [
        "但是用IF匹配更准确的错误，更加常用。不过这个代码里，不建议正真要打印的那一行放在else里。应该把检查错误和打印分开。"
      ],
      "metadata": {
        "id": "EAO6kCXEZVV6"
      }
    },
    {
      "cell_type": "code",
      "source": [
        "if len(sys.argv)<2:\n",
        "  print(\"too few argument\")\n",
        "elif len(sys.argv)>2:\n",
        "  print(\"too many argument\")\n",
        "else:\n",
        "  print(\"hello, my name is\", sys.argv[1])"
      ],
      "metadata": {
        "id": "lFmlB0oaZIy7"
      },
      "execution_count": null,
      "outputs": []
    },
    {
      "cell_type": "markdown",
      "source": [
        "### sys.exit() 退出并且给出提示"
      ],
      "metadata": {
        "id": "DOloQ0EccDIq"
      }
    },
    {
      "cell_type": "code",
      "source": [
        "if len(sys.argv)<2:\n",
        "  sys.exit(\"too few argument\")\n",
        "elif len(sys.argv)>2:\n",
        "  sys.exit(\"too many argument\")\n",
        "\n",
        "print(\"hello, my name is\", sys.argv[1])"
      ],
      "metadata": {
        "id": "xZoXeDnNcGhG"
      },
      "execution_count": null,
      "outputs": []
    },
    {
      "cell_type": "markdown",
      "source": [
        "### slice\n",
        "`slice` 可以帮助你从一个序列中获取一个子序列或对其进行切片操作。\n",
        "```python\n",
        "sequence[start:stop:step]\n",
        "```\n",
        "- `start`：切片的起始位置（包含）。\n",
        "- `stop`：切片的结束位置（不包含）。\n",
        "- `step`：切片的步长，表示每隔多少个元素取一个。\n",
        "\n",
        "### 示例\n",
        "\n",
        "假设有一个列表 `lst`：\n",
        "\n",
        "```python\n",
        "lst = [0, 1, 2, 3, 4, 5, 6, 7, 8, 9]\n",
        "```\n",
        "\n",
        "#### 提取部分列表\n",
        "\n",
        "```python\n",
        "sub_lst = lst[2:5]  # [2, 3, 4]\n",
        "```\n",
        "\n",
        "#### 使用步长\n",
        "\n",
        "```python\n",
        "sub_lst = lst[1:8:2]  # [1, 3, 5, 7]\n",
        "```\n",
        "\n",
        "#### 省略开始或结束索引\n",
        "\n",
        "```python\n",
        "sub_lst = lst[:4]  # [0, 1, 2, 3]，相当于 lst[0:4]\n",
        "sub_lst = lst[5:]  # [5, 6, 7, 8, 9]，相当于 lst[5:len(lst)]\n",
        "```\n",
        "\n",
        "#### 反向切片\n",
        "\n",
        "```python\n",
        "sub_lst = lst[::-1]  # [9, 8, 7, 6, 5, 4, 3, 2, 1, 0]，反向排序\n",
        "```\n",
        "\n",
        "### 常见用途\n",
        "\n",
        "1. **数据提取**：从序列中提取需要的部分，比如从列表中获取子列表。\n",
        "2. **数据变换**：修改序列的一部分，比如替换列表中的某一部分。\n",
        "3. **反转序列**：使用步长 `-1` 可以反转序列。\n",
        "4. **步长控制**：可以控制切片的步长来跳过某些元素。\n",
        "\n",
        "\n"
      ],
      "metadata": {
        "id": "S3Wg6phj7jeb"
      }
    },
    {
      "cell_type": "code",
      "source": [
        "if len(sys.argv)<2:\n",
        "  sys.exit(\"too few argument\")\n",
        "\n",
        "for arg in sys.argv[1:]:\n",
        "  print(\"hello, my name is\", arg)"
      ],
      "metadata": {
        "id": "A7vEzYLo7lyG"
      },
      "execution_count": null,
      "outputs": []
    },
    {
      "cell_type": "markdown",
      "source": [
        "### packages\n",
        "\n",
        "#### 定义：\n",
        "包是一个组织代码的方式，它通常包括多个模块、库和其他资源。包的目的是将相关的代码组织在一起，方便管理和分发。\n",
        "\n",
        "#### 特点：\n",
        "**组织结构：**包包含多个模块或子包。每个模块可以包含函数、类、对象等，而包本身则是一个目录，包含了这些模块。\n",
        "\n",
        "**管理和分发：**包是分发和安装库的主要单位，通常配合包管理工具来安装和管理依赖项。\n",
        "编程语言：包的概念在不同语言中都有，如 Python 的包管理（pip）、Java 的包（package 关键字）等。"
      ],
      "metadata": {
        "id": "zytJpfMH89yO"
      }
    },
    {
      "cell_type": "markdown",
      "source": [
        "### APIs"
      ],
      "metadata": {
        "id": "YcrTfg75_Vzh"
      }
    },
    {
      "cell_type": "code",
      "source": [
        "import requests\n",
        "import json\n",
        "import sys\n",
        "sys.argv = ['test.py', 'The Beatles']"
      ],
      "metadata": {
        "id": "st43n_Bu89i1"
      },
      "execution_count": null,
      "outputs": []
    },
    {
      "cell_type": "code",
      "source": [
        "if len(sys.argv)!=2:\n",
        "  sys.exit()\n",
        "response = requests.get(\"https://itunes.apple.com/search?entity=song&limit=1&term=\"+sys.argv[1])\n",
        "\n",
        "print(json.dumps(response.json(),indent=2))"
      ],
      "metadata": {
        "colab": {
          "base_uri": "https://localhost:8080/"
        },
        "id": "CQz90S7nAl_K",
        "outputId": "0a77361c-d44d-43ba-de24-8e0d592196f3"
      },
      "execution_count": null,
      "outputs": [
        {
          "output_type": "stream",
          "name": "stdout",
          "text": [
            "{\n",
            "  \"resultCount\": 1,\n",
            "  \"results\": [\n",
            "    {\n",
            "      \"wrapperType\": \"track\",\n",
            "      \"kind\": \"song\",\n",
            "      \"artistId\": 115234,\n",
            "      \"collectionId\": 1440878798,\n",
            "      \"trackId\": 1440879325,\n",
            "      \"artistName\": \"Weezer\",\n",
            "      \"collectionName\": \"Weezer\",\n",
            "      \"trackName\": \"Buddy Holly\",\n",
            "      \"collectionCensoredName\": \"Weezer\",\n",
            "      \"trackCensoredName\": \"Buddy Holly\",\n",
            "      \"artistViewUrl\": \"https://music.apple.com/us/artist/weezer/115234?uo=4\",\n",
            "      \"collectionViewUrl\": \"https://music.apple.com/us/album/buddy-holly/1440878798?i=1440879325&uo=4\",\n",
            "      \"trackViewUrl\": \"https://music.apple.com/us/album/buddy-holly/1440878798?i=1440879325&uo=4\",\n",
            "      \"previewUrl\": \"https://audio-ssl.itunes.apple.com/itunes-assets/AudioPreview211/v4/b1/35/53/b13553c8-22f3-3e62-47cc-beaf65440f0e/mzaf_9734530910938773283.plus.aac.p.m4a\",\n",
            "      \"artworkUrl30\": \"https://is1-ssl.mzstatic.com/image/thumb/Music221/v4/d0/16/da/d016da24-577e-b584-3a5a-116efb5ca362/16UMGIM52971.rgb.jpg/30x30bb.jpg\",\n",
            "      \"artworkUrl60\": \"https://is1-ssl.mzstatic.com/image/thumb/Music221/v4/d0/16/da/d016da24-577e-b584-3a5a-116efb5ca362/16UMGIM52971.rgb.jpg/60x60bb.jpg\",\n",
            "      \"artworkUrl100\": \"https://is1-ssl.mzstatic.com/image/thumb/Music221/v4/d0/16/da/d016da24-577e-b584-3a5a-116efb5ca362/16UMGIM52971.rgb.jpg/100x100bb.jpg\",\n",
            "      \"collectionPrice\": 10.99,\n",
            "      \"trackPrice\": 1.29,\n",
            "      \"releaseDate\": \"1994-02-28T12:00:00Z\",\n",
            "      \"collectionExplicitness\": \"notExplicit\",\n",
            "      \"trackExplicitness\": \"notExplicit\",\n",
            "      \"discCount\": 1,\n",
            "      \"discNumber\": 1,\n",
            "      \"trackCount\": 10,\n",
            "      \"trackNumber\": 4,\n",
            "      \"trackTimeMillis\": 159587,\n",
            "      \"country\": \"USA\",\n",
            "      \"currency\": \"USD\",\n",
            "      \"primaryGenreName\": \"Pop\",\n",
            "      \"isStreamable\": true\n",
            "    }\n",
            "  ]\n",
            "}\n"
          ]
        }
      ]
    },
    {
      "cell_type": "code",
      "source": [
        "if len(sys.argv)!=2:\n",
        "  sys.exit()\n",
        "response = requests.get(\"https://itunes.apple.com/search?entity=song&limit=50&term=\"+sys.argv[1])\n",
        "\n",
        "o = response.json()\n",
        "for result in o[\"results\"]:\n",
        "  print(result[\"trackName\"])"
      ],
      "metadata": {
        "colab": {
          "base_uri": "https://localhost:8080/"
        },
        "id": "Hz6_2gtBC0KK",
        "outputId": "c8784670-729b-47f8-ddbc-8ee9108afb2c"
      },
      "execution_count": null,
      "outputs": [
        {
          "output_type": "stream",
          "name": "stdout",
          "text": [
            "The Beatles\n",
            "The Beatles\n",
            "The Beatles\n",
            "The Beatles\n",
            "Bigger Than the Beatles\n",
            "Hey Jude\n",
            "Blackbird\n",
            "Birthday\n",
            "Ob-La-Di, Ob-La-Da\n",
            "Black Beatles (feat. Gucci Mane)\n",
            "Yesterday\n",
            "While My Guitar Gently Weeps\n",
            "The Beatles\n",
            "Here Comes the Sun (Glee Cast Version) [feat. Demi Lovato]\n",
            "Revolution\n",
            "Here Comes the Sun\n",
            "Don't Let Me Down\n",
            "All You Need Is Love\n",
            "Let It Be\n",
            "Yesterday (Glee Cast Version)\n",
            "Rocky Raccoon\n",
            "Strawberry Fields Forever\n",
            "Helter Skelter\n",
            "I Will\n",
            "Back In the U.S.S.R.\n",
            "I Am the Walrus\n",
            "Let It Be (Glee Cast Version)\n",
            "Hello, Goodbye\n",
            "While My Guitar Gently Weeps\n",
            "Ob-La-Di, Ob-La-Da\n",
            "Penny Lane\n",
            "Dear Prudence\n",
            "Back In the U.S.S.R.\n",
            "Helter Skelter\n",
            "Come Together\n",
            "Happiness Is a Warm Gun\n",
            "I Want to Hold Your Hand\n",
            "Octopus's Garden\n",
            "In My Life\n",
            "A Day In the Life\n",
            "Lucy In the Sky with Diamonds\n",
            "Something\n",
            "With a Little Help From My Friends\n",
            "Get Back\n",
            "The Long and Winding Road\n",
            "Across the Universe\n",
            "Mother Nature's Son\n",
            "Revolution 1\n",
            "The Ballad of John and Yoko\n",
            "Old Brown Shoe\n"
          ]
        }
      ]
    },
    {
      "cell_type": "markdown",
      "source": [
        " ### create your own module or package"
      ],
      "metadata": {
        "id": "cwRb4zA_aGIh"
      }
    },
    {
      "cell_type": "code",
      "source": [
        "def hello(name):"
      ],
      "metadata": {
        "id": "9QPRimM9YMF1"
      },
      "execution_count": null,
      "outputs": []
    },
    {
      "cell_type": "markdown",
      "source": [],
      "metadata": {
        "id": "7rvvF4N-piCS"
      }
    },
    {
      "cell_type": "markdown",
      "source": [
        "# Lecture 6 - File I/O"
      ],
      "metadata": {
        "id": "k-U0qd5EkWXs"
      }
    },
    {
      "cell_type": "markdown",
      "source": [
        "### open(\"name.txt\",\"w\") 写入"
      ],
      "metadata": {
        "id": "JDo3WTFcvI-b"
      }
    },
    {
      "cell_type": "markdown",
      "source": [
        "以下的操作会每次覆盖旧的内容，因为模式是w"
      ],
      "metadata": {
        "id": "yKjdBSYHmVVZ"
      }
    },
    {
      "cell_type": "code",
      "source": [
        "name = input(\"What's your name? \")\n",
        "\n",
        "file = open(\"names.txt\",\"w\")\n",
        "file.write(name)\n",
        "file.close()"
      ],
      "metadata": {
        "id": "-vz8kYAikdYe"
      },
      "execution_count": null,
      "outputs": []
    },
    {
      "cell_type": "markdown",
      "source": [
        "### open(\"name.txt\",\"a\") 追加"
      ],
      "metadata": {
        "id": "yltuj9XuvQLb"
      }
    },
    {
      "cell_type": "markdown",
      "source": [
        "open(\"names.txt\",\"a\"),可以追加新的内容，但是各个输入之间没有空格\n"
      ],
      "metadata": {
        "id": "z5Yt00Bjmkc3"
      }
    },
    {
      "cell_type": "code",
      "source": [
        "name = input(\"What's your name? \")\n",
        "\n",
        "file = open(\"names.txt\",\"a\")\n",
        "file.write(name)\n",
        "file.close()"
      ],
      "metadata": {
        "id": "nb-9gA_xmoXt"
      },
      "execution_count": null,
      "outputs": []
    },
    {
      "cell_type": "markdown",
      "source": [
        "每次输入之间隔一行"
      ],
      "metadata": {
        "id": "JL0k2HHvnTSe"
      }
    },
    {
      "cell_type": "code",
      "source": [
        "name = input(\"What's your name? \")\n",
        "\n",
        "file = open(\"names.txt\",\"a\")\n",
        "file.write(f\"{name}\\n\")\n",
        "file.close()\n"
      ],
      "metadata": {
        "id": "BgeXu49GnR5o"
      },
      "execution_count": null,
      "outputs": []
    },
    {
      "cell_type": "markdown",
      "source": [
        "### with开头自动关闭file"
      ],
      "metadata": {
        "id": "f5ut_1fdvU1G"
      }
    },
    {
      "cell_type": "markdown",
      "source": [
        "执行完任务后自动close的写法：因为变量只在with之内有效。"
      ],
      "metadata": {
        "id": "9Cl0KZbJoAEb"
      }
    },
    {
      "cell_type": "code",
      "source": [
        "with open(\"names.txt\",\"a\") as file:\n",
        "    file.write(f\"{name}\\n\")"
      ],
      "metadata": {
        "id": "TW3BCTu8oIKI"
      },
      "execution_count": null,
      "outputs": []
    },
    {
      "cell_type": "markdown",
      "source": [
        "### line.rstrip()\n",
        "line.rstrip() 是 Python 中一个字符串方法，用于去除字符串末尾的空白字符（例如空格、制表符、换行符等）。"
      ],
      "metadata": {
        "id": "2Vx8rAdmvYY-"
      }
    },
    {
      "cell_type": "markdown",
      "source": [
        "因为print在字符串后面自带一个\\n,而文本要是也有\\n的话，就会出现read lines打印多余的空格。可以用line.rstrip()去掉文本末尾的空格"
      ],
      "metadata": {
        "id": "R11QRRWZvu8d"
      }
    },
    {
      "cell_type": "code",
      "source": [
        "\n",
        "with open(\"names.txt\",\"r\") as file:\n",
        "    lines = file.readlines()\n",
        "    # read all of lines and return them\n",
        "\n",
        "for line in lines:\n",
        "    print(line,line.rstrip())"
      ],
      "metadata": {
        "id": "ffNuyDtwvd-U"
      },
      "execution_count": null,
      "outputs": []
    },
    {
      "cell_type": "markdown",
      "source": [
        "### 更优雅的读取文件的方法：迭代file"
      ],
      "metadata": {
        "id": "GSCXuiKYzBq6"
      }
    },
    {
      "cell_type": "markdown",
      "source": [
        "在 Python 中，文件对象（例如通过 open() 函数创建的文件对象）是可迭代的。\n",
        "\n",
        "当你迭代一个文件对象时，每次迭代都会读取文件中的一行。"
      ],
      "metadata": {
        "id": "4IediRAIzJWA"
      }
    },
    {
      "cell_type": "code",
      "source": [
        "with open(\"names.txt\",\"r\") as file:\n",
        "    for line in file:\n",
        "        print(\"hello,\",line.rstrip())\n"
      ],
      "metadata": {
        "id": "1riF9w5TvrEt"
      },
      "execution_count": null,
      "outputs": []
    },
    {
      "cell_type": "markdown",
      "source": [
        "### 如果想边读边打印排好序，这是不可能的。\n",
        "需要创建一个list单独存放数据，进行sorted。边读边改变顺序是不可能的"
      ],
      "metadata": {
        "id": "jmo79n0n0wS1"
      }
    },
    {
      "cell_type": "code",
      "source": [
        "names = []\n",
        "\n",
        "with open(\"names.txt\") as file:\n",
        "    for line in file:\n",
        "        names.append(line.rstrip())\n",
        "\n",
        "for name in sorted(names):\n",
        "    print(f\"hello, {name}\")"
      ],
      "metadata": {
        "id": "tOQ_CKTT05MP"
      },
      "execution_count": null,
      "outputs": []
    },
    {
      "cell_type": "markdown",
      "source": [
        "甚至可以在file上sorted，但是不会改变源文件的顺序"
      ],
      "metadata": {
        "id": "Hf0F8pEY2Nc9"
      }
    },
    {
      "cell_type": "code",
      "source": [
        "with open(\"names.txt\") as file:\n",
        "    for line in sorted(file):\n",
        "        print(\"hello,\",line.rstrip())\n"
      ],
      "metadata": {
        "id": "okxu6OGT2P-T"
      },
      "execution_count": null,
      "outputs": []
    },
    {
      "cell_type": "markdown",
      "source": [
        "### 倒序sorted\n",
        "sorted(iterable obj, reverse = True)"
      ],
      "metadata": {
        "id": "X1dsaX0A3W8m"
      }
    },
    {
      "cell_type": "code",
      "source": [
        "for name in sorted(names, reverse = True):\n",
        "    print(f\"hello, {name}\")"
      ],
      "metadata": {
        "id": "wi-PDKbT3qvR"
      },
      "execution_count": null,
      "outputs": []
    },
    {
      "cell_type": "markdown",
      "source": [
        "### 创建csv并读取"
      ],
      "metadata": {
        "id": "k4DssTD67eXe"
      }
    },
    {
      "cell_type": "markdown",
      "source": [
        "csv内容：\n",
        "\n",
        "每行读取，用split隔开"
      ],
      "metadata": {
        "id": "6qBiTRYj7j3e"
      }
    },
    {
      "cell_type": "markdown",
      "source": [
        "alice,block1\n",
        "\n",
        "bob,block2\n",
        "\n",
        "cathrine,block3\n",
        "\n",
        "baby,block4"
      ],
      "metadata": {
        "id": "PiFEhzwu7jJf"
      }
    },
    {
      "cell_type": "code",
      "source": [
        "with open(\"students.csv\") as file:\n",
        "    for line in file:\n",
        "        row = line.rstrip().split(\",\")\n",
        "        print(f\"{row[0]} lives in {row[1]}\")\n"
      ],
      "metadata": {
        "id": "yNvTjWnD7g43"
      },
      "execution_count": null,
      "outputs": []
    },
    {
      "cell_type": "markdown",
      "source": [
        "当表达式返回list，可以按照list的个数直接在前面赋值"
      ],
      "metadata": {
        "id": "Qfph2yeD8lBj"
      }
    },
    {
      "cell_type": "code",
      "source": [
        "with open(\"students.csv\") as file:\n",
        "    for line in file:\n",
        "        name,house = line.rstrip().split(\",\")\n",
        "        print(f\"{name} lives in {house}\")"
      ],
      "metadata": {
        "id": "SPuEZAib8q3x"
      },
      "execution_count": null,
      "outputs": []
    },
    {
      "cell_type": "markdown",
      "source": [
        "### lambda"
      ],
      "metadata": {
        "id": "eV6oIwgJTi1r"
      }
    },
    {
      "cell_type": "markdown",
      "source": [
        "lambda student: student[\"name\"])就相当于get_name那个函数了"
      ],
      "metadata": {
        "id": "Id4Rml85TrQS"
      }
    },
    {
      "cell_type": "code",
      "source": [
        "def get_name(student):\n",
        "    return student[\"name\"]\n",
        "\n",
        "for student in sorted(students, key=lambda student: student[\"name\"]):\n",
        "    print(f\"{student['name']} is in {student['house']}\")\n"
      ],
      "metadata": {
        "id": "2bXiPMjXTjHC"
      },
      "execution_count": null,
      "outputs": []
    },
    {
      "cell_type": "markdown",
      "source": [
        "`lambda` 表达式在 Python 中是一种创建匿名函数的方式。匿名函数就是没有名字的函数。这个特定的 `lambda` 表达式的用法可以分解如下：\n",
        "\n",
        "```python\n",
        "lambda student: student[\"name\"]\n",
        "```\n",
        "\n",
        "### 解释：\n",
        "\n",
        "1. **`lambda`**：这是定义一个匿名函数的关键字。它允许你创建一个没有名字的简单函数。\n",
        "\n",
        "2. **`student`**：这是 `lambda` 表达式的参数。这个参数可以是任何你想传递给函数的数据。在这个例子中，`student` 被假设为一个字典类型。\n",
        "\n",
        "3. **`student[\"name\"]`**：这是函数体，表示这个 `lambda` 函数返回的结果。在这个例子中，它从 `student` 字典中提取键 `\"name\"` 对应的值。\n",
        "\n",
        "### 整体功能：\n",
        "\n",
        "这个 `lambda` 表达式定义了一个函数，它接受一个字典 `student` 作为输入，并返回这个字典中 `\"name\"` 键对应的值。例如，如果 `student` 是 `{\"name\": \"Alice\", \"age\": 22}`，那么 `lambda student: student[\"name\"]` 将会返回 `\"Alice\"`。\n",
        "\n",
        "### 使用场景：\n",
        "\n",
        "这样的 `lambda` 表达式常常用于需要短小函数的地方，例如在 `sort()` 或 `map()` 函数中。比如：\n",
        "\n",
        "```python\n",
        "students = [\n",
        "    {\"name\": \"Alice\", \"age\": 22},\n",
        "    {\"name\": \"Bob\", \"age\": 20},\n",
        "    {\"name\": \"Charlie\", \"age\": 23}\n",
        "]\n",
        "\n",
        "# 按照学生的名字排序\n",
        "students_sorted = sorted(students, key=lambda student: student[\"name\"])\n",
        "\n",
        "print(students_sorted)\n",
        "```"
      ],
      "metadata": {
        "id": "OfrxKTClTwf0"
      }
    },
    {
      "cell_type": "markdown",
      "source": [
        "### csv模块的reader"
      ],
      "metadata": {
        "id": "-MUaY3qDY-nm"
      }
    },
    {
      "cell_type": "code",
      "source": [
        "import csv\n",
        "\n",
        "students = []\n",
        "\n",
        "with open(\"students.csv\") as file:\n",
        "    reader = csv.reader(file)\n",
        "    for name, home in reader:\n",
        "        students.append({\"name\":name,\"home\":home})\n",
        "\n",
        "for student in sorted(students, key = lambda student:student[\"name\"]):\n",
        "    print(f\"{student[\"name\"]} is in {student[\"home\"]}\")\n"
      ],
      "metadata": {
        "id": "38_ta1mSUAT8"
      },
      "execution_count": null,
      "outputs": []
    },
    {
      "cell_type": "markdown",
      "source": [
        "\n",
        "\n",
        "CSV（Comma-Separated Values）文件格式通常使用逗号分隔不同的字段。然而，如果字段本身包含逗号，就需要一种方法来确保逗号不会被误解为字段分隔符。CSV 格式通过引号来处理这种情况：\n",
        "\n",
        "- **双引号**：如果字段内包含逗号或其他分隔符，整个字段将被双引号包围。例如 `\"block1,sixteen\"`。\n",
        "- **无引号**：字段内没有逗号时，字段可以不加引号。\n",
        "\n",
        "在你的 CSV 文件中：\n",
        "\n",
        "```csv\n",
        "alice,\"block1,sixteen\"\n",
        "bob,block2\n",
        "cathrine,block3\n",
        "baby,block4\n",
        "```\n",
        "\n",
        "- `alice,\"block1,sixteen\"`：`alice` 是第一个字段，`\"block1,sixteen\"` 是第二个字段。因为第二个字段用引号包围，所以逗号不会被当作字段分隔符。\n",
        "\n",
        "### `csv.reader` 的工作原理\n",
        "\n",
        "Python 的 `csv` 模块处理这些规则，确保字段被正确解析：\n",
        "\n",
        "- 当 `csv.reader` 读取这行时，它会看到引号并理解到 `\"` 的内容是一个完整的字段。\n",
        "- 它会将 `alice` 和 `\"block1,sixteen\"` 分别解析为两个字段。\n"
      ],
      "metadata": {
        "id": "gEGAZuZLZD7T"
      }
    },
    {
      "cell_type": "markdown",
      "source": [
        "### csv.DictReader"
      ],
      "metadata": {
        "id": "p8wQ6FZ1Zx4Y"
      }
    },
    {
      "cell_type": "markdown",
      "source": [
        "csv如下：\n",
        "\n",
        "name,home\n",
        "\n",
        "alice,\"block1,sixteen\"\n",
        "\n",
        "bob,block2\n",
        "\n",
        "cathrine,block3\n",
        "\n",
        "baby,block4\n"
      ],
      "metadata": {
        "id": "zKvWXeugZ2Mh"
      }
    },
    {
      "cell_type": "markdown",
      "source": [
        "用csv.DictReader，每次都能返回一个字典。比如，以下第一次遍历返回的是：\n",
        "```python\n",
        "{\n",
        "    \"name\": \"alice\",\n",
        "    \"home\": \"block1,sixteen\"\n",
        "}\n",
        "```"
      ],
      "metadata": {
        "id": "a2-5gpSZZ_Y6"
      }
    },
    {
      "cell_type": "code",
      "source": [
        "import csv\n",
        "\n",
        "students = []\n",
        "\n",
        "with open(\"students.csv\") as file:\n",
        "    reader = csv.DictReader(file)\n",
        "    for row in reader:\n",
        "        students.append({\"name\":row[\"name\"],\"home\":row[\"home\"]})\n",
        "\n",
        "for student in sorted(students, key = lambda student:student[\"name\"]):\n",
        "    print(f\"{student[\"name\"]} is in {student[\"home\"]}\")"
      ],
      "metadata": {
        "id": "sIBtNwY-ZJBi"
      },
      "execution_count": null,
      "outputs": []
    },
    {
      "cell_type": "markdown",
      "source": [
        "### csv.writer"
      ],
      "metadata": {
        "id": "uZ8IwsLjuuQf"
      }
    },
    {
      "cell_type": "markdown",
      "source": [
        "这个只能传入列表，如果表头变了无法很好追踪"
      ],
      "metadata": {
        "id": "Jan3xSdRvnK1"
      }
    },
    {
      "cell_type": "code",
      "source": [
        "import csv\n",
        "\n",
        "name = input(\"what's your name? \")\n",
        "home = input(\"where's your home? \")\n",
        "\n",
        "with open(\"add.csv\",\"a\") as file:\n",
        "    writer = csv.writer(file)\n",
        "    writer.writerow([name,home])"
      ],
      "metadata": {
        "id": "eebJNVYxuwb7"
      },
      "execution_count": null,
      "outputs": []
    },
    {
      "cell_type": "markdown",
      "source": [
        "## csv.DictWriter"
      ],
      "metadata": {
        "id": "j6c5ZdaHuyUE"
      }
    },
    {
      "cell_type": "markdown",
      "source": [
        "DictWriter在fieldnames参数中，传入了表头的顺序。\n",
        "\n",
        "只要顺序一致，那么下面传入的参数只要key对上了，不论传进去的顺序，都可以正确匹配"
      ],
      "metadata": {
        "id": "875Pn7EOvwoF"
      }
    },
    {
      "cell_type": "code",
      "source": [
        "import csv\n",
        "\n",
        "name = input(\"what's your name? \")\n",
        "home = input(\"where's your home? \")\n",
        "\n",
        "with open(\"add.csv\",\"a\") as file:\n",
        "    writer = csv.DictWriter(file,fieldnames=[\"home\",\"name\"])\n",
        "    writer.writerow({\"name\":name,\"home\":home})"
      ],
      "metadata": {
        "id": "AxjfUaU7u0eg"
      },
      "execution_count": null,
      "outputs": []
    },
    {
      "cell_type": "markdown",
      "source": [
        "### 为什么DictWriter可以用writerow写入整个字典列表？"
      ],
      "metadata": {
        "id": "ej_xkX2PVGjm"
      }
    },
    {
      "cell_type": "markdown",
      "source": [
        "在 Python 的 `csv` 模块中，`csv.DictWriter` 类是专门设计用于将字典数据写入 CSV 文件的。字典的键对应于 CSV 文件中的列名，而字典的值对应于每行的字段数据。下面详细解释为什么 `writer.writerows(rows)` 可以直接写一个字典的列表：\n",
        "\n",
        "### `csv.DictWriter` 类\n",
        "\n",
        "1. **初始化 `DictWriter` 对象**：\n",
        "   ```python\n",
        "   writer = csv.DictWriter(outfile_file, fieldnames=fieldnames)\n",
        "   ```\n",
        "   - `fieldnames` 参数是一个包含所有列名称的列表，例如 `[\"first\", \"last\", \"house\"]`。\n",
        "   - `DictWriter` 对象使用这些列名称来确定 CSV 文件的表头以及每一行的字段顺序。\n",
        "\n",
        "2. **写入表头**：\n",
        "   ```python\n",
        "   writer.writeheader()\n",
        "   ```\n",
        "   - `writeheader()` 方法使用 `fieldnames` 参数中提供的字段名写入 CSV 文件的第一行（表头）。\n",
        "\n",
        "3. **写入数据**：\n",
        "   ```python\n",
        "   writer.writerows(rows)\n",
        "   ```\n",
        "   - `writerows(rows)` 方法接受一个字典的列表，其中每个字典表示 CSV 文件的一行数据。\n",
        "\n",
        "### 为什么可以直接写字典列表？\n",
        "\n",
        "- **字段对应**：每个字典的键应该与 `fieldnames` 列表中的字段名匹配。`DictWriter` 根据字典的键自动处理列的顺序和内容。\n",
        "  \n",
        "  ```python\n",
        "  rows = [\n",
        "      {\"first\": \"John\", \"last\": \"Doe\", \"house\": \"Gryffindor\"},\n",
        "      {\"first\": \"Jane\", \"last\": \"Smith\", \"house\": \"Hufflepuff\"}\n",
        "  ]\n",
        "  ```\n",
        "\n",
        "  在这个例子中，`rows` 是一个包含两个字典的列表。每个字典的键（如 `\"first\"`, `\"last\"`, 和 `\"house\"`）与 `fieldnames` 中的字段名匹配。\n",
        "\n",
        "- **自动处理字段顺序**：`DictWriter` 会将字典的值按照 `fieldnames` 中的顺序写入到 CSV 文件中。因此，`writer.writerows(rows)` 会自动将每个字典的数据写入对应的列。\n",
        "\n",
        "### 例子说明\n",
        "\n",
        "假设你有如下数据：\n",
        "\n",
        "```python\n",
        "rows = [\n",
        "    {\"first\": \"John\", \"last\": \"Doe\", \"house\": \"Gryffindor\"},\n",
        "    {\"first\": \"Jane\", \"last\": \"Smith\", \"house\": \"Hufflepuff\"}\n",
        "]\n",
        "```\n",
        "\n",
        "并且初始化了 `DictWriter` 对象：\n",
        "\n",
        "```python\n",
        "writer = csv.DictWriter(outfile_file, fieldnames=[\"first\", \"last\", \"house\"])\n",
        "```\n",
        "\n",
        "当你调用 `writer.writerows(rows)` 时，`DictWriter` 会根据 `fieldnames` 的顺序，将每个字典的值写入到 CSV 文件中，如下所示：\n",
        "\n",
        "```\n",
        "first,last,house\n",
        "John,Doe,Gryffindor\n",
        "Jane,Smith,Hufflepuff\n",
        "```\n",
        "\n",
        "### 总结\n",
        "\n",
        "`csv.DictWriter` 的 `writerows()` 方法可以直接接受一个字典的列表，因为 `DictWriter` 知道如何处理字典数据，并将其转换为适当格式的 CSV 文件。字典的键对应于列名称，字典的值对应于每行的数据，`DictWriter` 自动管理字段顺序和内容。"
      ],
      "metadata": {
        "id": "XiitgigoVLMV"
      }
    },
    {
      "cell_type": "markdown",
      "source": [
        "## next()"
      ],
      "metadata": {
        "id": "osU7blkSwS3L"
      }
    },
    {
      "cell_type": "markdown",
      "source": [
        "`next()` 是 Python 的一个内置函数，用于从迭代器中获取下一个值。它通常用于遍历迭代器，尤其是在需要逐个获取数据项时。`next()` 函数的基本用法和特性如下：\n",
        "\n",
        "### 基本用法\n",
        "\n",
        "1. **从迭代器中获取下一个元素**：\n",
        "   ```python\n",
        "   numbers = iter([1, 2, 3])\n",
        "   print(next(numbers))  # 输出: 1\n",
        "   print(next(numbers))  # 输出: 2\n",
        "   ```\n",
        "\n",
        "2. **指定默认值**：\n",
        "   如果迭代器中没有更多元素，`next()` 函数会抛出 `StopIteration` 异常。你可以通过提供 `default` 参数来避免这个异常，而是返回一个指定的默认值：\n",
        "   ```python\n",
        "   numbers = iter([1, 2, 3])\n",
        "   print(next(numbers, 'No more items'))  # 输出: 1\n",
        "   print(next(numbers, 'No more items'))  # 输出: 2\n",
        "   print(next(numbers, 'No more items'))  # 输出: 3\n",
        "   print(next(numbers, 'No more items'))  # 输出: No more items\n",
        "   ```\n",
        "\n",
        "### 常见用法\n",
        "\n",
        "1. **读取文件的第一行**：\n",
        "   `next()` 可以用来从文件读取器中获取第一行数据。例如：\n",
        "   ```python\n",
        "   with open('file.csv') as file:\n",
        "       reader = csv.reader(file)\n",
        "       header = next(reader)\n",
        "       print(header)  # 输出 CSV 文件的表头\n",
        "   ```\n",
        "\n",
        "2. **跳过迭代器中的元素**：\n",
        "   在处理数据时，你可以使用 `next()` 来跳过特定的元素。例如：\n",
        "   ```python\n",
        "   iterator = iter([10, 20, 30, 40])\n",
        "   next(iterator)  # 跳过 10\n",
        "   print(next(iterator))  # 输出: 20\n",
        "   ```\n",
        "\n",
        "### 错误处理\n",
        "\n",
        "- **`StopIteration` 异常**：\n",
        "  如果你尝试从一个已经耗尽的迭代器中获取下一个值，`next()` 会抛出 `StopIteration` 异常。你可以使用 `try...except` 块来处理这个异常：\n",
        "  ```python\n",
        "  iterator = iter([1, 2, 3])\n",
        "  try:\n",
        "      while True:\n",
        "          print(next(iterator))\n",
        "  except StopIteration:\n",
        "      print(\"迭代器已经耗尽\")\n",
        "  ```\n",
        "\n",
        "### 总结\n",
        "\n",
        "- `next()` 是一个非常有用的函数，主要用于从迭代器中获取下一个元素。\n",
        "- 可以指定默认值来避免 `StopIteration` 异常。\n",
        "- 在实际编程中，`next()` 常用于读取文件、处理数据流、以及其他需要逐个获取元素的场景。"
      ],
      "metadata": {
        "id": "bQplemyEwe0D"
      }
    },
    {
      "cell_type": "markdown",
      "source": [
        "# Lecture 7 - Regular Expression"
      ],
      "metadata": {
        "id": "Pre_KOACAwbA"
      }
    },
    {
      "cell_type": "markdown",
      "source": [
        "在Python中使用`re.search`函数进行正则表达式搜索时，常见的符号及其含义如下：\n",
        "\n",
        "1. `.` - 匹配任意单个字符，除了换行符`\\n`。\n",
        "2. `^` - 匹配字符串的开头。\n",
        "3. `$` - 匹配字符串的结尾。\n",
        "4. `*` - 匹配前面的子表达式零次或多次。\n",
        "5. `+` - 匹配前面的子表达式一次或多次。\n",
        "6. `?` - 匹配前面的子表达式零次或一次，或指示非贪婪匹配（尽量匹配最少的字符）。\n",
        "7. `{}` - 用来指定匹配的次数，例如`{3}`表示匹配3次，`{3,5}`表示匹配3到5次。\n",
        "8. `[]` - 用来指定字符集合，可以匹配其中任意一个字符。\n",
        "9. `()` - 用来创建一个子组，可以对其进行后向引用。\n",
        "10. `|` - 用来表示或操作，匹配符号左右任意一个表达式。\n",
        "11. `\\` - 转义字符，用来取消紧跟其后的字符的特殊含义。\n",
        "\n",
        "这些是正则表达式中常用的一些符号和元字符，通过它们可以灵活地定义匹配规则。在使用`re.search`时，传入的正则表达式模式可以利用这些符号来进行灵活的文本匹配和搜索操作。"
      ],
      "metadata": {
        "id": "yaiGVkjcBWBj"
      }
    },
    {
      "cell_type": "markdown",
      "source": [
        "\n",
        "1. **`\\w`**: 匹配任何单字字符（字母、数字、下划线），等同于 `[a-zA-Z0-9_]`。\n",
        "2. **`\\W`**: 匹配任何非单字字符，等同于 `[^a-zA-Z0-9_]`。\n",
        "3. **`\\d`**: 匹配任何数字字符，等同于 `[0-9]`。\n",
        "4. **`\\D`**: 匹配任何非数字字符，等同于 `[^0-9]`。\n",
        "5. **`\\s`**: 匹配任何空白字符，包括空格、制表符、换行符等，等同于 `[ \\t\\r\\n\\f]`。\n",
        "6. **`\\S`**: 匹配任何非空白字符，等同于 `[^ \\t\\r\\n\\f]`。\n",
        "7. **`.`**: 匹配除换行符之外的任何单个字符。\n",
        "8. **`^`**: 匹配输入的开始位置。\n",
        "9. **`$`**: 匹配输入的结束位置。\n",
        "10. **`[]`**: 匹配方括号内的任何字符。例如，`[abc]` 匹配 `a`、`b` 或 `c`。\n",
        "11. **`[^]`**: 匹配不在方括号内的任何字符。例如，`[^abc]` 匹配任何不是 `a`、`b` 或 `c` 的字符。\n",
        "12. **`|`**: 匹配左边或右边的表达式。例如，`a|b` 匹配 `a` 或 `b`。\n",
        "13. **`*`**: 匹配前一个元素零次或多次。\n",
        "14. **`+`**: 匹配前一个元素一次或多次。\n",
        "15. **`?`**: 匹配前一个元素零次或一次，或者用于非贪婪匹配。\n",
        "16. **`{n}`**: 匹配前一个元素恰好 `n` 次。\n",
        "17. **`{n,}`**: 匹配前一个元素至少 `n` 次。\n",
        "18. **`{n,m}`**: 匹配前一个元素至少 `n` 次，但不超过 `m` 次。\n",
        "19. **`()`**: 分组，将多个字符作为一个单元进行匹配。\n"
      ],
      "metadata": {
        "id": "2hnRKWOxtU0t"
      }
    },
    {
      "cell_type": "markdown",
      "source": [
        "`\\b` 是正则表达式中的一个特殊字符，用于匹配**单词边界**（word boundary）。它的作用是确保一个词与其周围的字符（如空格、标点符号、行的开头或结尾）之间的边界。理解 `\\b` 的工作原理可以帮助你更好地使用正则表达式来匹配独立的单词或词组。\n",
        "\n",
        "### 什么是单词边界？\n",
        "\n",
        "在正则表达式中，单词边界 `\\b` 是一个零宽断言，它不匹配任何字符，但它确保一个词的开头或结尾与其他字符之间的边界条件。例如：\n",
        "\n",
        "- 单词边界是指单词的起始和终止位置。\n",
        "- 它可以位于单词的开头、结尾，或单词与非单词字符之间。\n",
        "\n",
        "**非单词字符**（非字母、数字或下划线）与**单词字符**（字母、数字或下划线）之间的边界，或者字符串的开始和结束位置。\n",
        "\n",
        "### 例子\n",
        "\n",
        "考虑以下正则表达式和文本：\n",
        "\n",
        "```python\n",
        "import re\n",
        "\n",
        "text = \"Here are some examples: um, awesome, and umagain. Also, um.\"\n",
        "\n",
        "# 正则表达式\n",
        "pattern = r'\\bum\\b'\n",
        "\n",
        "# 查找所有匹配的独立“um”\n",
        "matches = re.findall(pattern, text)\n",
        "\n",
        "print(f'Found \"um\" {len(matches)} times.')\n",
        "```\n",
        "\n",
        "**解释**：\n",
        "\n",
        "- **`\\b`**：表示单词边界。它确保 `um` 前面和后面都不是字母、数字或下划线，或者是在字符串的开头或结尾。\n",
        "- **`um`**：要匹配的单词。\n",
        "- **`\\b`**：表示单词边界，确保 `um` 后面不是字母、数字或下划线，或者是在字符串的开头或结尾。\n",
        "\n",
        "**具体行为**：\n",
        "\n",
        "- `\\b` 匹配位置，例如：\n",
        "  - 字符串的开始或结束。\n",
        "  - 单词字符与非单词字符之间的位置。\n",
        "  - 在 `um` 之前或之后存在非字母、非数字或非下划线的字符，或者它是字符串的开头或结尾。\n",
        "\n",
        "### 为什么 `\\b` 有用？\n",
        "\n",
        "` \\b` 是用来确保你匹配的是整个单词，而不是单词的一部分。例如：\n",
        "\n",
        "- 正则表达式 `\\bum\\b` 将匹配 `um`，但不会匹配 `someone` 中的 `um`。\n",
        "- 如果你只用 `um`，它可能会匹配到 `someone` 中的 `um`，因为它没有考虑单词边界。\n",
        "\n",
        "### 示例说明\n",
        "\n",
        "- `\"\\bum\\b\"` 匹配：`\" um \"`（前后是空白字符），`\" um.\"`（后是标点），`\" um\"`（后是字符串结尾）。\n",
        "- `\"\\bum\\b\"` 不匹配：`\"someone\"`（其中的 `um` 不是独立的词）。\n",
        "\n",
        "### 总结\n",
        "\n",
        "- **`\\b`** 匹配单词的开头或结尾，确保一个单词的完整性。\n",
        "- 它是一个零宽断言，不消耗字符，只是验证词的边界条件。\n",
        "- 使用 `\\b` 可以确保匹配到独立的单词，而不是单词的一部分。"
      ],
      "metadata": {
        "id": "9YdMuloeubq9"
      }
    },
    {
      "cell_type": "markdown",
      "source": [
        "初始版本:虽然可以识别@，但是出现两个@或者缺少其他信息就无法识别了"
      ],
      "metadata": {
        "id": "x45QMGG-BVJl"
      }
    },
    {
      "cell_type": "code",
      "source": [
        "email = input(\"what's your email?\").strip()\n",
        "if \"@\" in email:\n",
        "  print(\"valid\")\n",
        "else:\n",
        "  print(\"Invalid\")"
      ],
      "metadata": {
        "colab": {
          "base_uri": "https://localhost:8080/"
        },
        "id": "Xjz6Qe6XBBGY",
        "outputId": "c5af889c-4680-4142-bfbb-d38b52ce0b3b"
      },
      "execution_count": null,
      "outputs": [
        {
          "output_type": "stream",
          "name": "stdout",
          "text": [
            "what's your email?123@@\n",
            "valid\n"
          ]
        }
      ]
    },
    {
      "cell_type": "code",
      "source": [
        "email = input(\"what's your email?\").strip()\n",
        "username,domain = email.split(\"@\")\n",
        "if username and domain.endswith(\".edu\"):\n",
        "  print(\"Valid\")\n",
        "else:\n",
        "  print(\"Invalid\")"
      ],
      "metadata": {
        "colab": {
          "base_uri": "https://localhost:8080/"
        },
        "id": "_0xrnkyGBijK",
        "outputId": "065d9048-4b88-449b-8fc5-7dd3e60c3542"
      },
      "execution_count": null,
      "outputs": [
        {
          "output_type": "stream",
          "name": "stdout",
          "text": [
            "what's your email?malan@harvard.edu\n",
            "Valid\n"
          ]
        }
      ]
    },
    {
      "cell_type": "markdown",
      "source": [
        "RE"
      ],
      "metadata": {
        "id": "s8tn1PAjgbhK"
      }
    },
    {
      "cell_type": "code",
      "source": [
        "import re\n",
        "email = input(\"what's your email?\").strip()\n",
        "if re.search(\".+@.+\",email):\n",
        "  print(\"Valid\")\n",
        "else:\n",
        "  print(\"Invalid\")"
      ],
      "metadata": {
        "id": "iSz82-g9Cps_",
        "colab": {
          "base_uri": "https://localhost:8080/"
        },
        "outputId": "37e11587-38bc-4049-99d2-2715a5e4c75f"
      },
      "execution_count": null,
      "outputs": [
        {
          "output_type": "stream",
          "name": "stdout",
          "text": [
            "what's your email?malan@harvard.edu\n",
            "Valid\n"
          ]
        }
      ]
    },
    {
      "cell_type": "markdown",
      "source": [
        "如果你想以.edu结尾，但是你写了re.search(\".+@.+.edu\",email)，意味着edu前面可以是任意的字符。如果你想表达.edu而不是正则表达式里的.，就要加反斜杠。"
      ],
      "metadata": {
        "id": "TzsaEFmgpCUY"
      }
    },
    {
      "cell_type": "code",
      "source": [
        "import re\n",
        "email = input(\"what's your email?\").strip()\n",
        "if re.search(\".+@.+.edu\",email):\n",
        "  print(\"Valid\")\n",
        "else:\n",
        "  print(\"Invalid\")"
      ],
      "metadata": {
        "colab": {
          "base_uri": "https://localhost:8080/"
        },
        "id": "iXfKy6mcgpiY",
        "outputId": "3adaa043-a19f-46e4-a39a-f9b4740239cb"
      },
      "execution_count": null,
      "outputs": [
        {
          "output_type": "stream",
          "name": "stdout",
          "text": [
            "what's your email?malan@harvardaedu\n",
            "Valid\n"
          ]
        }
      ]
    },
    {
      "cell_type": "code",
      "source": [
        "import re\n",
        "email = input(\"what's your email?\").strip()\n",
        "if re.search(r\"^.+@.+\\.edu$\",email):\n",
        "  print(\"Valid\")\n",
        "else:\n",
        "  print(\"Invalid\")"
      ],
      "metadata": {
        "colab": {
          "base_uri": "https://localhost:8080/"
        },
        "id": "-gKLUyNUo7R8",
        "outputId": "373deebd-408a-4bff-f096-b5551a5608b1"
      },
      "execution_count": null,
      "outputs": [
        {
          "output_type": "stream",
          "name": "stdout",
          "text": [
            "what's your email?malan@@@harvard.edu\n",
            "Valid\n"
          ]
        }
      ]
    },
    {
      "cell_type": "code",
      "source": [
        "import re\n",
        "email = input(\"what's your email?\").strip()\n",
        "if re.search(r\"^[a-zA-Z0-9]+@[a-zA-Z0-9]+\\.edu$\",email):\n",
        "  print(\"Valid\")\n",
        "else:\n",
        "  print(\"Invalid\")"
      ],
      "metadata": {
        "colab": {
          "base_uri": "https://localhost:8080/"
        },
        "id": "x0VafDUHpSdv",
        "outputId": "a59e9b69-3773-4fd8-9798-f5412d0f4437"
      },
      "execution_count": null,
      "outputs": [
        {
          "output_type": "stream",
          "name": "stdout",
          "text": [
            "what's your email?malan@@@harvard.edu\n",
            "Invalid\n"
          ]
        }
      ]
    },
    {
      "cell_type": "code",
      "source": [
        "import re\n",
        "email = input(\"what's your email?\").strip()\n",
        "if re.search(r\"^\\w+@\\w+\\.(edu|com|gov|net)$\",email,re.IGNORECASE):\n",
        "  print(\"Valid\")\n",
        "else:\n",
        "  print(\"Invalid\")"
      ],
      "metadata": {
        "colab": {
          "base_uri": "https://localhost:8080/"
        },
        "id": "LClWCBtHvReO",
        "outputId": "6adc1e7b-6f7a-4d45-e181-a8f52e79b618"
      },
      "execution_count": null,
      "outputs": [
        {
          "output_type": "stream",
          "name": "stdout",
          "text": [
            "what's your email?MALAN@HARVARD.EDU\n",
            "Valid\n"
          ]
        }
      ]
    },
    {
      "cell_type": "markdown",
      "source": [
        "## re.search返回值"
      ],
      "metadata": {
        "id": "yhIY3FeV6NXy"
      }
    },
    {
      "cell_type": "code",
      "source": [
        "name = input(\"what's your name?\").strip()\n",
        "if \",\" in name:\n",
        "  last,first = name.split(\", \")\n",
        "  name = f\"{first} {last}\"\n",
        "print(f\"hello,{name}\")"
      ],
      "metadata": {
        "id": "3K6xJbcD4bmE",
        "colab": {
          "base_uri": "https://localhost:8080/"
        },
        "outputId": "d529f2c6-a995-4d5a-bc32-72bda5cc9640"
      },
      "execution_count": null,
      "outputs": [
        {
          "output_type": "stream",
          "name": "stdout",
          "text": [
            "what's your name?daivd, malan\n",
            "hello,malan daivd\n"
          ]
        }
      ]
    },
    {
      "cell_type": "code",
      "source": [
        "import re\n",
        "name = input(\"what's your name?\").strip()\n",
        "matches = re.search(r\"^(.+), (.+)$\",name)\n",
        "if matches:\n",
        "  lasr, first = matches.groups()\n",
        "  name = f\"{first} {last}\"\n",
        "print(f\"hello,{name}\")\n"
      ],
      "metadata": {
        "id": "lewDmcqp7VYh"
      },
      "execution_count": null,
      "outputs": []
    },
    {
      "cell_type": "markdown",
      "source": [
        "re.search返回（）里的内容，可以用groups获取一个list或者group（n）获取第n个内容。\n",
        "\n",
        "注意，第一个元素是1开始。"
      ],
      "metadata": {
        "id": "Z5KTfg629mwu"
      }
    },
    {
      "cell_type": "code",
      "source": [
        "import re\n",
        "name = input(\"what's your name?\").strip()\n",
        "matches = re.search(r\"^(.+), *(.+)$\",name)\n",
        "if matches:\n",
        "  name = matches.group(2)+\" \"+matches.group(1)\n",
        "print(f\"hello,{name}\")"
      ],
      "metadata": {
        "colab": {
          "base_uri": "https://localhost:8080/"
        },
        "id": "z_ORwJ9w9Wsu",
        "outputId": "40315316-a785-4f71-8ac6-73f8e71eb09c"
      },
      "execution_count": null,
      "outputs": [
        {
          "output_type": "stream",
          "name": "stdout",
          "text": [
            "what's your name?david,    malan\n",
            "hello,malan david\n"
          ]
        }
      ]
    },
    {
      "cell_type": "markdown",
      "source": [
        "## 海象运算符\n",
        "在Python中，`:=` 是一个被称为“海象运算符”（walrus operator）的特殊语法。它是在Python 3.8版本引入的新特性。\n",
        "\n",
        "在你的例子中，`if matches := re.search(r\"^(.+), *(.+)$\", name):` 这行代码的作用是：\n",
        "- 执行正则表达式搜索，尝试匹配 `name` 变量中的字符串。\n",
        "- 如果匹配成功，将匹配对象赋值给 `matches` 变量，并且该赋值操作的结果作为条件表达式的值（即`if`语句的判断条件）。\n",
        "\n",
        "这个语法结构的好处在于，它可以在一行内完成赋值和条件判断，使代码更加简洁和清晰。在旧版本的Python中，你可能需要分开进行赋值和条件判断，或者使用额外的代码来处理这种情况。\n",
        "\n",
        "总结来说，`:=` 的作用是**执行赋值操作，并返回赋值的结果**，这样可以直接用于条件判断或者其他需要返回赋值结果的地方。"
      ],
      "metadata": {
        "id": "tbNAp8E6CNhA"
      }
    },
    {
      "cell_type": "code",
      "source": [
        "import re\n",
        "name = input(\"what's your name?\").strip()\n",
        "if matches := re.search(r\"^(.+), *(.+)$\",name):\n",
        "  name = matches.group(2)+\" \"+matches.group(1)\n",
        "print(f\"hello,{name}\")"
      ],
      "metadata": {
        "colab": {
          "base_uri": "https://localhost:8080/"
        },
        "id": "J5_iMf0m_j85",
        "outputId": "d4b3942d-f9a5-4fe6-b603-d176d0854a1d"
      },
      "execution_count": null,
      "outputs": [
        {
          "output_type": "stream",
          "name": "stdout",
          "text": [
            "what's your name?david,   malan\n",
            "hello,malan david\n"
          ]
        }
      ]
    },
    {
      "cell_type": "markdown",
      "source": [
        "提取twitter url中的用户名"
      ],
      "metadata": {
        "id": "KZWRGyxWEIRx"
      }
    },
    {
      "cell_type": "code",
      "source": [
        "import re\n",
        "url = input(\"URL: \").strip()\n",
        "username = url.replace(\"https://twitter.com/\",\"\")\n",
        "print(username)"
      ],
      "metadata": {
        "colab": {
          "base_uri": "https://localhost:8080/"
        },
        "id": "nP5PKvXkCUWV",
        "outputId": "242e65df-6165-4751-c00e-792ad5207fef"
      },
      "execution_count": null,
      "outputs": [
        {
          "output_type": "stream",
          "name": "stdout",
          "text": [
            "URL: https://twitter.com/davidjmalan\n",
            "davidjmalan\n"
          ]
        }
      ]
    },
    {
      "cell_type": "markdown",
      "source": [
        "## str.removeprefix(prefix)"
      ],
      "metadata": {
        "id": "n79Eq9mLFAqD"
      }
    },
    {
      "cell_type": "code",
      "source": [
        "import re\n",
        "url = input(\"URL: \").strip()\n",
        "username = url.removeprefix(\"https://twitter.com/\")\n",
        "print(username)"
      ],
      "metadata": {
        "colab": {
          "base_uri": "https://localhost:8080/"
        },
        "id": "ftFv205MDEli",
        "outputId": "6bfa589d-353d-4c35-a079-52d71282d56c"
      },
      "execution_count": null,
      "outputs": [
        {
          "output_type": "stream",
          "name": "stdout",
          "text": [
            "URL: my name is https://twitter.com/davidjmalan\n",
            "my name is https://twitter.com/davidjmalan\n"
          ]
        }
      ]
    },
    {
      "cell_type": "code",
      "source": [
        "import re\n",
        "url = input(\"URL: \").strip()\n",
        "username = re.sub(r\"^(https?://)?(www\\.)?twitter\\.com/\",\"\",url)\n",
        "print(username)"
      ],
      "metadata": {
        "colab": {
          "base_uri": "https://localhost:8080/"
        },
        "id": "x_fJpJdcFIs0",
        "outputId": "606ca816-1641-4f65-ca0d-487821825501"
      },
      "execution_count": null,
      "outputs": [
        {
          "output_type": "stream",
          "name": "stdout",
          "text": [
            "URL: https://twitter.com/davidjmalan\n",
            "davidjmalan\n"
          ]
        }
      ]
    },
    {
      "cell_type": "code",
      "source": [
        "import re\n",
        "url = input(\"URL: \").strip()\n",
        "matches = re.search(r\"^https?://(www\\.)?twitter\\.com/(.+)$\",url,re.IGNORECASE)\n",
        "if matches:\n",
        "  print(matches.group(2))"
      ],
      "metadata": {
        "colab": {
          "base_uri": "https://localhost:8080/"
        },
        "id": "ID0AxYvdGc9u",
        "outputId": "c76d584d-4c42-4f30-8e0d-c726ece31f27"
      },
      "execution_count": null,
      "outputs": [
        {
          "output_type": "stream",
          "name": "stdout",
          "text": [
            "URL: https://twitter.com/davidjmalan\n",
            "davidjmalan\n"
          ]
        }
      ]
    },
    {
      "cell_type": "markdown",
      "source": [
        "(?:...)不必捕获括号里的内容并返回，？：在起作用"
      ],
      "metadata": {
        "id": "b5IEV3DDOOnC"
      }
    },
    {
      "cell_type": "code",
      "source": [
        "import re\n",
        "url = input(\"URL: \").strip()\n",
        "if matches := re.search(r\"^https?://(?:www\\.)?twitter\\.com/([a-z0-9_]+)$\",url,re.IGNORECASE):\n",
        "  print(matches.group(1))"
      ],
      "metadata": {
        "colab": {
          "base_uri": "https://localhost:8080/"
        },
        "id": "3nWbvM43Jr_h",
        "outputId": "8348da7f-3e92-4749-d7e6-c9cd54e6c868"
      },
      "execution_count": null,
      "outputs": [
        {
          "output_type": "stream",
          "name": "stdout",
          "text": [
            "URL: https://twitter.com/davidmalan\n",
            "davidmalan\n"
          ]
        }
      ]
    },
    {
      "cell_type": "markdown",
      "source": [
        "# Lecture 8 - Object-Oriented Programming"
      ],
      "metadata": {
        "id": "pRKXd-eKzu_y"
      }
    },
    {
      "cell_type": "markdown",
      "source": [
        "## tuple：immutability"
      ],
      "metadata": {
        "id": "UrLuzHeh1uwa"
      }
    },
    {
      "cell_type": "markdown",
      "source": [
        "元组（tuple）是Python中的一种数据结构，用于存储多个元素。**与列表不同，元组是不可变的**，即创建后不能修改其内容。元组通常用于存储异质数据，并且支持索引、切片和迭代。它的语法是用圆括号`()`包裹元素。例如：`(1, 2, 3)`。返回值的时候，用，隔开两个变量返回，返回的就是包含这两个变量的元组"
      ],
      "metadata": {
        "id": "09njLGq_1-cv"
      }
    },
    {
      "cell_type": "markdown",
      "source": [
        "### 获取元组里的元素\n",
        "你可以通过索引访问元组中的元素，类似于列表。例如，`my_tuple[0]`获取第一个元素。还可以使用切片来获取子元组，比如`my_tuple[1:3]`获取从索引1到2的元素。如果需要检查元组中是否存在某个值，可以使用`in`关键字，如`5 in my_tuple`。"
      ],
      "metadata": {
        "id": "Ca1xC0Gv28GU"
      }
    },
    {
      "cell_type": "code",
      "source": [
        "def get_student():\n",
        "  name = input(\"name: \")\n",
        "  house = input(\"house: \")\n",
        "  return name,house\n",
        "\n",
        "def main():\n",
        "  student = get_student()\n",
        "  print(student[0],student[1])\n",
        "\n",
        "main()"
      ],
      "metadata": {
        "colab": {
          "base_uri": "https://localhost:8080/"
        },
        "id": "UppRj4Jqz38i",
        "outputId": "5e08d1da-7381-48a7-86bb-aae360f1abc0"
      },
      "execution_count": null,
      "outputs": [
        {
          "output_type": "stream",
          "name": "stdout",
          "text": [
            "name: harry\n",
            "house: haha\n",
            "harry haha\n"
          ]
        }
      ]
    },
    {
      "cell_type": "markdown",
      "source": [
        "返回字典"
      ],
      "metadata": {
        "id": "vUXu9wp0L_aM"
      }
    },
    {
      "cell_type": "code",
      "source": [
        "def get_student():\n",
        "  student = {}\n",
        "  student[\"name\"] = input(\"name: \")\n",
        "  student[\"house\"] = input(\"house: \")\n",
        "  return student\n",
        "\n",
        "def main():\n",
        "  student = get_student()\n",
        "  print(student[\"name\"],student[\"house\"])\n",
        "\n",
        "main()"
      ],
      "metadata": {
        "colab": {
          "base_uri": "https://localhost:8080/"
        },
        "id": "ZX9JnyRo1uKo",
        "outputId": "5387d2ab-f127-44be-c9f6-280d415812de"
      },
      "execution_count": null,
      "outputs": [
        {
          "output_type": "stream",
          "name": "stdout",
          "text": [
            "name: harry\n",
            "house: gryffindoe\n",
            "harry gryffindoe\n"
          ]
        }
      ]
    },
    {
      "cell_type": "markdown",
      "source": [
        "改进版"
      ],
      "metadata": {
        "id": "SSStqWXNMA7X"
      }
    },
    {
      "cell_type": "code",
      "source": [
        "def get_student():\n",
        "  name = input(\"name: \")\n",
        "  house = input(\"house: \")\n",
        "  return{\"name\":name,\"house\":house}\n",
        "\n",
        "def main():\n",
        "  student = get_student()\n",
        "  print(student[\"name\"],student[\"house\"])\n",
        "\n",
        "main()"
      ],
      "metadata": {
        "id": "TEVxctMmLft8"
      },
      "execution_count": null,
      "outputs": []
    },
    {
      "cell_type": "markdown",
      "source": [
        "## class"
      ],
      "metadata": {
        "id": "iKj47UxPM3zR"
      }
    },
    {
      "cell_type": "code",
      "source": [
        "class Student:\n",
        "  ...\n",
        "\n",
        "def get_student():\n",
        "  student = Student()\n",
        "  student.name = input(\"name: \")\n",
        "  student.house = input(\"house: \")\n",
        "  return student\n",
        "\n",
        "def main():\n",
        "  student = get_student()\n",
        "  print(f\"{student.name} from {student.house}\")\n",
        "\n",
        "main()"
      ],
      "metadata": {
        "colab": {
          "base_uri": "https://localhost:8080/"
        },
        "id": "na0ccCRKNSqp",
        "outputId": "b82ff9bd-2f92-4df4-cf32-1904a9cbe148"
      },
      "execution_count": null,
      "outputs": [
        {
          "output_type": "stream",
          "name": "stdout",
          "text": [
            "name: harry\n",
            "house: haha\n",
            "harry from haha\n"
          ]
        }
      ]
    },
    {
      "cell_type": "markdown",
      "source": [
        "**为什么上一段代码没有在定义Student类时定义具体的属性？**\n",
        "\n",
        "你提出的代码片段中，`Student` 类确实没有定义具体的属性。然而，这段代码在运行时依然能够正常工作，因为 Python 是动态语言，允许在运行时给对象添加属性。\n",
        "\n",
        "不过，为了编写更加清晰和健壮的代码，建议在定义 `Student` 类时明确声明其属性。这不仅有助于代码的可读性，也能提供更好的错误检查和工具支持（如 IDE 的自动补全和类型检查）。可以使用 `__init__` 方法在创建对象时初始化属性。下面是一个改进版的代码：\n",
        "\n",
        "```python\n",
        "class Student:\n",
        "    def __init__(self, name='', house=''):\n",
        "        self.name = name\n",
        "        self.house = house\n",
        "\n",
        "def get_student():\n",
        "    name = input(\"Name: \")\n",
        "    house = input(\"House: \")\n",
        "    student = Student(name, house)\n",
        "    return student\n",
        "\n",
        "def main():\n",
        "    student = get_student()\n",
        "    print(f\"{student.name} from {student.house}\")\n",
        "\n",
        "main()\n",
        "```\n",
        "\n",
        "### 解释：\n",
        " **`__init__` 方法**:\n",
        "   - `__init__` 方法是一个初始化方法，当创建 `Student` 实例时会自动调用。它接受两个参数 `name` 和 `house`，并将它们赋值给实例的属性 `self.name` 和 `self.house`。\n"
      ],
      "metadata": {
        "id": "tLeSnB6nOTY-"
      }
    },
    {
      "cell_type": "code",
      "source": [],
      "metadata": {
        "id": "C1oKo4VyQTbU"
      },
      "execution_count": null,
      "outputs": []
    },
    {
      "cell_type": "markdown",
      "source": [
        "### 为什么init函数里要传入self\n",
        "为了把参数传入到当前的对象里"
      ],
      "metadata": {
        "id": "sBfLQ4JeQ9Qd"
      }
    },
    {
      "cell_type": "code",
      "source": [
        "class Student:\n",
        "  def __init__(self,name,house):\n",
        "    if not name:\n",
        "      raise ValueError(\"Missing name\")\n",
        "    if house not in [\"a\",\"b\",\"c\",\"d\"]:\n",
        "      raise ValueError(\"Invalid house\")\n",
        "    self.name = name\n",
        "    self.house = house\n",
        "\n",
        "def get_student():\n",
        "  name = input(\"name: \")\n",
        "  house = input(\"house: \")\n",
        "  return Student(name,house)\n",
        "\n",
        "def main():\n",
        "  student = get_student()\n",
        "  print(student)\n",
        "\n",
        "main()"
      ],
      "metadata": {
        "id": "BUaxS5dXOGoC",
        "colab": {
          "base_uri": "https://localhost:8080/"
        },
        "outputId": "b342e02f-584a-405b-b6eb-168312aa9fcb"
      },
      "execution_count": null,
      "outputs": [
        {
          "output_type": "stream",
          "name": "stdout",
          "text": [
            "name: harry\n",
            "house: a\n",
            "<__main__.Student object at 0x7e550887f9a0>\n"
          ]
        }
      ]
    },
    {
      "cell_type": "markdown",
      "source": [
        "重新构造__str__"
      ],
      "metadata": {
        "id": "OVOQmykXMjQo"
      }
    },
    {
      "cell_type": "code",
      "source": [
        "class Student:\n",
        "  def __init__(self,name,house):\n",
        "    if not name:\n",
        "      raise ValueError(\"Missing name\")\n",
        "    if house not in [\"a\",\"b\",\"c\",\"d\"]:\n",
        "      raise ValueError(\"Invalid house\")\n",
        "    self.name = name\n",
        "    self.house = house\n",
        "\n",
        "  def __str__(self):\n",
        "    return f\"{self.name} from {self.house}\"\n",
        "\n",
        "def get_student():\n",
        "  name = input(\"name: \")\n",
        "  house = input(\"house: \")\n",
        "  return Student(name,house)\n",
        "\n",
        "def main():\n",
        "  student = get_student()\n",
        "  print(student)\n",
        "\n",
        "main()"
      ],
      "metadata": {
        "id": "NTbYnvCXRAUV",
        "colab": {
          "base_uri": "https://localhost:8080/"
        },
        "outputId": "1fef4bd1-5cf4-489f-a913-b5543eb608ec"
      },
      "execution_count": null,
      "outputs": [
        {
          "output_type": "stream",
          "name": "stdout",
          "text": [
            "name: harry\n",
            "house: a\n",
            "harry from a\n"
          ]
        }
      ]
    },
    {
      "cell_type": "markdown",
      "source": [
        "增加更多类的属性与方法，因为方法属于类内部的，所以必须要传入self参数"
      ],
      "metadata": {
        "id": "m3I1M_HsN6fo"
      }
    },
    {
      "cell_type": "code",
      "source": [
        "class Student:\n",
        "  def __init__(self,name,house,patronus):\n",
        "    if not name:\n",
        "      raise ValueError(\"Missing name\")\n",
        "    if house not in [\"a\",\"b\",\"c\",\"d\"]:\n",
        "      raise ValueError(\"Invalid house\")\n",
        "    self.name = name\n",
        "    self.house = house\n",
        "    self.patronus = patronus\n",
        "\n",
        "  def __str__(self):\n",
        "    return f\"{self.name} from {self.house}\"\n",
        "\n",
        "  def charm(self):\n",
        "    match self.patronus:\n",
        "      case \"stag\":\n",
        "        return \"🐎\"\n",
        "      case \"otter\":\n",
        "        return \"🐱\"\n",
        "      case \"haha\":\n",
        "        return \"😊\"\n",
        "      case _:\n",
        "        return \"🥁\"\n",
        "\n",
        "def get_student():\n",
        "  name = input(\"name: \")\n",
        "  house = input(\"house: \")\n",
        "  patronus = input(\"Patronus: \")\n",
        "  return Student(name,house,patronus)\n",
        "\n",
        "def main():\n",
        "  student = get_student()\n",
        "  print(\"Expecto Patronum!\")\n",
        "  print(student.charm())\n",
        "\n",
        "main()"
      ],
      "metadata": {
        "colab": {
          "base_uri": "https://localhost:8080/"
        },
        "id": "QNldKTIBMyqP",
        "outputId": "6d444b69-2d61-46e8-8c82-c1f0cfe905f9"
      },
      "execution_count": null,
      "outputs": [
        {
          "output_type": "stream",
          "name": "stdout",
          "text": [
            "name: dads\n",
            "house: a\n",
            "Patronus: \n",
            "Expecto Patronum!\n",
            "🥁\n"
          ]
        }
      ]
    },
    {
      "cell_type": "markdown",
      "source": [
        "回到之前的版本"
      ],
      "metadata": {
        "id": "Iy-MSr4YQxrF"
      }
    },
    {
      "cell_type": "code",
      "source": [
        "class Student:\n",
        "  def __init__(self,name,house):\n",
        "    if not name:\n",
        "      raise ValueError(\"Missing name\")\n",
        "    if house not in [\"a\",\"b\",\"c\",\"d\"]:\n",
        "      raise ValueError(\"Invalid house\")\n",
        "    self.name = name\n",
        "    self.house = house\n",
        "\n",
        "  def __str__(self):\n",
        "    return f\"{self.name} from {self.house}\"\n",
        "\n",
        "\n",
        "def get_student():\n",
        "  name = input(\"name: \")\n",
        "  house = input(\"house: \")\n",
        "  return Student(name,house)\n",
        "\n",
        "def main():\n",
        "  student = get_student()\n",
        "  student.house = \"hahaha\"#这一步用户可以绕过规则改变属性内容\n",
        "  print(student)\n",
        "\n",
        "main()"
      ],
      "metadata": {
        "colab": {
          "base_uri": "https://localhost:8080/"
        },
        "id": "FD06Lp9LOOvW",
        "outputId": "ede95203-6c2f-4c6b-f0ca-02d5186f2d9f"
      },
      "execution_count": null,
      "outputs": [
        {
          "output_type": "stream",
          "name": "stdout",
          "text": [
            "name: harry\n",
            "house: a\n",
            "harry from hahaha\n"
          ]
        }
      ]
    },
    {
      "cell_type": "markdown",
      "source": [
        "### decorator"
      ],
      "metadata": {
        "id": "dtdyl1e2Rg7H"
      }
    },
    {
      "cell_type": "code",
      "source": [
        "class Student:\n",
        "  def __init__(self,name,house):\n",
        "    self.name = name\n",
        "    self.house = house\n",
        "\n",
        "  def __str__(self):\n",
        "    return f\"{self.name} from {self.house}\"\n",
        "\n",
        "  @property\n",
        "  def house(self):\n",
        "    return self._house\n",
        "\n",
        "  @house.setter\n",
        "  def house(self,house):\n",
        "    if house not in [\"a\",\"b\",\"c\",\"d\"]:\n",
        "      raise ValueError(\"Invalid house\")\n",
        "    self._house = house\n",
        "\n",
        "  @property\n",
        "  def name(self):\n",
        "    return self.name\n",
        "\n",
        "  @name.setter\n",
        "  def name(self,name):\n",
        "    if not name:\n",
        "      raise ValueError(\"Missing name\")\n",
        "    self._name = name\n",
        "\n",
        "\n",
        "def get_student():\n",
        "  name = input(\"name: \")\n",
        "  house = input(\"house: \")\n",
        "  return Student(name,house)\n",
        "\n",
        "def main():\n",
        "  student = get_student()\n",
        "  #student._house = \"asdasd\" 如果这样前面加一个下划线，还是会被修改。\n",
        "  print(student)\n",
        "\n",
        "main()"
      ],
      "metadata": {
        "colab": {
          "base_uri": "https://localhost:8080/",
          "height": 391
        },
        "id": "yCD9SPqWRFQ_",
        "outputId": "42765526-3256-491a-c878-6cb4769c61e1"
      },
      "execution_count": null,
      "outputs": [
        {
          "name": "stdout",
          "output_type": "stream",
          "text": [
            "name: harry\n",
            "house: a\n"
          ]
        },
        {
          "output_type": "error",
          "ename": "RecursionError",
          "evalue": "maximum recursion depth exceeded",
          "traceback": [
            "\u001b[0;31m---------------------------------------------------------------------------\u001b[0m",
            "\u001b[0;31mRecursionError\u001b[0m                            Traceback (most recent call last)",
            "\u001b[0;32m<ipython-input-19-03b9150453ab>\u001b[0m in \u001b[0;36m<cell line: 39>\u001b[0;34m()\u001b[0m\n\u001b[1;32m     37\u001b[0m   \u001b[0mprint\u001b[0m\u001b[0;34m(\u001b[0m\u001b[0mstudent\u001b[0m\u001b[0;34m)\u001b[0m\u001b[0;34m\u001b[0m\u001b[0;34m\u001b[0m\u001b[0m\n\u001b[1;32m     38\u001b[0m \u001b[0;34m\u001b[0m\u001b[0m\n\u001b[0;32m---> 39\u001b[0;31m \u001b[0mmain\u001b[0m\u001b[0;34m(\u001b[0m\u001b[0;34m)\u001b[0m\u001b[0;34m\u001b[0m\u001b[0;34m\u001b[0m\u001b[0m\n\u001b[0m",
            "\u001b[0;32m<ipython-input-19-03b9150453ab>\u001b[0m in \u001b[0;36mmain\u001b[0;34m()\u001b[0m\n\u001b[1;32m     35\u001b[0m \u001b[0;32mdef\u001b[0m \u001b[0mmain\u001b[0m\u001b[0;34m(\u001b[0m\u001b[0;34m)\u001b[0m\u001b[0;34m:\u001b[0m\u001b[0;34m\u001b[0m\u001b[0;34m\u001b[0m\u001b[0m\n\u001b[1;32m     36\u001b[0m   \u001b[0mstudent\u001b[0m \u001b[0;34m=\u001b[0m \u001b[0mget_student\u001b[0m\u001b[0;34m(\u001b[0m\u001b[0;34m)\u001b[0m\u001b[0;34m\u001b[0m\u001b[0;34m\u001b[0m\u001b[0m\n\u001b[0;32m---> 37\u001b[0;31m   \u001b[0mprint\u001b[0m\u001b[0;34m(\u001b[0m\u001b[0mstudent\u001b[0m\u001b[0;34m)\u001b[0m\u001b[0;34m\u001b[0m\u001b[0;34m\u001b[0m\u001b[0m\n\u001b[0m\u001b[1;32m     38\u001b[0m \u001b[0;34m\u001b[0m\u001b[0m\n\u001b[1;32m     39\u001b[0m \u001b[0mmain\u001b[0m\u001b[0;34m(\u001b[0m\u001b[0;34m)\u001b[0m\u001b[0;34m\u001b[0m\u001b[0;34m\u001b[0m\u001b[0m\n",
            "\u001b[0;32m<ipython-input-19-03b9150453ab>\u001b[0m in \u001b[0;36m__str__\u001b[0;34m(self)\u001b[0m\n\u001b[1;32m      5\u001b[0m \u001b[0;34m\u001b[0m\u001b[0m\n\u001b[1;32m      6\u001b[0m   \u001b[0;32mdef\u001b[0m \u001b[0m__str__\u001b[0m\u001b[0;34m(\u001b[0m\u001b[0mself\u001b[0m\u001b[0;34m)\u001b[0m\u001b[0;34m:\u001b[0m\u001b[0;34m\u001b[0m\u001b[0;34m\u001b[0m\u001b[0m\n\u001b[0;32m----> 7\u001b[0;31m     \u001b[0;32mreturn\u001b[0m \u001b[0;34mf\"{self.name} from {self.house}\"\u001b[0m\u001b[0;34m\u001b[0m\u001b[0;34m\u001b[0m\u001b[0m\n\u001b[0m\u001b[1;32m      8\u001b[0m \u001b[0;34m\u001b[0m\u001b[0m\n\u001b[1;32m      9\u001b[0m   \u001b[0;34m@\u001b[0m\u001b[0mproperty\u001b[0m\u001b[0;34m\u001b[0m\u001b[0;34m\u001b[0m\u001b[0m\n",
            "\u001b[0;32m<ipython-input-19-03b9150453ab>\u001b[0m in \u001b[0;36mname\u001b[0;34m(self)\u001b[0m\n\u001b[1;32m     19\u001b[0m   \u001b[0;34m@\u001b[0m\u001b[0mproperty\u001b[0m\u001b[0;34m\u001b[0m\u001b[0;34m\u001b[0m\u001b[0m\n\u001b[1;32m     20\u001b[0m   \u001b[0;32mdef\u001b[0m \u001b[0mname\u001b[0m\u001b[0;34m(\u001b[0m\u001b[0mself\u001b[0m\u001b[0;34m)\u001b[0m\u001b[0;34m:\u001b[0m\u001b[0;34m\u001b[0m\u001b[0;34m\u001b[0m\u001b[0m\n\u001b[0;32m---> 21\u001b[0;31m     \u001b[0;32mreturn\u001b[0m \u001b[0mself\u001b[0m\u001b[0;34m.\u001b[0m\u001b[0mname\u001b[0m\u001b[0;34m\u001b[0m\u001b[0;34m\u001b[0m\u001b[0m\n\u001b[0m\u001b[1;32m     22\u001b[0m \u001b[0;34m\u001b[0m\u001b[0m\n\u001b[1;32m     23\u001b[0m   \u001b[0;34m@\u001b[0m\u001b[0mname\u001b[0m\u001b[0;34m.\u001b[0m\u001b[0msetter\u001b[0m\u001b[0;34m\u001b[0m\u001b[0;34m\u001b[0m\u001b[0m\n",
            "... last 1 frames repeated, from the frame below ...\n",
            "\u001b[0;32m<ipython-input-19-03b9150453ab>\u001b[0m in \u001b[0;36mname\u001b[0;34m(self)\u001b[0m\n\u001b[1;32m     19\u001b[0m   \u001b[0;34m@\u001b[0m\u001b[0mproperty\u001b[0m\u001b[0;34m\u001b[0m\u001b[0;34m\u001b[0m\u001b[0m\n\u001b[1;32m     20\u001b[0m   \u001b[0;32mdef\u001b[0m \u001b[0mname\u001b[0m\u001b[0;34m(\u001b[0m\u001b[0mself\u001b[0m\u001b[0;34m)\u001b[0m\u001b[0;34m:\u001b[0m\u001b[0;34m\u001b[0m\u001b[0;34m\u001b[0m\u001b[0m\n\u001b[0;32m---> 21\u001b[0;31m     \u001b[0;32mreturn\u001b[0m \u001b[0mself\u001b[0m\u001b[0;34m.\u001b[0m\u001b[0mname\u001b[0m\u001b[0;34m\u001b[0m\u001b[0;34m\u001b[0m\u001b[0m\n\u001b[0m\u001b[1;32m     22\u001b[0m \u001b[0;34m\u001b[0m\u001b[0m\n\u001b[1;32m     23\u001b[0m   \u001b[0;34m@\u001b[0m\u001b[0mname\u001b[0m\u001b[0;34m.\u001b[0m\u001b[0msetter\u001b[0m\u001b[0;34m\u001b[0m\u001b[0;34m\u001b[0m\u001b[0m\n",
            "\u001b[0;31mRecursionError\u001b[0m: maximum recursion depth exceeded"
          ]
        }
      ]
    },
    {
      "cell_type": "markdown",
      "source": [
        "## @property和@setter的解释\n",
        "\n",
        "- **`@property`**: 这个装饰器将一个方法转换为一个属性。这意味着你可以通过访问该方法，就像访问一个普通的属性一样，而不需要使用括号调用它。它通常用于获取（读取）对象的属性值。例如：\n",
        "\n",
        "  ```python\n",
        "  @property\n",
        "  def house(self):\n",
        "    return self._house\n",
        "  ```\n",
        "\n",
        "  在这里，`house` 方法被转换为一个属性，你可以用 `student.house` 来访问它。\n",
        "\n",
        "- **`@house.setter`**: 这个装饰器用于定义属性的 setter 方法，它允许你设置（修改）属性的值。它必须与 `@property` 装饰器中定义的属性名称一致。setter 方法接收一个参数，并将其值存储到内部变量中。在例子中：\n",
        "\n",
        "  ```python\n",
        "  @house.setter\n",
        "  def house(self, house):\n",
        "    if house not in [\"a\", \"b\", \"c\", \"d\"]:\n",
        "      raise ValueError(\"Invalid house\")\n",
        "    self._house = house\n",
        "  ```\n",
        "\n",
        "  `@house.setter` 装饰器定义了一个 setter 方法，允许你通过 `student.house = value` 的方式设置属性值，并在设置值之前进行验证。\n",
        "\n",
        "总结来说，`@property` 使得方法看起来像属性，而 `@property_name.setter` 使得你可以设置这个属性的值。两者配合使用，可以在访问和修改属性时提供额外的逻辑控制。"
      ],
      "metadata": {
        "id": "d87umpPcdSib"
      }
    },
    {
      "cell_type": "markdown",
      "source": [
        "## classmethod"
      ],
      "metadata": {
        "id": "kzYw4MO3RhkQ"
      }
    },
    {
      "cell_type": "markdown",
      "source": [
        "\n",
        "@classmethod 是一个 Python 装饰器，用于定义类方法。类方法是绑定到类而不是实例的方法，这意味着它们可以被类本身调用，而不是实例对象。类方法的第一个参数通常是 cls，它代表类本身，类似于实例方法的 self 代表实例对象。"
      ],
      "metadata": {
        "id": "0l5jC8QMZvbO"
      }
    },
    {
      "cell_type": "code",
      "source": [
        "import random\n",
        "\n",
        "class Hat:\n",
        "  # 所有创建出来的类都共享这个变量。\n",
        "  houses = [\"a\",\"b\",\"c\",\"d\"]\n",
        "\n",
        "  @classmethod\n",
        "  def sort(cls,name):\n",
        "    house = random.choice(cls.houses)\n",
        "    print(name, \"is in\",house)\n",
        "\n",
        "Hat.sort(\"Harry\")"
      ],
      "metadata": {
        "id": "Z18BY3QKRm65",
        "colab": {
          "base_uri": "https://localhost:8080/"
        },
        "outputId": "9528b26c-51fe-466b-86c5-4be2f544ef65"
      },
      "execution_count": null,
      "outputs": [
        {
          "output_type": "stream",
          "name": "stdout",
          "text": [
            "Harry is in d\n"
          ]
        }
      ]
    },
    {
      "cell_type": "markdown",
      "source": [
        "### cls来创建对象，简逻辑\n",
        "\n",
        "运用classmethod改进之前的代码安排"
      ],
      "metadata": {
        "id": "o6drMIl9gygE"
      }
    },
    {
      "cell_type": "code",
      "source": [
        "class Student:\n",
        "  def __init__(self,name,house):\n",
        "    if not name:\n",
        "      raise ValueError(\"Missing name\")\n",
        "    if house not in [\"a\",\"b\",\"c\",\"d\"]:\n",
        "      raise ValueError(\"Invalid house\")\n",
        "    self.name = name\n",
        "    self.house = house\n",
        "\n",
        "  def __str__(self):\n",
        "    return f\"{self.name} from {self.house}\"\n",
        "\n",
        "  @classmethod\n",
        "  def get(cls):\n",
        "    name = input(\"name: \")\n",
        "    house = input(\"house: \")\n",
        "    return cls(name,house)\n",
        "\n",
        "def main():\n",
        "  student = Student.get()\n",
        "  print(student)\n",
        "\n",
        "main()"
      ],
      "metadata": {
        "id": "DNTEjLNHSUDJ"
      },
      "execution_count": null,
      "outputs": []
    },
    {
      "cell_type": "markdown",
      "source": [
        "## Inheritant\n",
        "class Claname(Fathor)"
      ],
      "metadata": {
        "id": "WWVft9qNjTKr"
      }
    },
    {
      "cell_type": "code",
      "source": [
        "class Wizard:\n",
        "  def __init__(self,name):\n",
        "    if not name:\n",
        "      raise ValueError(\"Missing name\")\n",
        "    self.name = name\n",
        "\n",
        "class Student(Wizard):\n",
        "  def __init__(self,name,house):\n",
        "    super().__init__(name)#继承superclass的方法\n",
        "    self.house = house\n",
        "\n",
        "class Professor(Wizard):\n",
        "  def __init__(self,name,subject):\n",
        "    super().__init__(name)\n",
        "    self.subject = subject\n",
        "\n",
        "  def __str__(self):\n",
        "    return(f\"{self.name}'s subject is {self.subject}\")\n",
        "\n",
        "\n",
        "wizard = Wizard(\"Albus\")\n",
        "student = Student(\"Harry\",\"b\")\n",
        "professor = Professor(\"Severus\",\"subject\")\n",
        "\n",
        "print(professor)\n",
        "\n"
      ],
      "metadata": {
        "colab": {
          "base_uri": "https://localhost:8080/"
        },
        "id": "RWBmcrCSi-pT",
        "outputId": "331422e7-f45d-4753-c794-ef22cbd7ad4d"
      },
      "execution_count": null,
      "outputs": [
        {
          "output_type": "stream",
          "name": "stdout",
          "text": [
            "Severus's subject is subject\n"
          ]
        }
      ]
    },
    {
      "cell_type": "markdown",
      "source": [
        "- py可以有多个父类吗？\n",
        "\n",
        "\n",
        "是的，Python 支持多重继承，也就是说一个类可以有多个父类。这样，你可以让一个类同时继承多个父类的属性和方法。这种机制可以在一些情况下非常有用，但也需要谨慎使用，以避免复杂性和潜在的问题。"
      ],
      "metadata": {
        "id": "Wo4ZuCk1lYuW"
      }
    },
    {
      "cell_type": "markdown",
      "source": [
        "## Operator overloading\n",
        "运算符重载，比如有时候+号不一定可以加int，还可以加字符串。\n"
      ],
      "metadata": {
        "id": "6O0JofGymAyX"
      }
    },
    {
      "cell_type": "code",
      "source": [
        "class Vault:\n",
        "  def __init__(self,galleons=0,sickles=0,knuts=0):\n",
        "    self.galleons = galleons\n",
        "    self.sickles = sickles\n",
        "    self.knuts = knuts\n",
        "\n",
        "  def __str__(self):\n",
        "    return f\"{self.galleons} Galleons,{self.sickles} Sickles,{self.knuts} Knuts\"\n",
        "\n",
        "potter = Vault(100,50,25)\n",
        "print(potter)\n",
        "\n",
        "weasley = Vault(25,50,100)\n",
        "print(weasley)\n",
        "\n",
        "galleons = potter.galleons + weasley.galleons\n",
        "sickles = potter.sickles + weasley.sickles\n",
        "knuts = potter.knuts + potter.knuts\n",
        "\n",
        "total = Vault(galleons,sickles,knuts)\n",
        "print(total)\n"
      ],
      "metadata": {
        "colab": {
          "base_uri": "https://localhost:8080/"
        },
        "id": "IAVdUW_mjgVq",
        "outputId": "800be0e5-3a82-4ec8-d7d5-9d70c1f2a34b"
      },
      "execution_count": null,
      "outputs": [
        {
          "output_type": "stream",
          "name": "stdout",
          "text": [
            "100 Galleons,50 Sickles,25 Knuts\n",
            "25 Galleons,50 Sickles,100 Knuts\n",
            "125 Galleons,100 Sickles,50 Knuts\n"
          ]
        }
      ]
    },
    {
      "cell_type": "markdown",
      "source": [
        "运用operator overloading，让两个vault加在一起"
      ],
      "metadata": {
        "id": "hVd0x4YboOnS"
      }
    },
    {
      "cell_type": "code",
      "source": [
        "class Vault:\n",
        "  def __init__(self,galleons=0,sickles=0,knuts=0):\n",
        "    self.galleons = galleons\n",
        "    self.sickles = sickles\n",
        "    self.knuts = knuts\n",
        "\n",
        "  def __str__(self):\n",
        "    return f\"{self.galleons} Galleons,{self.sickles} Sickles,{self.knuts} Knuts\"\n",
        "\n",
        "  # opertor overloading\n",
        "  def __add__(self,other):\n",
        "    galleons = self.galleons + other.galleons\n",
        "    sickles = self.sickles + other.sickles\n",
        "    knuts = self.knuts + other.knuts\n",
        "    return Vault(galleons,sickles,knuts)\n",
        "\n",
        "potter = Vault(100,50,25)\n",
        "print(potter)\n",
        "\n",
        "weasley = Vault(25,50,100)\n",
        "print(weasley)\n",
        "\n",
        "total = potter + weasley\n",
        "print(total)\n"
      ],
      "metadata": {
        "colab": {
          "base_uri": "https://localhost:8080/"
        },
        "id": "z8mc4mAPncb4",
        "outputId": "bcc8e0a7-3d5c-45b8-d5a8-ea57fb6f680c"
      },
      "execution_count": null,
      "outputs": [
        {
          "output_type": "stream",
          "name": "stdout",
          "text": [
            "100 Galleons,50 Sickles,25 Knuts\n",
            "25 Galleons,50 Sickles,100 Knuts\n",
            "125 Galleons,100 Sickles,125 Knuts\n"
          ]
        }
      ]
    },
    {
      "cell_type": "code",
      "source": [],
      "metadata": {
        "id": "97gcwGBYmioS"
      },
      "execution_count": null,
      "outputs": []
    },
    {
      "cell_type": "markdown",
      "source": [
        "# Etc"
      ],
      "metadata": {
        "id": "b1anFAWHG9US"
      }
    },
    {
      "cell_type": "markdown",
      "source": [
        "## Set\n",
        "在 Python 中，set 是一个内置的数据类型，用于表示集合。集合是一种无序、不重复的元素集合，非常适合用来进行数学运算、去重等操作。下面是 set 类的一些核心特性和用法：\n",
        "\n",
        "### 基本特性\n",
        "\n",
        "**无序性**：集合中的元素没有特定的顺序，这意味着集合内的元素位置是不确定的。\n",
        "\n",
        "**唯一性**：集合中的每个元素都是唯一的，重复的元素会被自动去除。\n",
        "\n",
        "**可变性**：集合是可变的，可以在创建后添加或删除元素，但集合本身是不可变的，即不能直接修改其中的元素。"
      ],
      "metadata": {
        "id": "cDNfS7R8HCZ_"
      }
    },
    {
      "cell_type": "code",
      "source": [
        "students = [\n",
        "    {\"name\":\"a\",\"house\":\"A\"},\n",
        "    {\"name\":\"b\",\"house\":\"B\"},\n",
        "    {\"name\":\"c\",\"house\":\"A\"},\n",
        "    {\"name\":\"d\",\"house\":\"B\"}\n",
        "]\n",
        "\n",
        "houses = list()\n",
        "for stu in students:\n",
        "  if stu[\"house\"] not in houses:\n",
        "    houses.append(stu[\"house\"])\n",
        "\n",
        "for house in sorted(houses):\n",
        "  print(house)"
      ],
      "metadata": {
        "colab": {
          "base_uri": "https://localhost:8080/"
        },
        "id": "P_SDK_hyG-8Q",
        "outputId": "aa16ae63-5236-4bf0-db05-ae550f517370"
      },
      "execution_count": null,
      "outputs": [
        {
          "output_type": "stream",
          "name": "stdout",
          "text": [
            "A\n",
            "B\n"
          ]
        }
      ]
    },
    {
      "cell_type": "markdown",
      "source": [
        "这里用list的话就要手动判断是否有重合"
      ],
      "metadata": {
        "id": "vcWPFe_9ITIq"
      }
    },
    {
      "cell_type": "code",
      "source": [
        "students = [\n",
        "    {\"name\":\"a\",\"house\":\"A\"},\n",
        "    {\"name\":\"b\",\"house\":\"B\"},\n",
        "    {\"name\":\"c\",\"house\":\"A\"},\n",
        "    {\"name\":\"d\",\"house\":\"B\"}\n",
        "]\n",
        "\n",
        "houses = set()\n",
        "for stu in students:\n",
        "  houses.add(stu[\"house\"])\n",
        "\n",
        "for house in sorted(houses):\n",
        "  print(house)"
      ],
      "metadata": {
        "colab": {
          "base_uri": "https://localhost:8080/"
        },
        "id": "LBbEz6_hIV23",
        "outputId": "c9a33952-78e8-4800-ef7a-7c1613401a56"
      },
      "execution_count": null,
      "outputs": [
        {
          "output_type": "stream",
          "name": "stdout",
          "text": [
            "A\n",
            "B\n"
          ]
        }
      ]
    },
    {
      "cell_type": "markdown",
      "source": [
        "用set直接加就行了，自动去除重复。注意set是add，list是append"
      ],
      "metadata": {
        "id": "u91X9CFyIYnT"
      }
    },
    {
      "cell_type": "markdown",
      "source": [
        "### 创建集合\n",
        "\n",
        "你可以使用大括号 `{}` 或者 `set()` 函数来创建集合：\n",
        "\n",
        "```python\n",
        "# 使用大括号创建集合\n",
        "my_set = {1, 2, 3, 4, 5}\n",
        "\n",
        "# 使用 set() 函数创建集合\n",
        "another_set = set([1, 2, 3, 4, 5])\n",
        "```\n",
        "\n",
        "注意：空集合只能使用 `set()` 创建，不能使用 `{}`，因为 `{}` 会被解释为空字典。\n",
        "\n",
        "### 常用操作\n",
        "\n",
        "1. **添加元素**：\n",
        "\n",
        "```python\n",
        "my_set.add(6)  # 添加元素 6\n",
        "```\n",
        "\n",
        "2. **删除元素**：\n",
        "\n",
        "```python\n",
        "my_set.remove(3)  # 删除元素 3，如果元素不存在，会引发 KeyError\n",
        "my_set.discard(3) # 删除元素 3，如果元素不存在，不会引发错误\n",
        "```\n",
        "\n",
        "3. **集合运算**：\n",
        "\n",
        "```python\n",
        "set1 = {1, 2, 3}\n",
        "set2 = {3, 4, 5}\n",
        "\n",
        "# 并集\n",
        "union_set = set1 | set2  # {1, 2, 3, 4, 5}\n",
        "\n",
        "# 交集\n",
        "intersection_set = set1 & set2  # {3}\n",
        "\n",
        "# 差集\n",
        "difference_set = set1 - set2  # {1, 2}\n",
        "\n",
        "# 对称差集\n",
        "symmetric_difference_set = set1 ^ set2  # {1, 2, 4, 5}\n",
        "```\n",
        "\n",
        "4. **集合操作方法**：\n",
        "\n",
        "```python\n",
        "# 并集\n",
        "union_set = set1.union(set2)\n",
        "\n",
        "# 交集\n",
        "intersection_set = set1.intersection(set2)\n",
        "\n",
        "# 差集\n",
        "difference_set = set1.difference(set2)\n",
        "\n",
        "# 对称差集\n",
        "symmetric_difference_set = set1.symmetric_difference(set2)\n",
        "```\n",
        "\n",
        "5. **检查元素**：\n",
        "\n",
        "```python\n",
        "print(1 in my_set)  # True\n",
        "print(7 in my_set)  # False\n",
        "```\n",
        "\n",
        "6. **集合的其他方法**：\n",
        "\n",
        "```python\n",
        "# 清空集合\n",
        "my_set.clear()\n",
        "\n",
        "# 复制集合\n",
        "copy_set = my_set.copy()\n",
        "```\n",
        "\n",
        "### 实际应用\n",
        "\n",
        "- **去重**：可以通过将列表转换为集合来去重。\n",
        "  \n",
        "  ```python\n",
        "  list_with_duplicates = [1, 2, 2, 3, 4, 4, 5]\n",
        "  unique_list = list(set(list_with_duplicates))  # [1, 2, 3, 4, 5]\n",
        "  ```"
      ],
      "metadata": {
        "id": "6Af3Sj_cJJ6F"
      }
    },
    {
      "cell_type": "markdown",
      "source": [
        "## global"
      ],
      "metadata": {
        "id": "f8KglonKJHWN"
      }
    },
    {
      "cell_type": "markdown",
      "source": [
        "**定义与作用域**：全局变量在模块级别定义，作用范围是整个模块。要在函数内部访问或修改全局变量，需要使用 global 关键字。\n",
        "\n",
        "**局部变量覆盖**：函数内部定义的同名变量会遮蔽（覆盖）全局变量，直到函数执行完毕。\n"
      ],
      "metadata": {
        "id": "JSyaYmiHJsX_"
      }
    },
    {
      "cell_type": "code",
      "source": [
        "balance = 0\n",
        "\n",
        "def main():\n",
        "  print(\"Balance:\",balance)\n",
        "  deposit(100)\n",
        "  withdraw(50)\n",
        "  print(\"Balance:\",balance)\n",
        "\n",
        "def deposit(n):\n",
        "  balance += n\n",
        "\n",
        "def withdraw(n):\n",
        "  balance -= n\n",
        "\n",
        "main()"
      ],
      "metadata": {
        "colab": {
          "base_uri": "https://localhost:8080/",
          "height": 339
        },
        "id": "kGjm4WpQIafJ",
        "outputId": "23d010fa-4c5a-46da-8d6a-866ae8e60534"
      },
      "execution_count": null,
      "outputs": [
        {
          "output_type": "stream",
          "name": "stdout",
          "text": [
            "Balance: 0\n"
          ]
        },
        {
          "output_type": "error",
          "ename": "UnboundLocalError",
          "evalue": "local variable 'balance' referenced before assignment",
          "traceback": [
            "\u001b[0;31m---------------------------------------------------------------------------\u001b[0m",
            "\u001b[0;31mUnboundLocalError\u001b[0m                         Traceback (most recent call last)",
            "\u001b[0;32m<ipython-input-5-7369c6c7ceb4>\u001b[0m in \u001b[0;36m<cell line: 15>\u001b[0;34m()\u001b[0m\n\u001b[1;32m     13\u001b[0m   \u001b[0mbalance\u001b[0m \u001b[0;34m-=\u001b[0m \u001b[0mn\u001b[0m\u001b[0;34m\u001b[0m\u001b[0;34m\u001b[0m\u001b[0m\n\u001b[1;32m     14\u001b[0m \u001b[0;34m\u001b[0m\u001b[0m\n\u001b[0;32m---> 15\u001b[0;31m \u001b[0mmain\u001b[0m\u001b[0;34m(\u001b[0m\u001b[0;34m)\u001b[0m\u001b[0;34m\u001b[0m\u001b[0;34m\u001b[0m\u001b[0m\n\u001b[0m",
            "\u001b[0;32m<ipython-input-5-7369c6c7ceb4>\u001b[0m in \u001b[0;36mmain\u001b[0;34m()\u001b[0m\n\u001b[1;32m      3\u001b[0m \u001b[0;32mdef\u001b[0m \u001b[0mmain\u001b[0m\u001b[0;34m(\u001b[0m\u001b[0;34m)\u001b[0m\u001b[0;34m:\u001b[0m\u001b[0;34m\u001b[0m\u001b[0;34m\u001b[0m\u001b[0m\n\u001b[1;32m      4\u001b[0m   \u001b[0mprint\u001b[0m\u001b[0;34m(\u001b[0m\u001b[0;34m\"Balance:\"\u001b[0m\u001b[0;34m,\u001b[0m\u001b[0mbalance\u001b[0m\u001b[0;34m)\u001b[0m\u001b[0;34m\u001b[0m\u001b[0;34m\u001b[0m\u001b[0m\n\u001b[0;32m----> 5\u001b[0;31m   \u001b[0mdeposit\u001b[0m\u001b[0;34m(\u001b[0m\u001b[0;36m100\u001b[0m\u001b[0;34m)\u001b[0m\u001b[0;34m\u001b[0m\u001b[0;34m\u001b[0m\u001b[0m\n\u001b[0m\u001b[1;32m      6\u001b[0m   \u001b[0mwithdraw\u001b[0m\u001b[0;34m(\u001b[0m\u001b[0;36m50\u001b[0m\u001b[0;34m)\u001b[0m\u001b[0;34m\u001b[0m\u001b[0;34m\u001b[0m\u001b[0m\n\u001b[1;32m      7\u001b[0m   \u001b[0mprint\u001b[0m\u001b[0;34m(\u001b[0m\u001b[0;34m\"Balance:\"\u001b[0m\u001b[0;34m,\u001b[0m\u001b[0mbalance\u001b[0m\u001b[0;34m)\u001b[0m\u001b[0;34m\u001b[0m\u001b[0;34m\u001b[0m\u001b[0m\n",
            "\u001b[0;32m<ipython-input-5-7369c6c7ceb4>\u001b[0m in \u001b[0;36mdeposit\u001b[0;34m(n)\u001b[0m\n\u001b[1;32m      8\u001b[0m \u001b[0;34m\u001b[0m\u001b[0m\n\u001b[1;32m      9\u001b[0m \u001b[0;32mdef\u001b[0m \u001b[0mdeposit\u001b[0m\u001b[0;34m(\u001b[0m\u001b[0mn\u001b[0m\u001b[0;34m)\u001b[0m\u001b[0;34m:\u001b[0m\u001b[0;34m\u001b[0m\u001b[0;34m\u001b[0m\u001b[0m\n\u001b[0;32m---> 10\u001b[0;31m   \u001b[0mbalance\u001b[0m \u001b[0;34m+=\u001b[0m \u001b[0mn\u001b[0m\u001b[0;34m\u001b[0m\u001b[0;34m\u001b[0m\u001b[0m\n\u001b[0m\u001b[1;32m     11\u001b[0m \u001b[0;34m\u001b[0m\u001b[0m\n\u001b[1;32m     12\u001b[0m \u001b[0;32mdef\u001b[0m \u001b[0mwithdraw\u001b[0m\u001b[0;34m(\u001b[0m\u001b[0mn\u001b[0m\u001b[0;34m)\u001b[0m\u001b[0;34m:\u001b[0m\u001b[0;34m\u001b[0m\u001b[0;34m\u001b[0m\u001b[0m\n",
            "\u001b[0;31mUnboundLocalError\u001b[0m: local variable 'balance' referenced before assignment"
          ]
        }
      ]
    },
    {
      "cell_type": "markdown",
      "source": [
        "`UnboundLocalError: local variable 'balance' referenced before assignment` 是 Python 中的一种错误，通常发生在你尝试在函数内使用一个变量，但这个变量在使用之前没有被赋值。这通常是因为在函数内部对一个变量进行了赋值操作，导致 Python 将这个变量视为局部变量，但你在赋值之前就尝试使用了它。\n",
        "\n",
        "### 错误原因\n",
        "\n",
        "这个错误通常发生在以下几种情况：\n",
        "\n",
        "1. **局部变量覆盖全局变量**：\n",
        "   当你在函数内部使用了与全局变量同名的变量，并且在函数内部对这个变量进行了赋值，那么这个变量被视为局部变量。如果你在赋值之前引用了这个局部变量，就会引发 `UnboundLocalError`。\n",
        "\n",
        "2. **条件赋值**：\n",
        "   当一个变量的赋值在某些条件语句中，而你在条件不成立时尝试访问这个变量，也会出现这个错误。\n",
        "\n",
        "### 示例\n",
        "\n",
        "#### 错误示例\n",
        "\n",
        "```python\n",
        "balance = 100  # 全局变量\n",
        "\n",
        "def update_balance():\n",
        "    print(balance)  # 尝试使用全局变量\n",
        "    balance = 150   # 尝试给局部变量赋值\n",
        "\n",
        "update_balance()\n",
        "```\n",
        "\n",
        "在这个示例中，`balance` 在 `update_balance` 函数中被赋值，但是在赋值之前已经被使用了。由于在函数内部对 `balance` 进行了赋值，Python 将其视为局部变量，因此在尝试访问它之前，它还没有被初始化，导致 `UnboundLocalError`。\n",
        "\n",
        "#### 解决方法\n",
        "\n",
        "1. **使用 `global` 关键字**：\n",
        "   如果你确实需要在函数内部修改全局变量，需要使用 `global` 关键字来声明该变量是全局的。\n",
        "\n",
        "   ```python\n",
        "   balance = 100  # 全局变量\n",
        "\n",
        "   def update_balance():\n",
        "       global balance\n",
        "       print(balance)  # 现在使用的是全局变量\n",
        "       balance = 150   # 修改全局变量\n",
        "\n",
        "   update_balance()\n",
        "   ```\n",
        "\n",
        "2. **确保变量初始化**：\n",
        "   在函数内部使用变量之前，确保它已经被正确赋值，或者在条件语句中处理所有可能的赋值路径。\n",
        "\n",
        "   ```python\n",
        "   def update_balance():\n",
        "       global balance\n",
        "       if True:  # 条件可以是任何逻辑\n",
        "           balance = 150\n",
        "       print(balance)  # 在赋值之后使用\n",
        "\n",
        "   update_balance()\n",
        "   ```\n",
        "\n",
        "### 总结\n",
        "\n",
        "`UnboundLocalError` 错误表明你试图在赋值之前访问一个局部变量。确保在访问局部变量之前对其进行初始化，或者使用 `global` 关键字来明确指出你要使用的是全局变量，从而避免这个错误。"
      ],
      "metadata": {
        "id": "l5UQY1WMKgY0"
      }
    },
    {
      "cell_type": "code",
      "source": [
        "balance = 0\n",
        "\n",
        "def main():\n",
        "  print(\"Balance:\",balance)\n",
        "  deposit(100)\n",
        "  withdraw(50)\n",
        "  print(\"Balance:\",balance)\n",
        "\n",
        "def deposit(n):\n",
        "  global balance\n",
        "  balance += n\n",
        "\n",
        "def withdraw(n):\n",
        "  global balance\n",
        "  balance -= n\n",
        "\n",
        "main()"
      ],
      "metadata": {
        "colab": {
          "base_uri": "https://localhost:8080/"
        },
        "id": "JQPN3xziKCPi",
        "outputId": "2a397e0f-87d5-4955-d39e-c69b041fc9ac"
      },
      "execution_count": null,
      "outputs": [
        {
          "output_type": "stream",
          "name": "stdout",
          "text": [
            "Balance: 0\n",
            "Balance: 50\n"
          ]
        }
      ]
    },
    {
      "cell_type": "code",
      "source": [
        "class Account:\n",
        "  def __init__(self):\n",
        "    self._balance = 0\n",
        "\n",
        "  @property\n",
        "  def balance(self):\n",
        "    return self._balance\n",
        "\n",
        "  def deposit(self,n):\n",
        "    self._balance+=n\n",
        "\n",
        "  def withdraw(self,n):\n",
        "    self._balance-=n\n",
        "\n",
        "def main():\n",
        "  account = Account()\n",
        "  print(\"Balance\",account.balance)\n",
        "  account.deposit(100)\n",
        "  account.withdraw(50)\n",
        "  print(\"Balance\",account.balance)\n",
        "\n",
        "main()\n"
      ],
      "metadata": {
        "colab": {
          "base_uri": "https://localhost:8080/"
        },
        "id": "RX_CbEarK3cO",
        "outputId": "e3aaaa36-02df-4af7-a1a5-19f45245db2e"
      },
      "execution_count": null,
      "outputs": [
        {
          "output_type": "stream",
          "name": "stdout",
          "text": [
            "Balance 0\n",
            "Balance 50\n"
          ]
        }
      ]
    },
    {
      "cell_type": "markdown",
      "source": [
        "## constants"
      ],
      "metadata": {
        "id": "ltfD1xyDNxT5"
      }
    },
    {
      "cell_type": "markdown",
      "source": [
        "在 Python 中，常量主要是通过命名约定实现的，以下是一些关键点：\n",
        "\n",
        "1. **命名约定**: 使用全大写字母的变量名来表示常量，如 `MAX_SIZE` 或 `PI`。\n",
        "2. **不可变数据类型**: 可以用不可变类型如 `int`、`float`、`str`、`tuple` 来定义常量，以确保其值不会改变。\n",
        "3. **常量的不可修改性**: Python 没有强制性机制来确保常量不可变，使用约定和文档来表示。\n",
        "4. **模块级常量**: 可以在模块级别定义常量，这些常量在模块内的其他地方保持不变。\n",
        "\n",
        "这些约定帮助提高代码的可读性和维护性。"
      ],
      "metadata": {
        "id": "k6TtASyMOVGh"
      }
    },
    {
      "cell_type": "code",
      "source": [
        "MEOWS = 3\n",
        "for _ in range(MEOWS):\n",
        "  print(\"meow\")"
      ],
      "metadata": {
        "id": "B2wbahwzMHX1"
      },
      "execution_count": null,
      "outputs": []
    },
    {
      "cell_type": "markdown",
      "source": [
        "在类内部想要一个不被改变的变量"
      ],
      "metadata": {
        "id": "cbM1dgfpOngT"
      }
    },
    {
      "cell_type": "code",
      "source": [
        "class Cat:\n",
        "  MEOWS = 3\n",
        "\n",
        "  def meow(self):\n",
        "    for _ in range(Cat.MEOWS):\n",
        "      print(\"meow\")\n",
        "\n",
        "cat = Cat()\n",
        "cat.meow()"
      ],
      "metadata": {
        "colab": {
          "base_uri": "https://localhost:8080/"
        },
        "id": "vXLZwgb7Olpr",
        "outputId": "26410ae1-630f-4700-c9c4-c9a03aed8af0"
      },
      "execution_count": null,
      "outputs": [
        {
          "output_type": "stream",
          "name": "stdout",
          "text": [
            "meow\n",
            "meow\n",
            "meow\n"
          ]
        }
      ]
    },
    {
      "cell_type": "markdown",
      "source": [
        "## type hints\n",
        "Type hints 是一种在 Python 代码中提供类型信息的方式，用于帮助静态分析工具、IDE 和代码审查者理解代码的预期数据类型。例如：\n",
        "\n",
        "```python\n",
        "def greet(name: str) -> str:\n",
        "    return f\"Hello, {name}\"\n",
        "```\n",
        "\n",
        "这里，`name: str` 表示 `name` 参数应该是 `str` 类型，`-> str` 表示函数返回值是 `str` 类型。Type hints 不会改变 Python 的运行时行为，但可以提高代码的可读性和帮助捕捉类型错误。"
      ],
      "metadata": {
        "id": "HamnrLxZPHz7"
      }
    },
    {
      "cell_type": "code",
      "source": [
        "def meow(n:int):\n",
        "  for _ in range(n):\n",
        "    print(\"meow\")\n",
        "\n",
        "number: int = int(input(\"Number: \"))\n",
        "meow(number)"
      ],
      "metadata": {
        "colab": {
          "base_uri": "https://localhost:8080/"
        },
        "id": "gr_CcyZLO6cP",
        "outputId": "df122e44-29df-4c8b-b629-5a430f1b2f31"
      },
      "execution_count": null,
      "outputs": [
        {
          "output_type": "stream",
          "name": "stdout",
          "text": [
            "Number: 3\n",
            "meow\n",
            "meow\n",
            "meow\n"
          ]
        }
      ]
    },
    {
      "cell_type": "code",
      "source": [
        "def meow(n:int)->None:\n",
        "  for _ in range(n):\n",
        "    print(\"meow\")\n",
        "\n",
        "number: int = int(input(\"Number: \"))\n",
        "meows: str = meow(number)\n",
        "print(meows)"
      ],
      "metadata": {
        "colab": {
          "base_uri": "https://localhost:8080/"
        },
        "id": "36f-AvZMPyiv",
        "outputId": "d45227ca-2c2d-4a8f-94c4-8c39551aaaf0"
      },
      "execution_count": null,
      "outputs": [
        {
          "output_type": "stream",
          "name": "stdout",
          "text": [
            "Number: 3\n",
            "meow\n",
            "meow\n",
            "meow\n",
            "None\n"
          ]
        }
      ]
    },
    {
      "cell_type": "code",
      "source": [
        "def meow(n:int)->None:\n",
        "  for _ in range(n):\n",
        "    return \"meow\\n\"* n\n",
        "\n",
        "number: int = int(input(\"Number: \"))\n",
        "meows: str = meow(number)\n",
        "print(meows,end=\"\")"
      ],
      "metadata": {
        "id": "FpiXzExdSNtE",
        "colab": {
          "base_uri": "https://localhost:8080/"
        },
        "outputId": "7c2ae26a-fae9-4f39-c77c-080841214680"
      },
      "execution_count": null,
      "outputs": [
        {
          "output_type": "stream",
          "name": "stdout",
          "text": [
            "Number: 3\n",
            "meow\n",
            "meow\n",
            "meow\n"
          ]
        }
      ]
    },
    {
      "cell_type": "markdown",
      "source": [
        "## docstring"
      ],
      "metadata": {
        "id": "mB8uxbluh1UE"
      }
    },
    {
      "cell_type": "markdown",
      "source": [
        "好的，来详细解释一下 Python 中的 docstring 和一般注释的区别吧：\n",
        "\n",
        "### 1. **用途上的区别**\n",
        "\n",
        "- **Docstring**:\n",
        "  - **目的**：Docstring（文档字符串）用于为模块、类和函数提供文档说明。它们的目的是帮助用户和开发者理解代码的用途、功能和使用方法。\n",
        "  - **位置**：Docstring 位于模块、类或函数的开头，通常紧跟在定义之后。它们使用三引号 `\"\"\"` 或 `'''` 包裹。\n",
        "  - **访问方式**：可以通过 `.__doc__` 属性访问 docstring，或使用 `help()` 函数查看。例如：\n",
        "    ```python\n",
        "    def my_function():\n",
        "        \"\"\"This is a docstring for my_function.\"\"\"\n",
        "        pass\n",
        "\n",
        "    print(my_function.__doc__)  # 输出：This is a docstring for my_function.\n",
        "    ```\n",
        "\n",
        "- **一般注释**:\n",
        "  - **目的**：一般注释用于解释代码的具体实现或逻辑，帮助其他开发者或自己理解代码的细节。它们不用于生成文档，而是作为开发过程中的提示和说明。\n",
        "  - **位置**：一般注释可以放在代码的任何地方，通常以 `#` 开头。注释可以是单行的，也可以是多行的（通过多个 `#` 或使用多行字符串但不推荐）。\n",
        "  - **访问方式**：一般注释在代码运行时不会产生任何影响，也不能通过代码中的属性访问。\n",
        "\n",
        "### 2. **表现形式上的区别**\n",
        "\n",
        "- **Docstring**：\n",
        "  - 使用三重引号 `\"\"\"` 或 `'''` 来包裹文档字符串。例如：\n",
        "    ```python\n",
        "    def add(a, b):\n",
        "        \"\"\"Add two numbers and return the result.\n",
        "        \n",
        "        Parameters:\n",
        "        a (int): The first number.\n",
        "        b (int): The second number.\n",
        "\n",
        "        Returns:\n",
        "        int: The sum of the two numbers.\n",
        "        \"\"\"\n",
        "        return a + b\n",
        "    ```\n",
        "  - 可以跨多行，通常用来详细描述函数、类或模块的目的和行为。\n",
        "\n",
        "- **一般注释**：\n",
        "  - 使用 `#` 开头，注释内容紧跟在 `#` 后面。例如：\n",
        "    ```python\n",
        "    # This function adds two numbers\n",
        "    def add(a, b):\n",
        "        return a + b\n",
        "    ```\n",
        "  - 可以放在代码的任何地方，只要 `#` 后面的内容是解释性的，说明代码的作用或使用。\n",
        "\n",
        "### 总结\n",
        "\n",
        "- **Docstring** 是用来生成文档、提供模块、类和函数的说明的，具有正式性和结构化，可以被工具自动提取和显示。\n",
        "- **一般注释** 是用于解释代码逻辑和实现细节的，更加随意和灵活，不影响代码的执行。\n",
        "\n",
        "希望这可以帮助你理解它们之间的区别！"
      ],
      "metadata": {
        "id": "DHzscCEIilLR"
      }
    },
    {
      "cell_type": "markdown",
      "source": [
        "## argvparse"
      ],
      "metadata": {
        "id": "CTs3RInnlKXr"
      }
    },
    {
      "cell_type": "code",
      "source": [
        "import sys\n",
        "sys.argv = [\"meows.py\",\"-n\",\"3\"]\n",
        "if len(sys.argv)==1:\n",
        "  print(\"meow\")\n",
        "elif len(sys.argv)==3 and sys.argv[1]==\"-n\":\n",
        "  n = int(sys.argv[2])\n",
        "  for _ in range(n):\n",
        "    print(\"meow\")\n",
        "else:\n",
        "  print(\"usage: meows.py\")"
      ],
      "metadata": {
        "colab": {
          "base_uri": "https://localhost:8080/"
        },
        "id": "EXuZGxAPhSPO",
        "outputId": "7135b801-ea9c-4160-d11a-de3507c42bd6"
      },
      "execution_count": null,
      "outputs": [
        {
          "output_type": "stream",
          "name": "stdout",
          "text": [
            "meow\n",
            "meow\n",
            "meow\n"
          ]
        }
      ]
    },
    {
      "cell_type": "code",
      "source": [
        "import argparse\n",
        "\n",
        "parser = argparse.ArgumentParser()\n",
        "parser.add_argument(\"-n\")\n",
        "argv = parser.parse_args()\n",
        "\n",
        "for _ in range(int(args.n)):\n",
        "  print(\"meow\")"
      ],
      "metadata": {
        "colab": {
          "base_uri": "https://localhost:8080/",
          "height": 315
        },
        "id": "-rJRglu0h0ZP",
        "outputId": "95bc18e8-6534-4726-f955-2d626eff5ef7"
      },
      "execution_count": null,
      "outputs": [
        {
          "output_type": "error",
          "ename": "TypeError",
          "evalue": "_ActionsContainer._get_positional_kwargs() missing 1 required positional argument: 'dest'",
          "traceback": [
            "\u001b[0;31m---------------------------------------------------------------------------\u001b[0m",
            "\u001b[0;31mTypeError\u001b[0m                                 Traceback (most recent call last)",
            "\u001b[0;32m<ipython-input-6-26bd26737100>\u001b[0m in \u001b[0;36m<cell line: 4>\u001b[0;34m()\u001b[0m\n\u001b[1;32m      2\u001b[0m \u001b[0;34m\u001b[0m\u001b[0m\n\u001b[1;32m      3\u001b[0m \u001b[0mparser\u001b[0m \u001b[0;34m=\u001b[0m \u001b[0margparse\u001b[0m\u001b[0;34m.\u001b[0m\u001b[0mArgumentParser\u001b[0m\u001b[0;34m(\u001b[0m\u001b[0;34m)\u001b[0m\u001b[0;34m\u001b[0m\u001b[0;34m\u001b[0m\u001b[0m\n\u001b[0;32m----> 4\u001b[0;31m \u001b[0mparser\u001b[0m\u001b[0;34m.\u001b[0m\u001b[0madd_argument\u001b[0m\u001b[0;34m(\u001b[0m\u001b[0;34m)\u001b[0m\u001b[0;34m\u001b[0m\u001b[0;34m\u001b[0m\u001b[0m\n\u001b[0m",
            "\u001b[0;32m/usr/lib/python3.10/argparse.py\u001b[0m in \u001b[0;36madd_argument\u001b[0;34m(self, *args, **kwargs)\u001b[0m\n\u001b[1;32m   1422\u001b[0m             \u001b[0;32mif\u001b[0m \u001b[0margs\u001b[0m \u001b[0;32mand\u001b[0m \u001b[0;34m'dest'\u001b[0m \u001b[0;32min\u001b[0m \u001b[0mkwargs\u001b[0m\u001b[0;34m:\u001b[0m\u001b[0;34m\u001b[0m\u001b[0;34m\u001b[0m\u001b[0m\n\u001b[1;32m   1423\u001b[0m                 \u001b[0;32mraise\u001b[0m \u001b[0mValueError\u001b[0m\u001b[0;34m(\u001b[0m\u001b[0;34m'dest supplied twice for positional argument'\u001b[0m\u001b[0;34m)\u001b[0m\u001b[0;34m\u001b[0m\u001b[0;34m\u001b[0m\u001b[0m\n\u001b[0;32m-> 1424\u001b[0;31m             \u001b[0mkwargs\u001b[0m \u001b[0;34m=\u001b[0m \u001b[0mself\u001b[0m\u001b[0;34m.\u001b[0m\u001b[0m_get_positional_kwargs\u001b[0m\u001b[0;34m(\u001b[0m\u001b[0;34m*\u001b[0m\u001b[0margs\u001b[0m\u001b[0;34m,\u001b[0m \u001b[0;34m**\u001b[0m\u001b[0mkwargs\u001b[0m\u001b[0;34m)\u001b[0m\u001b[0;34m\u001b[0m\u001b[0;34m\u001b[0m\u001b[0m\n\u001b[0m\u001b[1;32m   1425\u001b[0m \u001b[0;34m\u001b[0m\u001b[0m\n\u001b[1;32m   1426\u001b[0m         \u001b[0;31m# otherwise, we're adding an optional argument\u001b[0m\u001b[0;34m\u001b[0m\u001b[0;34m\u001b[0m\u001b[0m\n",
            "\u001b[0;31mTypeError\u001b[0m: _ActionsContainer._get_positional_kwargs() missing 1 required positional argument: 'dest'"
          ]
        }
      ]
    },
    {
      "cell_type": "code",
      "source": [
        "import argparse\n",
        "\n",
        "parser = argparse.ArgumentParser()\n",
        "parser.add_argument(\"-n\",default=1,help=\"number of times to meow\",type=int)\n",
        "argv = parser.parse_args()\n",
        "\n",
        "for _ in range(args.n):\n",
        "  print(\"meow\")"
      ],
      "metadata": {
        "id": "5cFUGTib1Me3",
        "colab": {
          "base_uri": "https://localhost:8080/",
          "height": 178
        },
        "outputId": "1bca1f6f-186c-4c61-b710-d6ab3311d9ae"
      },
      "execution_count": null,
      "outputs": [
        {
          "output_type": "stream",
          "name": "stderr",
          "text": [
            "usage: colab_kernel_launcher.py [-h] [-n N]\n",
            "colab_kernel_launcher.py: error: unrecognized arguments: -f /root/.local/share/jupyter/runtime/kernel-b4bf835b-2ab8-49ed-85bc-77bbe1cf80c7.json\n"
          ]
        },
        {
          "output_type": "error",
          "ename": "SystemExit",
          "evalue": "2",
          "traceback": [
            "An exception has occurred, use %tb to see the full traceback.\n",
            "\u001b[0;31mSystemExit\u001b[0m\u001b[0;31m:\u001b[0m 2\n"
          ]
        },
        {
          "output_type": "stream",
          "name": "stderr",
          "text": [
            "/usr/local/lib/python3.10/dist-packages/IPython/core/interactiveshell.py:3561: UserWarning: To exit: use 'exit', 'quit', or Ctrl-D.\n",
            "  warn(\"To exit: use 'exit', 'quit', or Ctrl-D.\", stacklevel=1)\n"
          ]
        }
      ]
    },
    {
      "cell_type": "markdown",
      "source": [
        "## unpack"
      ],
      "metadata": {
        "id": "g8MKnfaxuEET"
      }
    },
    {
      "cell_type": "code",
      "source": [
        "first,_=input(\"Name: \").split(\" \")\n",
        "print(first)"
      ],
      "metadata": {
        "colab": {
          "base_uri": "https://localhost:8080/"
        },
        "id": "_ZJmtizYuDqd",
        "outputId": "26bc62e4-a1d5-4b69-fbcd-c6a9e0dfc9a4"
      },
      "execution_count": null,
      "outputs": [
        {
          "output_type": "stream",
          "name": "stdout",
          "text": [
            "Name: david malan\n",
            "david\n"
          ]
        }
      ]
    },
    {
      "cell_type": "code",
      "source": [
        "def total(galleons,sickles,knuts):\n",
        "  return (galleons * 17 + sickles) * 29 + knuts\n",
        "\n",
        "coins = [100,50,25]\n",
        "\n",
        "print(total(coins[0],coins[1],coins[2]),\"Knuts\")"
      ],
      "metadata": {
        "colab": {
          "base_uri": "https://localhost:8080/"
        },
        "id": "j3FtosNJuLVM",
        "outputId": "764dfc74-4722-4922-fb7b-03a5eb82f1ad"
      },
      "execution_count": null,
      "outputs": [
        {
          "output_type": "stream",
          "name": "stdout",
          "text": [
            "50775 Knuts\n"
          ]
        }
      ]
    },
    {
      "cell_type": "code",
      "source": [
        "def total(galleons,sickles,knuts):\n",
        "  return (galleons * 17 + sickles) * 29 + knuts\n",
        "\n",
        "coins = {\"galleons\":100,\"sickles\":50,\"knuts\":25}\n",
        "\n",
        "print(total(**coins),\"Knuts\")"
      ],
      "metadata": {
        "colab": {
          "base_uri": "https://localhost:8080/"
        },
        "id": "EaQU2Sn45L87",
        "outputId": "5f09db2c-f3ad-48b8-e8db-56a343e199c4"
      },
      "execution_count": null,
      "outputs": [
        {
          "output_type": "stream",
          "name": "stdout",
          "text": [
            "50775 Knuts\n"
          ]
        }
      ]
    },
    {
      "cell_type": "code",
      "source": [
        "def f(*args,**kwargs):\n",
        "  print(\"Named:\",kwargs)\n",
        "\n",
        "f(galleons=100,sickles=50,knuts=25)"
      ],
      "metadata": {
        "colab": {
          "base_uri": "https://localhost:8080/"
        },
        "id": "rQMXJ3AL6hQ8",
        "outputId": "231d6e90-2a37-425f-e805-acff92b64b1e"
      },
      "execution_count": null,
      "outputs": [
        {
          "output_type": "stream",
          "name": "stdout",
          "text": [
            "Named: {'galleons': 100, 'sickles': 50, 'knuts': 25}\n"
          ]
        }
      ]
    },
    {
      "cell_type": "markdown",
      "source": [
        "## map"
      ],
      "metadata": {
        "id": "zM5VlU17epl7"
      }
    },
    {
      "cell_type": "code",
      "source": [
        "def main():\n",
        "  yell(\"This\",\"is\",\"CS50\")\n",
        "\n",
        "def yell(*phrase):\n",
        "  upper = []\n",
        "  for word in phrase:\n",
        "    upper.append(word.upper())\n",
        "  print(*upper)\n",
        "\n",
        "main()"
      ],
      "metadata": {
        "id": "gMo6GeXt-5PI",
        "colab": {
          "base_uri": "https://localhost:8080/"
        },
        "outputId": "be21197a-92e2-48d2-c11d-35c1b4c7dbad"
      },
      "execution_count": null,
      "outputs": [
        {
          "output_type": "stream",
          "name": "stdout",
          "text": [
            "THIS IS CS50\n"
          ]
        }
      ]
    },
    {
      "cell_type": "code",
      "source": [
        "def main():\n",
        "  yell(\"This\",\"is\",\"CS50\")\n",
        "\n",
        "def yell(*words):\n",
        "  uppercased = map(str.upper,words)\n",
        "  print(*uppercased)\n",
        "\n",
        "\n",
        "main()"
      ],
      "metadata": {
        "colab": {
          "base_uri": "https://localhost:8080/"
        },
        "id": "6i3huRy7fTTQ",
        "outputId": "cec0fc30-e3cc-466d-8925-1e7b227269e0"
      },
      "execution_count": null,
      "outputs": [
        {
          "output_type": "stream",
          "name": "stdout",
          "text": [
            "THIS IS CS50\n"
          ]
        }
      ]
    },
    {
      "cell_type": "markdown",
      "source": [
        "## list comprehension"
      ],
      "metadata": {
        "id": "3zq7PxwCkQ0_"
      }
    },
    {
      "cell_type": "markdown",
      "source": [
        "把遍历和遍历后的操作合并成一行。"
      ],
      "metadata": {
        "id": "2g6l1BN-kaDf"
      }
    },
    {
      "cell_type": "code",
      "source": [
        "def main():\n",
        "  yell(\"This\",\"is\",\"CS50\")\n",
        "\n",
        "def yell(*words):\n",
        "  uppercased = [word.upper() for word in words]\n",
        "  print(*uppercased)\n",
        "\n",
        "main()"
      ],
      "metadata": {
        "colab": {
          "base_uri": "https://localhost:8080/"
        },
        "id": "_2DaaCVjj4Ej",
        "outputId": "f5c396a0-ffcb-4541-aaed-5b0bfae68795"
      },
      "execution_count": null,
      "outputs": [
        {
          "output_type": "stream",
          "name": "stdout",
          "text": [
            "THIS IS CS50\n"
          ]
        }
      ]
    },
    {
      "cell_type": "code",
      "source": [
        "students = [\n",
        "    {\"name\":\"a\",\"house\":\"A\"},\n",
        "    {\"name\":\"b\",\"house\":\"B\"},\n",
        "    {\"name\":\"c\",\"house\":\"A\"},\n",
        "    {\"name\":\"d\",\"house\":\"B\"}\n",
        "]\n",
        "\n",
        "glist = [student[\"name\"] for student in students if student[\"house\"] == \"A\"]\n",
        "\n",
        "print(*glist)"
      ],
      "metadata": {
        "colab": {
          "base_uri": "https://localhost:8080/"
        },
        "id": "7EVSIda9kY_l",
        "outputId": "8d8a0bbe-2682-4f8b-84e2-56998cf1c9d9"
      },
      "execution_count": null,
      "outputs": [
        {
          "output_type": "stream",
          "name": "stdout",
          "text": [
            "a c\n"
          ]
        }
      ]
    },
    {
      "cell_type": "markdown",
      "source": [
        "## filter"
      ],
      "metadata": {
        "id": "y7vCAVjt0HKK"
      }
    },
    {
      "cell_type": "markdown",
      "source": [
        "在Python中，`filter()`是一个内置函数，用于从可迭代对象中过滤出满足指定条件的元素。它接受两个参数：\n",
        "\n",
        "1. **函数**：一个返回布尔值的函数，用于判断每个元素是否符合条件。\n",
        "2. **可迭代对象**：如列表、元组或字符串，需要过滤的对象。\n",
        "\n",
        "`filter()`返回一个迭代器，可以用`list()`或其他方法将其转换为列表或其他数据类型。以下是一个简单示例：\n",
        "\n",
        "```python\n",
        "# 定义一个过滤函数\n",
        "def is_even(n):\n",
        "    return n % 2 == 0\n",
        "\n",
        "# 使用 filter 过滤偶数\n",
        "numbers = [1, 2, 3, 4, 5, 6]\n",
        "even_numbers = filter(is_even, numbers)\n",
        "\n",
        "# 将结果转换为列表\n",
        "print(list(even_numbers))  # 输出: [2, 4, 6]\n",
        "```\n",
        "\n",
        "在这个例子中，`filter()`函数通过`is_even`函数筛选出列表中的偶数。"
      ],
      "metadata": {
        "id": "ffSr7iid0oxz"
      }
    },
    {
      "cell_type": "code",
      "source": [
        "students = [\n",
        "    {\"name\":\"a\",\"house\":\"A\"},\n",
        "    {\"name\":\"b\",\"house\":\"B\"},\n",
        "    {\"name\":\"c\",\"house\":\"A\"},\n",
        "    {\"name\":\"d\",\"house\":\"B\"}\n",
        "]\n",
        "\n",
        "def is_b(s):\n",
        "  return s[\"house\"] == \"A\"\n",
        "\n",
        "bhouse = filter(is_b,students)\n",
        "\n",
        "for result in sorted(bhouse,key = lambda s:s[\"name\"]):\n",
        "  print(result[\"name\"])"
      ],
      "metadata": {
        "id": "MYDHHzrxlWHs",
        "colab": {
          "base_uri": "https://localhost:8080/"
        },
        "outputId": "ed06d43d-6bec-4d34-c7f1-587cf553de1e"
      },
      "execution_count": null,
      "outputs": [
        {
          "output_type": "stream",
          "name": "stdout",
          "text": [
            "a\n",
            "c\n"
          ]
        }
      ]
    },
    {
      "cell_type": "markdown",
      "source": [
        "## dictionary comprehensions"
      ],
      "metadata": {
        "id": "Wz-WQR-9gE56"
      }
    },
    {
      "cell_type": "markdown",
      "source": [
        "在 Python 中，字典推导式（dictionary comprehensions）是一种简洁地创建字典的方法。它的语法和列表推导式类似，但用于生成字典对象。字典推导式的基本语法如下：\n",
        "\n",
        "```python\n",
        "{key: value for item in iterable}\n",
        "```\n",
        "\n",
        "这里的 `key` 和 `value` 可以是任何表达式，而 `iterable` 是一个可迭代对象，比如列表、集合或元组。\n",
        "\n",
        "### 示例\n",
        "\n",
        "1. **简单的字典推导式**\n",
        "\n",
        "   假设你有一个列表，想要创建一个字典，其中列表的元素作为字典的键，对应的值是这些元素的平方。可以这样做：\n",
        "\n",
        "   ```python\n",
        "   numbers = [1, 2, 3, 4, 5]\n",
        "   squares = {x: x**2 for x in numbers}\n",
        "   print(squares)\n",
        "   ```\n",
        "\n",
        "   这将输出：\n",
        "\n",
        "   ```python\n",
        "   {1: 1, 2: 4, 3: 9, 4: 16, 5: 25}\n",
        "   ```\n",
        "\n",
        "2. **带条件的字典推导式**\n",
        "\n",
        "   你还可以在字典推导式中使用条件语句。比如，创建一个只包含偶数的字典：\n",
        "\n",
        "   ```python\n",
        "   numbers = [1, 2, 3, 4, 5, 6]\n",
        "   even_squares = {x: x**2 for x in numbers if x % 2 == 0}\n",
        "   print(even_squares)\n",
        "   ```\n",
        "\n",
        "   这将输出：\n",
        "\n",
        "   ```python\n",
        "   {2: 4, 4: 16, 6: 36}\n",
        "   ```\n",
        "\n",
        "3. **字典推导式的嵌套**\n",
        "\n",
        "   字典推导式也可以嵌套使用。例如，创建一个包含多个字典的字典：\n",
        "\n",
        "   ```python\n",
        "   words = ['apple', 'banana', 'cherry']\n",
        "   word_length = {word: { 'length': len(word), 'first_letter': word[0] } for word in words}\n",
        "   print(word_length)\n",
        "   ```\n",
        "\n",
        "   这将输出：\n",
        "\n",
        "   ```python\n",
        "   {'apple': {'length': 5, 'first_letter': 'a'},\n",
        "    'banana': {'length': 6, 'first_letter': 'b'},\n",
        "    'cherry': {'length': 6, 'first_letter': 'c'}}\n",
        "   ```\n",
        "\n",
        "字典推导式使得代码更加简洁和可读，尤其在需要从其他数据结构快速生成字典时非常有用。"
      ],
      "metadata": {
        "id": "q-N62bd4nvBn"
      }
    },
    {
      "cell_type": "markdown",
      "source": [
        "包含多个字典的列表"
      ],
      "metadata": {
        "id": "0sOUSXFUnyvJ"
      }
    },
    {
      "cell_type": "code",
      "source": [
        "students = [\"Alice\",\"Bob\",\"Caven\"]\n",
        "house = [{\"name\":s,\"house\":\"block1\"} for s in students]\n",
        "\n",
        "print(house)"
      ],
      "metadata": {
        "colab": {
          "base_uri": "https://localhost:8080/"
        },
        "id": "Y_X1bmUp0xPg",
        "outputId": "3e65f07c-e1e8-4724-9e74-351827232351"
      },
      "execution_count": null,
      "outputs": [
        {
          "output_type": "stream",
          "name": "stdout",
          "text": [
            "[{'name': 'Alice', 'house': 'block1'}, {'name': 'Bob', 'house': 'block1'}, {'name': 'Caven', 'house': 'block1'}]\n"
          ]
        }
      ]
    },
    {
      "cell_type": "markdown",
      "source": [
        "字典"
      ],
      "metadata": {
        "id": "K_dtCpMCn1Bj"
      }
    },
    {
      "cell_type": "code",
      "source": [
        "students = [\"Alice\",\"Bob\",\"Caven\"]\n",
        "house = {s:\"block1\" for s in students}\n",
        "\n",
        "print(house)"
      ],
      "metadata": {
        "colab": {
          "base_uri": "https://localhost:8080/"
        },
        "id": "VopbYRZxmQag",
        "outputId": "d0349186-7ec8-4d9c-ced8-cfbf1aaffb60"
      },
      "execution_count": null,
      "outputs": [
        {
          "output_type": "stream",
          "name": "stdout",
          "text": [
            "{'Alice': 'block1', 'Bob': 'block1', 'Caven': 'block1'}\n"
          ]
        }
      ]
    },
    {
      "cell_type": "markdown",
      "source": [
        "s"
      ],
      "metadata": {
        "id": "TelzkbX-n4mn"
      }
    },
    {
      "cell_type": "markdown",
      "source": [
        "## enumerate"
      ],
      "metadata": {
        "id": "7vIoprLgohxl"
      }
    },
    {
      "cell_type": "markdown",
      "source": [
        "当不使用枚举"
      ],
      "metadata": {
        "id": "_6rWuhLFoj-9"
      }
    },
    {
      "cell_type": "code",
      "source": [
        "students = [\"Alice\",\"Bob\",\"Caven\"]\n",
        "for i in range(len(students)):\n",
        "  print(i+1,students[i])"
      ],
      "metadata": {
        "colab": {
          "base_uri": "https://localhost:8080/"
        },
        "id": "AGvxpUn_ndcF",
        "outputId": "d90f2790-7c9e-4940-b14a-8076dc6f8693"
      },
      "execution_count": null,
      "outputs": [
        {
          "output_type": "stream",
          "name": "stdout",
          "text": [
            "1 Alice\n",
            "2 Bob\n",
            "3 Caven\n"
          ]
        }
      ]
    },
    {
      "cell_type": "markdown",
      "source": [
        "enumerate(iterable,start=0)"
      ],
      "metadata": {
        "id": "sbnrMvA2onI0"
      }
    },
    {
      "cell_type": "code",
      "source": [
        "students = [\"Alice\",\"Bob\",\"Caven\"]\n",
        "for i, s in enumerate(students):\n",
        "  print(i+1,s)"
      ],
      "metadata": {
        "colab": {
          "base_uri": "https://localhost:8080/"
        },
        "id": "ryBDqISgocPF",
        "outputId": "fcf82b18-5091-4c2c-e3a5-bb52741f33b5"
      },
      "execution_count": null,
      "outputs": [
        {
          "output_type": "stream",
          "name": "stdout",
          "text": [
            "1 Alice\n",
            "2 Bob\n",
            "3 Caven\n"
          ]
        }
      ]
    },
    {
      "cell_type": "markdown",
      "source": [
        "enumerate(students) 返回的是一个可迭代的对象，生成的每个元素是一个元组 (index, value)。\n",
        "\n",
        "在 for i, s in enumerate(students) 这个循环中，i 和 s 是通过元组解包来赋值的。\n",
        "\n",
        "i 接收元组中的第一个值（索引），s 接收元组中的第二个值（元素）。"
      ],
      "metadata": {
        "id": "Ku9JrHsApYT8"
      }
    },
    {
      "cell_type": "markdown",
      "source": [
        "## generators"
      ],
      "metadata": {
        "id": "_RpLbB1nplr0"
      }
    },
    {
      "cell_type": "code",
      "source": [
        "n = int(input(\"What's n: \"))\n",
        "for i in range(n):\n",
        "  print(\"🐏\"*i)\n",
        "for _ in range(n):\n",
        "  print(\"sheep\")"
      ],
      "metadata": {
        "colab": {
          "base_uri": "https://localhost:8080/"
        },
        "id": "8MAOem2Uozzk",
        "outputId": "0201ccd5-aa63-485c-8f80-18f413ff1883"
      },
      "execution_count": null,
      "outputs": [
        {
          "output_type": "stream",
          "name": "stdout",
          "text": [
            "What's n: 4\n",
            "\n",
            "🐏\n",
            "🐏🐏\n",
            "🐏🐏🐏\n",
            "sheep\n",
            "sheep\n",
            "sheep\n",
            "sheep\n"
          ]
        }
      ]
    },
    {
      "cell_type": "code",
      "source": [
        "def sheep(n):\n",
        "  flock = []\n",
        "  for i in range(n):\n",
        "    flock.append(\"🐏\"*i)\n",
        "  return flock\n",
        "\n",
        "def main():\n",
        "  n = int(input(\"What's n: \"))\n",
        "  for s in sheep(n):\n",
        "    print(s)\n",
        "\n",
        "main()"
      ],
      "metadata": {
        "colab": {
          "base_uri": "https://localhost:8080/"
        },
        "id": "y6mWqSQaqWTl",
        "outputId": "6e5971c2-dd64-4f5d-826e-578c5eb18988"
      },
      "execution_count": null,
      "outputs": [
        {
          "output_type": "stream",
          "name": "stdout",
          "text": [
            "What's n: 4\n",
            "\n",
            "🐏\n",
            "🐏🐏\n",
            "🐏🐏🐏\n"
          ]
        }
      ]
    },
    {
      "cell_type": "code",
      "source": [
        "def sheep(n):\n",
        "  flock = []\n",
        "  for i in range(n):\n",
        "    yield \"🐏\"*i\n",
        "\n",
        "def main():\n",
        "  n = int(input(\"What's n: \"))\n",
        "  for s in sheep(n):\n",
        "    print(s)\n",
        "\n",
        "main()"
      ],
      "metadata": {
        "id": "OL8qPySluTYS"
      },
      "execution_count": null,
      "outputs": []
    },
    {
      "cell_type": "markdown",
      "source": [
        "`yield` 是 Python 中的一个关键字，用于定义生成器（generator）。生成器是一种特殊类型的迭代器，可以在遍历时逐步生成值，而不是一次性生成所有值。这使得生成器在处理大量数据或无限序列时特别有用，因为它们能按需生成数据，从而节省内存。\n",
        "\n",
        "### 基本用法\n",
        "\n",
        "1. **生成器函数**\n",
        "\n",
        "   使用 `yield` 定义的函数称为生成器函数。每次调用生成器函数时，它会返回一个生成器对象，该对象可以在循环中逐个生成值。\n",
        "\n",
        "   例如，以下是一个简单的生成器函数：\n",
        "\n",
        "   ```python\n",
        "   def count_up_to(max):\n",
        "       count = 1\n",
        "       while count <= max:\n",
        "           yield count\n",
        "           count += 1\n",
        "   ```\n",
        "\n",
        "   这个函数生成从 `1` 到 `max` 的整数序列。每次调用 `yield` 时，函数会返回当前的 `count` 值，并暂停执行。下次迭代时，函数会从上次暂停的地方继续执行。\n",
        "\n",
        "2. **使用生成器**\n",
        "\n",
        "   你可以使用生成器对象来遍历生成的值。例如：\n",
        "\n",
        "   ```python\n",
        "   counter = count_up_to(5)\n",
        "   for num in counter:\n",
        "       print(num)\n",
        "   ```\n",
        "\n",
        "   这段代码会输出：\n",
        "\n",
        "   ```\n",
        "   1\n",
        "   2\n",
        "   3\n",
        "   4\n",
        "   5\n",
        "   ```\n",
        "\n",
        "   每次 `for` 循环迭代时，生成器函数都会继续执行到下一个 `yield` 语句，并返回一个新的值。\n",
        "\n",
        "### `yield` 的特点\n",
        "\n",
        "- **延迟计算**：生成器在需要时才计算值，不会一次性计算所有值，这样能节省内存。\n",
        "- **状态保持**：生成器函数在每次 `yield` 时会保存当前的执行状态，包括局部变量和执行位置。\n",
        "- **可迭代性**：生成器对象是可迭代的，可以使用 `for` 循环或 `next()` 函数遍历生成的值。\n",
        "\n",
        "### 示例\n",
        "\n",
        "生成斐波那契数列的生成器：\n",
        "\n",
        "```python\n",
        "def fibonacci():\n",
        "    a, b = 0, 1\n",
        "    while True:\n",
        "        yield a\n",
        "        a, b = b, a + b\n",
        "```\n",
        "\n",
        "这个生成器会无限生成斐波那契数列的值。你可以使用 `for` 循环或 `next()` 来获取需要的数量的斐波那契数。\n",
        "\n",
        "总之，`yield` 使得函数能够生成一个序列的值，并在需要时逐个返回这些值，这对处理大量数据和流数据非常有用。"
      ],
      "metadata": {
        "id": "0HPSh4ePuQf_"
      }
    },
    {
      "cell_type": "code",
      "source": [],
      "metadata": {
        "id": "la25aeCgsMeE"
      },
      "execution_count": null,
      "outputs": []
    }
  ]
}